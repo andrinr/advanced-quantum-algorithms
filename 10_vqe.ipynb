{
 "cells": [
  {
   "cell_type": "code",
   "execution_count": 3,
   "metadata": {},
   "outputs": [],
   "source": [
    "import numpy as np\n",
    "import scipy as sp\n",
    "\n",
    "from qiskit import QuantumCircuit\n",
    "from qiskit.circuit import Parameter\n",
    "from qiskit.circuit.library import EvolvedOperatorAnsatz\n",
    "from qiskit.quantum_info import SparsePauliOp\n",
    "\n",
    "from qiskit_nature.second_q.operators import FermionicOp\n",
    "from qiskit_nature.second_q.mappers import JordanWignerMapper\n",
    "from qiskit_nature.settings import QiskitNatureSettings\n",
    "\n",
    "QiskitNatureSettings.use_pauli_sum_op = False"
   ]
  },
  {
   "cell_type": "markdown",
   "metadata": {},
   "source": [
    "# Generate parametrized quantum circuits with Qiskit"
   ]
  },
  {
   "cell_type": "code",
   "execution_count": 4,
   "metadata": {},
   "outputs": [],
   "source": [
    "def get_hubbard_hamiltian(num_sites, t, U):\n",
    "    \"\"\"Constructs the Hubbard Hamiltonian in the dict format supported by qiskit-nature.\n",
    "    Returns a list with two elements, the first being a dict containing the hopping terms,\n",
    "    the second the onsite terms.\n",
    "    \"\"\"\n",
    "    hopping = {}\n",
    "    onsite = {}\n",
    "    for n in range(num_sites - 1):\n",
    "        hopping[f\"+_{n + 1} -_{n}\"] = -t\n",
    "        hopping[f\"+_{n} -_{n + 1}\"] = -t\n",
    "        hopping[f\"+_{n + 1 + num_sites} -_{n + num_sites}\"] = -t\n",
    "        hopping[f\"+_{n + num_sites} -_{n + 1 + num_sites}\"] = -t\n",
    "\n",
    "        onsite[f\"+_{n} -_{n} +_{n + num_sites} -_{n + num_sites}\"] = U\n",
    "        onsite[f\"+_{n + 1} -_{n + 1} +_{n + 1 + num_sites} -_{n + 1 + num_sites}\"] = U\n",
    "\n",
    "    return [hopping, onsite]"
   ]
  },
  {
   "cell_type": "code",
   "execution_count": 5,
   "metadata": {},
   "outputs": [
    {
     "name": "stdout",
     "output_type": "stream",
     "text": [
      "Fermionic Operator\n",
      "number spin orbitals=4, number terms=4\n",
      "  -1 * ( +_1 -_0 )\n",
      "+ -1 * ( +_0 -_1 )\n",
      "+ -1 * ( +_3 -_2 )\n",
      "+ -1 * ( +_2 -_3 )\n",
      "Fermionic Operator\n",
      "number spin orbitals=4, number terms=2\n",
      "  1 * ( +_0 -_0 +_2 -_2 )\n",
      "+ 1 * ( +_1 -_1 +_3 -_3 )\n"
     ]
    }
   ],
   "source": [
    "# Define the system parameters\n",
    "num_sites = 2\n",
    "t = 1\n",
    "U = 1\n",
    "\n",
    "# get the dictionary of second quantization operators\n",
    "hubbard_ops = get_hubbard_hamiltian(num_sites, t, U)\n",
    "\n",
    "# map the second quantization operators to Pauli operators\n",
    "num_orbitals = 2 * num_sites\n",
    "ops_mapped = []\n",
    "for term in hubbard_ops:\n",
    "    op = FermionicOp(\n",
    "        term,\n",
    "        num_spin_orbitals=num_orbitals,\n",
    "    )\n",
    "    print(op)\n",
    "\n",
    "    ops_mapped.append(JordanWignerMapper().map(op))\n",
    "\n",
    "# get the Hamiltonian matrix\n",
    "H = sum(ops_mapped)"
   ]
  },
  {
   "cell_type": "code",
   "execution_count": 6,
   "metadata": {},
   "outputs": [],
   "source": [
    "init_circ = QuantumCircuit(num_orbitals)\n",
    "for i in range(int(num_sites / 2)):\n",
    "    init_circ.x([i, i + num_sites])\n",
    "\n",
    "ansatz = EvolvedOperatorAnsatz(\n",
    "    operators=[SparsePauliOp(op.paulis) for op in ops_mapped],\n",
    "    reps=2,\n",
    "    initial_state=init_circ,\n",
    "    insert_barriers=True,\n",
    ")"
   ]
  },
  {
   "cell_type": "code",
   "execution_count": 7,
   "metadata": {},
   "outputs": [
    {
     "name": "stdout",
     "output_type": "stream",
     "text": [
      "global phase: -1.0*t[1] - 1.0*t[3]\n",
      "     ┌──────────┐┌────────────────┐┌────────────────┐┌──────────────┐»\n",
      "q_0: ┤ U(π,0,π) ├┤0               ├┤0               ├┤ Rz(2.0*t[1]) ├»\n",
      "     └──────────┘│  Rxx(2.0*t[0]) ││  Ryy(2.0*t[0]) │├──────────────┤»\n",
      "q_1: ────────────┤1               ├┤1               ├┤ Rz(2.0*t[1]) ├»\n",
      "     ┌──────────┐├────────────────┤├────────────────┤├──────────────┤»\n",
      "q_2: ┤ U(π,0,π) ├┤0               ├┤0               ├┤ Rz(2.0*t[1]) ├»\n",
      "     └──────────┘│  Rxx(2.0*t[0]) ││  Ryy(2.0*t[0]) │├──────────────┤»\n",
      "q_3: ────────────┤1               ├┤1               ├┤ Rz(2.0*t[1]) ├»\n",
      "                 └────────────────┘└────────────────┘└──────────────┘»\n",
      "«                                    ░ ┌────────────────┐┌────────────────┐»\n",
      "«q_0: ─■─────────────────────────────░─┤0               ├┤0               ├»\n",
      "«      │                             ░ │  Rxx(2.0*t[2]) ││  Ryy(2.0*t[2]) │»\n",
      "«q_1: ─┼──────────────■──────────────░─┤1               ├┤1               ├»\n",
      "«      │ZZ(2.0*t[1])  │              ░ ├────────────────┤├────────────────┤»\n",
      "«q_2: ─■──────────────┼──────────────░─┤0               ├┤0               ├»\n",
      "«                     │ZZ(2.0*t[1])  ░ │  Rxx(2.0*t[2]) ││  Ryy(2.0*t[2]) │»\n",
      "«q_3: ────────────────■──────────────░─┤1               ├┤1               ├»\n",
      "«                                    ░ └────────────────┘└────────────────┘»\n",
      "«     ┌──────────────┐                               ░ \n",
      "«q_0: ┤ Rz(2.0*t[3]) ├─■─────────────────────────────░─\n",
      "«     ├──────────────┤ │                             ░ \n",
      "«q_1: ┤ Rz(2.0*t[3]) ├─┼──────────────■──────────────░─\n",
      "«     ├──────────────┤ │ZZ(2.0*t[3])  │              ░ \n",
      "«q_2: ┤ Rz(2.0*t[3]) ├─■──────────────┼──────────────░─\n",
      "«     ├──────────────┤                │ZZ(2.0*t[3])  ░ \n",
      "«q_3: ┤ Rz(2.0*t[3]) ├────────────────■──────────────░─\n",
      "«     └──────────────┘                               ░ \n"
     ]
    }
   ],
   "source": [
    "print(ansatz.decompose().decompose().decompose())"
   ]
  },
  {
   "cell_type": "code",
   "execution_count": 13,
   "metadata": {},
   "outputs": [],
   "source": [
    "param_vals = np.random.rand(ansatz.num_parameters)\n",
    "\n",
    "bound_circ = ansatz.bind_parameters(\n",
    "    {x_i: param_vals[i] for i, x_i in enumerate(ansatz.parameters)}\n",
    ")"
   ]
  },
  {
   "cell_type": "code",
   "execution_count": 20,
   "metadata": {},
   "outputs": [
    {
     "name": "stdout",
     "output_type": "stream",
     "text": [
      "     ┌──────────────────────────────────┐\n",
      "q_0: ┤0                                 ├\n",
      "     │                                  │\n",
      "q_1: ┤1                                 ├\n",
      "     │  EvolvedOps(t[0],t[1],t[2],t[3]) │\n",
      "q_2: ┤2                                 ├\n",
      "     │                                  │\n",
      "q_3: ┤3                                 ├\n",
      "     └──────────────────────────────────┘\n",
      "     ┌──────────────────────────────────────────────┐\n",
      "q_0: ┤0                                             ├\n",
      "     │                                              │\n",
      "q_1: ┤1                                             ├\n",
      "     │  EvolvedOps(0.60519,0.44408,0.55243,0.73077) │\n",
      "q_2: ┤2                                             ├\n",
      "     │                                              │\n",
      "q_3: ┤3                                             ├\n",
      "     └──────────────────────────────────────────────┘\n",
      "global phase: 5.1083\n",
      "     ┌──────────┐┌──────────────┐┌──────────────┐┌─────────────┐              »\n",
      "q_0: ┤ U(π,0,π) ├┤0             ├┤0             ├┤ Rz(0.88816) ├─■────────────»\n",
      "     └──────────┘│  Rxx(1.2104) ││  Ryy(1.2104) │├─────────────┤ │            »\n",
      "q_1: ────────────┤1             ├┤1             ├┤ Rz(0.88816) ├─┼────────────»\n",
      "     ┌──────────┐├──────────────┤├──────────────┤├─────────────┤ │ZZ(0.88816) »\n",
      "q_2: ┤ U(π,0,π) ├┤0             ├┤0             ├┤ Rz(0.88816) ├─■────────────»\n",
      "     └──────────┘│  Rxx(1.2104) ││  Ryy(1.2104) │├─────────────┤              »\n",
      "q_3: ────────────┤1             ├┤1             ├┤ Rz(0.88816) ├──────────────»\n",
      "                 └──────────────┘└──────────────┘└─────────────┘              »\n",
      "«                    ░ ┌──────────────┐┌──────────────┐┌────────────┐»\n",
      "«q_0: ───────────────░─┤0             ├┤0             ├┤ Rz(1.4615) ├»\n",
      "«                    ░ │  Rxx(1.1049) ││  Ryy(1.1049) │├────────────┤»\n",
      "«q_1: ─■─────────────░─┤1             ├┤1             ├┤ Rz(1.4615) ├»\n",
      "«      │             ░ ├──────────────┤├──────────────┤├────────────┤»\n",
      "«q_2: ─┼─────────────░─┤0             ├┤0             ├┤ Rz(1.4615) ├»\n",
      "«      │ZZ(0.88816)  ░ │  Rxx(1.1049) ││  Ryy(1.1049) │├────────────┤»\n",
      "«q_3: ─■─────────────░─┤1             ├┤1             ├┤ Rz(1.4615) ├»\n",
      "«                    ░ └──────────────┘└──────────────┘└────────────┘»\n",
      "«                                ░ \n",
      "«q_0: ─■─────────────────────────░─\n",
      "«      │                         ░ \n",
      "«q_1: ─┼────────────■────────────░─\n",
      "«      │ZZ(1.4615)  │            ░ \n",
      "«q_2: ─■────────────┼────────────░─\n",
      "«                   │ZZ(1.4615)  ░ \n",
      "«q_3: ──────────────■────────────░─\n",
      "«                                ░ \n"
     ]
    }
   ],
   "source": [
    "print(ansatz)\n",
    "print(bound_circ)\n",
    "print(bound_circ.decompose().decompose().decompose())"
   ]
  },
  {
   "cell_type": "markdown",
   "metadata": {},
   "source": [
    "# Cost function evaluation using SciPy"
   ]
  },
  {
   "cell_type": "code",
   "execution_count": 8,
   "metadata": {},
   "outputs": [],
   "source": [
    "def cost_fun(x, coeff):\n",
    "    cost = coeff[0] * (x[0] - 1) ** 2 + coeff[1] * (x[1] - 2.5) ** 2\n",
    "    print(cost)\n",
    "    return cost"
   ]
  },
  {
   "cell_type": "code",
   "execution_count": 10,
   "metadata": {},
   "outputs": [
    {
     "name": "stdout",
     "output_type": "stream",
     "text": [
      "20.75\n",
      "26.75\n",
      "8.75\n",
      "1.711300899000926\n",
      "2.650751504576093\n",
      "0.26710182256377607\n",
      "3.5826240683041894\n",
      "0.3952800854608933\n",
      "0.1818218389389144\n",
      "0.40572580006566655\n",
      "0.005767871210886576\n",
      "0.16358060374081046\n",
      "0.015185385551978962\n",
      "0.017678215951285724\n",
      "0.019555462304911973\n",
      "0.0010243687123151907\n",
      "0.0037065460937771204\n",
      "0.0003577053117217971\n",
      "0.0019212175319351038\n",
      "0.0005069289372852195\n",
      "0.00010731261230146431\n",
      "0.0001754921190776399\n",
      "1.8489151149912667e-05\n",
      "0.00011024678719806189\n",
      "3.410640002194436e-05\n",
      "5.821045493525303e-06\n",
      "2.1517235291323945e-05\n",
      "1.6636113595986393e-07\n",
      "3.883023084480454e-06\n",
      "2.6810526529008448e-06\n",
      "1.1900201989216171e-07\n",
      "4.1518742585949045e-07\n",
      "2.0415546553708333e-07\n",
      "1.1065891791714441e-07\n",
      "1.6201520847598855e-07\n",
      "4.002888559864938e-08\n",
      "1.0634020531221324e-08\n",
      "6.230582103240182e-08\n",
      "4.252795186348859e-09\n",
      " message: Optimization terminated successfully.\n",
      " success: True\n",
      "  status: 1\n",
      "     fun: 4.252795186348859e-09\n",
      "       x: [ 1.000e+00  2.500e+00]\n",
      "    nfev: 39\n",
      "   maxcv: 0.0\n"
     ]
    }
   ],
   "source": [
    "coeff = [2, 3]\n",
    "init_vals = [2, 0]\n",
    "\n",
    "opt_res = sp.optimize.minimize(cost_fun, init_vals, args=(coeff), method=\"COBYLA\", options={\"maxiter\": 1000})\n",
    "print(opt_res)"
   ]
  },
  {
   "cell_type": "code",
   "execution_count": null,
   "metadata": {},
   "outputs": [],
   "source": []
  },
  {
   "cell_type": "code",
   "execution_count": null,
   "metadata": {},
   "outputs": [],
   "source": []
  }
 ],
 "metadata": {
  "kernelspec": {
   "display_name": "aqa-env",
   "language": "python",
   "name": "python3"
  },
  "language_info": {
   "codemirror_mode": {
    "name": "ipython",
    "version": 3
   },
   "file_extension": ".py",
   "mimetype": "text/x-python",
   "name": "python",
   "nbconvert_exporter": "python",
   "pygments_lexer": "ipython3",
   "version": "3.10.13"
  }
 },
 "nbformat": 4,
 "nbformat_minor": 2
}
