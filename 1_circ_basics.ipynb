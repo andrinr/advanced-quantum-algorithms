{
 "cells": [
  {
   "cell_type": "code",
   "execution_count": 1,
   "metadata": {},
   "outputs": [],
   "source": [
    "import numpy as np\n",
    "\n",
    "from qiskit import QuantumCircuit\n",
    "from qiskit.circuit import Parameter\n",
    "from qiskit.quantum_info import Statevector, Operator\n",
    "from qiskit.visualization import array_to_latex"
   ]
  },
  {
   "cell_type": "markdown",
   "metadata": {},
   "source": [
    "# Introduction circuits, gates, matrix representations\n",
    "- circuits are diagrammatic representation of unitary operators (matrices / operators). E.g.: $R_z(\\theta) = \\exp(-i \\theta Z / 2)$\n",
    "- [List of quantum gates (wikipedia)](https://en.wikipedia.org/wiki/List_of_quantum_logic_gates)\n",
    "- [List of gates pre-defined in Qiskit](https://qiskit.org/documentation/apidoc/circuit_library.html#module-qiskit.circuit.library)"
   ]
  },
  {
   "cell_type": "markdown",
   "metadata": {},
   "source": [
    "### Single qubit operations"
   ]
  },
  {
   "cell_type": "markdown",
   "metadata": {},
   "source": [
    "##### Computational basis states\n",
    "\n",
    "$$\n",
    "| 0 \\rangle = | \\uparrow \\rangle = \\begin{pmatrix} 1 \\\\ 0 \\end{pmatrix} \\ , \\ \\ | 1 \\rangle = | \\downarrow \\rangle = \\begin{pmatrix} 0 \\\\ 1 \\end{pmatrix}\n",
    "$$"
   ]
  },
  {
   "cell_type": "code",
   "execution_count": 2,
   "metadata": {},
   "outputs": [
    {
     "name": "stdout",
     "output_type": "stream",
     "text": [
      "[1.+0.j 0.+0.j]\n"
     ]
    },
    {
     "data": {
      "text/latex": [
       "$$ |0\\rangle$$"
      ],
      "text/plain": [
       "<IPython.core.display.Latex object>"
      ]
     },
     "execution_count": 2,
     "metadata": {},
     "output_type": "execute_result"
    }
   ],
   "source": [
    "circ = QuantumCircuit(1)\n",
    "\n",
    "state = Statevector(circ)\n",
    "print(state.data)\n",
    "state.draw('latex')\n",
    "\n"
   ]
  },
  {
   "cell_type": "code",
   "execution_count": 3,
   "metadata": {},
   "outputs": [
    {
     "name": "stdout",
     "output_type": "stream",
     "text": [
      "   ┌───┐\n",
      "q: ┤ X ├\n",
      "   └───┘\n",
      "[0.+0.j 1.+0.j]\n"
     ]
    },
    {
     "data": {
      "text/latex": [
       "$$ |1\\rangle$$"
      ],
      "text/plain": [
       "<IPython.core.display.Latex object>"
      ]
     },
     "execution_count": 3,
     "metadata": {},
     "output_type": "execute_result"
    }
   ],
   "source": [
    "circ = QuantumCircuit(1)\n",
    "circ.x(0)\n",
    "print(circ.draw())\n",
    "\n",
    "state = Statevector(circ)\n",
    "print(state.data)\n",
    "state.draw('latex')\n"
   ]
  },
  {
   "cell_type": "code",
   "execution_count": 4,
   "metadata": {},
   "outputs": [
    {
     "name": "stdout",
     "output_type": "stream",
     "text": [
      "   ┌───┐\n",
      "q: ┤ H ├\n",
      "   └───┘\n",
      "[0.70710678+0.j 0.70710678+0.j]\n"
     ]
    },
    {
     "data": {
      "text/latex": [
       "$$\\frac{\\sqrt{2}}{2} |0\\rangle+\\frac{\\sqrt{2}}{2} |1\\rangle$$"
      ],
      "text/plain": [
       "<IPython.core.display.Latex object>"
      ]
     },
     "execution_count": 4,
     "metadata": {},
     "output_type": "execute_result"
    }
   ],
   "source": [
    "circ = QuantumCircuit(1)\n",
    "circ.h(0)\n",
    "print(circ.draw())\n",
    "\n",
    "state = Statevector(circ)\n",
    "print(state.data)\n",
    "state.draw('latex')\n"
   ]
  },
  {
   "cell_type": "markdown",
   "metadata": {},
   "source": [
    "#### Rotational gates\n",
    "\n",
    "- with $\\sigma^\\mu$ being one of the Pauli matrices, $ \\sigma^\\mu \\in \\{ X, Y, Z\\}$,\n",
    "$$\n",
    "R_\\mu (\\theta) = \\exp \\bigl( -i \\frac{\\theta}{2} \\sigma^\\mu \\bigr) = \\cos \\bigl( \\frac{\\theta}{2} \\bigr) I - i \\sin \\bigl( \\frac{\\theta}{2} \\bigr) \\sigma^\\mu\n",
    "$$\n",
    "- Can use rotation gates to generate other gates, e.g.,\n",
    "$$\n",
    "H = R_y(\\pi / 2) Z\n",
    "$$"
   ]
  },
  {
   "cell_type": "code",
   "execution_count": 5,
   "metadata": {},
   "outputs": [
    {
     "name": "stdout",
     "output_type": "stream",
     "text": [
      "   ┌─────────┐\n",
      "q: ┤ Ry(π/2) ├\n",
      "   └─────────┘\n",
      "[0.70710678+0.j 0.70710678+0.j]\n"
     ]
    },
    {
     "data": {
      "text/latex": [
       "$$\\frac{\\sqrt{2}}{2} |0\\rangle+\\frac{\\sqrt{2}}{2} |1\\rangle$$"
      ],
      "text/plain": [
       "<IPython.core.display.Latex object>"
      ]
     },
     "execution_count": 5,
     "metadata": {},
     "output_type": "execute_result"
    }
   ],
   "source": [
    "circ = QuantumCircuit(1)\n",
    "# circ.z(0)\n",
    "circ.ry(np.pi/2, 0)\n",
    "print(circ.draw())\n",
    "\n",
    "state = Statevector(circ)\n",
    "print(state.data)\n",
    "state.draw('latex')"
   ]
  },
  {
   "cell_type": "markdown",
   "metadata": {},
   "source": [
    "These gates can be parametrized as well."
   ]
  },
  {
   "cell_type": "code",
   "execution_count": 6,
   "metadata": {},
   "outputs": [
    {
     "name": "stdout",
     "output_type": "stream",
     "text": [
      "   ┌───────┐\n",
      "q: ┤ Ry(a) ├\n",
      "   └───────┘\n"
     ]
    }
   ],
   "source": [
    "param = Parameter('a')\n",
    "\n",
    "circ = QuantumCircuit(1)\n",
    "circ.ry(param, 0)\n",
    "\n",
    "print(circ.draw())\n"
   ]
  },
  {
   "cell_type": "code",
   "execution_count": 7,
   "metadata": {},
   "outputs": [
    {
     "name": "stdout",
     "output_type": "stream",
     "text": [
      "   ┌─────────┐\n",
      "q: ┤ Ry(π/2) ├\n",
      "   └─────────┘\n"
     ]
    },
    {
     "data": {
      "text/latex": [
       "$$\\frac{\\sqrt{2}}{2} |0\\rangle+\\frac{\\sqrt{2}}{2} |1\\rangle$$"
      ],
      "text/plain": [
       "<IPython.core.display.Latex object>"
      ]
     },
     "execution_count": 7,
     "metadata": {},
     "output_type": "execute_result"
    }
   ],
   "source": [
    "circ_bound = circ.bind_parameters({param: np.pi/2})\n",
    "print(circ_bound.draw())\n",
    "\n",
    "Statevector(circ_bound).draw('latex')\n"
   ]
  },
  {
   "cell_type": "markdown",
   "metadata": {},
   "source": [
    "In reality, one does not have access to the statevector. Qubits are measured and will collapse\n",
    "onto specific (computational) basis state. One has to prepare the state / circuit multiple times\n",
    "and repeatedly measure the state to obtain statistics for the state. This results in a probability\n",
    "distribution of basis states, each with probability\n",
    "$$\n",
    "\\mathrm{Pr}(|\\alpha \\rangle) = | \\langle \\alpha | \\psi \\rangle|^2 \\ .\n",
    "$$\n",
    "\n",
    "For the above GHZ state, the probability for both basis states is 0.5 each. We can add measurements to our circuit and simulate this measurement process."
   ]
  },
  {
   "cell_type": "code",
   "execution_count": 8,
   "metadata": {},
   "outputs": [
    {
     "data": {
      "image/png": "[encoded data removed]",
      "text/plain": [
       "<Figure size 413.165x200.667 with 1 Axes>"
      ]
     },
     "execution_count": 8,
     "metadata": {},
     "output_type": "execute_result"
    }
   ],
   "source": [
    "circ_bound.measure_all()\n",
    "circ_bound.draw('mpl')"
   ]
  },
  {
   "cell_type": "code",
   "execution_count": 9,
   "metadata": {},
   "outputs": [],
   "source": [
    "from qiskit_aer import AerSimulator\n",
    "from qiskit.visualization import plot_histogram"
   ]
  },
  {
   "cell_type": "code",
   "execution_count": 10,
   "metadata": {},
   "outputs": [],
   "source": [
    "shots = 1000\n",
    "result = AerSimulator().run(circuits=circ_bound, shots=shots).result()\n",
    "counts = result.get_counts()\n"
   ]
  },
  {
   "cell_type": "code",
   "execution_count": 11,
   "metadata": {},
   "outputs": [
    {
     "name": "stdout",
     "output_type": "stream",
     "text": [
      "{'1': 511, '0': 489}\n",
      "0.489 0.511\n"
     ]
    },
    {
     "data": {
      "image/png": "[encoded data removed]",
      "text/plain": [
       "<Figure size 700x500 with 1 Axes>"
      ]
     },
     "execution_count": 11,
     "metadata": {},
     "output_type": "execute_result"
    }
   ],
   "source": [
    "print(counts)\n",
    "print(counts[\"0\"]/shots, counts[\"1\"]/shots)\n",
    "plot_histogram(counts)\n"
   ]
  },
  {
   "cell_type": "markdown",
   "metadata": {},
   "source": [
    "Now let's see how this changes with more shots"
   ]
  },
  {
   "cell_type": "code",
   "execution_count": 12,
   "metadata": {},
   "outputs": [
    {
     "name": "stdout",
     "output_type": "stream",
     "text": [
      "for 100.0 shots, the counts are {'1': 50, '0': 50} with probabilities 0: 0.5, 1: 0.5\n",
      "for 1000.0 shots, the counts are {'0': 538, '1': 462} with probabilities 0: 0.538, 1: 0.462\n",
      "for 10000.0 shots, the counts are {'0': 4972, '1': 5028} with probabilities 0: 0.4972, 1: 0.5028\n",
      "for 100000.0 shots, the counts are {'1': 50284, '0': 49716} with probabilities 0: 0.49716, 1: 0.50284\n"
     ]
    }
   ],
   "source": [
    "shot_vals = [1e2, 1e3, 1e4, 1e5]\n",
    "for shots in shot_vals:\n",
    "    result = AerSimulator().run(circuits=circ_bound, shots=shots).result()\n",
    "    counts = result.get_counts()\n",
    "\n",
    "    print(f\"for {shots} shots, the counts are {counts} with probabilities 0: {counts['0']/shots}, 1: {counts['1']/shots}\")"
   ]
  },
  {
   "cell_type": "code",
   "execution_count": 13,
   "metadata": {},
   "outputs": [
    {
     "data": {
      "text/latex": [
       "$$\\frac{\\sqrt{2}}{2} |0\\rangle- \\frac{\\sqrt{2}}{2} |1\\rangle$$"
      ],
      "text/plain": [
       "<IPython.core.display.Latex object>"
      ]
     },
     "execution_count": 13,
     "metadata": {},
     "output_type": "execute_result"
    }
   ],
   "source": [
    "circ_phase = QuantumCircuit(1)\n",
    "circ_phase.ry(-np.pi/2, 0)\n",
    "\n",
    "Statevector(circ_phase).draw('latex')"
   ]
  },
  {
   "cell_type": "code",
   "execution_count": 14,
   "metadata": {},
   "outputs": [],
   "source": [
    "circ_phase.measure_all()"
   ]
  },
  {
   "cell_type": "code",
   "execution_count": 15,
   "metadata": {},
   "outputs": [],
   "source": [
    "shots = 1000\n",
    "result = AerSimulator().run(circuits=circ_bound, shots=shots).result()\n",
    "counts = result.get_counts()"
   ]
  },
  {
   "cell_type": "code",
   "execution_count": 16,
   "metadata": {},
   "outputs": [
    {
     "name": "stdout",
     "output_type": "stream",
     "text": [
      "{'1': 503, '0': 497}\n",
      "0.497 0.503\n"
     ]
    },
    {
     "data": {
      "image/png": "[encoded data removed]",
      "text/plain": [
       "<Figure size 700x500 with 1 Axes>"
      ]
     },
     "execution_count": 16,
     "metadata": {},
     "output_type": "execute_result"
    }
   ],
   "source": [
    "print(counts)\n",
    "print(counts[\"0\"]/shots, counts[\"1\"]/shots)\n",
    "plot_histogram(counts)"
   ]
  },
  {
   "cell_type": "markdown",
   "metadata": {},
   "source": [
    "### Multi qubit states and operations\n",
    "\n",
    "- **Important: Qiskit uses little endian** ([see here](https://qiskit.org/documentation/tutorials/circuits/3_summary_of_quantum_operations.html#Basis-vector-ordering-in-Qiskit))\n",
    "- This is the opposite to conventional textbooks, including the lecture notes\n",
    "- This means, the most significant bit appears left most while the least significant bit is written right-most."
   ]
  },
  {
   "cell_type": "code",
   "execution_count": 18,
   "metadata": {},
   "outputs": [
    {
     "name": "stdout",
     "output_type": "stream",
     "text": [
      "[0.+0.j 1.+0.j 0.+0.j 0.+0.j]\n"
     ]
    },
    {
     "data": {
      "text/latex": [
       "$$ |01\\rangle$$"
      ],
      "text/plain": [
       "<IPython.core.display.Latex object>"
      ]
     },
     "execution_count": 18,
     "metadata": {},
     "output_type": "execute_result"
    }
   ],
   "source": [
    "# Flipping qubit 0 actually flips the right-most qubit in the register\n",
    "circ = QuantumCircuit(2)\n",
    "circ.x(0)\n",
    "\n",
    "state = Statevector(circ)\n",
    "print(state.data)\n",
    "state.draw('latex')\n"
   ]
  },
  {
   "cell_type": "code",
   "execution_count": 19,
   "metadata": {},
   "outputs": [
    {
     "name": "stdout",
     "output_type": "stream",
     "text": [
      "     ┌───┐\n",
      "q_0: ┤ X ├\n",
      "     └───┘\n",
      "q_1: ─────\n",
      "          \n",
      "q_2: ─────\n",
      "          \n",
      "[0.+0.j 1.+0.j 0.+0.j 0.+0.j 0.+0.j 0.+0.j 0.+0.j 0.+0.j]\n"
     ]
    },
    {
     "data": {
      "text/latex": [
       "$$ |001\\rangle$$"
      ],
      "text/plain": [
       "<IPython.core.display.Latex object>"
      ]
     },
     "execution_count": 19,
     "metadata": {},
     "output_type": "execute_result"
    }
   ],
   "source": [
    "# Flipping qubit 0 actually flips the right-most qubit in the register\n",
    "circ = QuantumCircuit(3)\n",
    "circ.x(0)\n",
    "print(circ.draw())\n",
    "\n",
    "state = Statevector(circ)\n",
    "print(state.data)\n",
    "state.draw('latex')\n"
   ]
  },
  {
   "cell_type": "code",
   "execution_count": 20,
   "metadata": {},
   "outputs": [
    {
     "name": "stdout",
     "output_type": "stream",
     "text": [
      "          \n",
      "q_0: ─────\n",
      "          \n",
      "q_1: ─────\n",
      "     ┌───┐\n",
      "q_2: ┤ X ├\n",
      "     └───┘\n",
      "[0.+0.j 0.+0.j 0.+0.j 0.+0.j 1.+0.j 0.+0.j 0.+0.j 0.+0.j]\n"
     ]
    },
    {
     "data": {
      "text/latex": [
       "$$ |100\\rangle$$"
      ],
      "text/plain": [
       "<IPython.core.display.Latex object>"
      ]
     },
     "execution_count": 20,
     "metadata": {},
     "output_type": "execute_result"
    }
   ],
   "source": [
    "# Flipping qubit 2 actually flips the right-most qubit in the register\n",
    "circ = QuantumCircuit(3)\n",
    "circ.x(2)\n",
    "print(circ.draw())\n",
    "\n",
    "state = Statevector(circ)\n",
    "print(state.data)\n",
    "state.draw('latex')\n"
   ]
  },
  {
   "cell_type": "markdown",
   "metadata": {},
   "source": [
    "The CNOT (or CX) gate flips the target qubit if the control qubit is in state $|1 \\rangle$"
   ]
  },
  {
   "cell_type": "code",
   "execution_count": 22,
   "metadata": {},
   "outputs": [
    {
     "name": "stdout",
     "output_type": "stream",
     "text": [
      "          \n",
      "q_0: ──■──\n",
      "     ┌─┴─┐\n",
      "q_1: ┤ X ├\n",
      "     └───┘\n",
      "[[1.+0.j 0.+0.j 0.+0.j 0.+0.j]\n",
      " [0.+0.j 0.+0.j 0.+0.j 1.+0.j]\n",
      " [0.+0.j 0.+0.j 1.+0.j 0.+0.j]\n",
      " [0.+0.j 1.+0.j 0.+0.j 0.+0.j]]\n"
     ]
    }
   ],
   "source": [
    "circ = QuantumCircuit(2)\n",
    "circ.cx(0, 1)\n",
    "print(circ.draw())\n",
    "\n",
    "matrix = Operator(circ).data\n",
    "print(matrix)"
   ]
  },
  {
   "cell_type": "code",
   "execution_count": 23,
   "metadata": {},
   "outputs": [
    {
     "data": {
      "text/latex": [
       "$$\n",
       "\n",
       "\\begin{bmatrix}\n",
       "1 & 0 & 0 & 0  \\\\\n",
       " 0 & 0 & 0 & 1  \\\\\n",
       " 0 & 0 & 1 & 0  \\\\\n",
       " 0 & 1 & 0 & 0  \\\\\n",
       " \\end{bmatrix}\n",
       "$$"
      ],
      "text/plain": [
       "<IPython.core.display.Latex object>"
      ]
     },
     "execution_count": 23,
     "metadata": {},
     "output_type": "execute_result"
    }
   ],
   "source": [
    "array_to_latex(matrix)"
   ]
  },
  {
   "cell_type": "code",
   "execution_count": 24,
   "metadata": {},
   "outputs": [
    {
     "name": "stdout",
     "output_type": "stream",
     "text": [
      "     ┌───┐\n",
      "q_0: ┤ X ├\n",
      "     └─┬─┘\n",
      "q_1: ──■──\n",
      "          \n"
     ]
    }
   ],
   "source": [
    "circ = QuantumCircuit(2)\n",
    "circ.cx(1, 0)\n",
    "print(circ.draw())\n",
    "\n",
    "matrix = Operator(circ).data\n"
   ]
  },
  {
   "cell_type": "code",
   "execution_count": 25,
   "metadata": {},
   "outputs": [
    {
     "data": {
      "text/latex": [
       "$$\n",
       "\n",
       "\\begin{bmatrix}\n",
       "1 & 0 & 0 & 0  \\\\\n",
       " 0 & 1 & 0 & 0  \\\\\n",
       " 0 & 0 & 0 & 1  \\\\\n",
       " 0 & 0 & 1 & 0  \\\\\n",
       " \\end{bmatrix}\n",
       "$$"
      ],
      "text/plain": [
       "<IPython.core.display.Latex object>"
      ]
     },
     "execution_count": 25,
     "metadata": {},
     "output_type": "execute_result"
    }
   ],
   "source": [
    "array_to_latex(matrix)"
   ]
  },
  {
   "cell_type": "markdown",
   "metadata": {},
   "source": [
    "### Create a GHZ state"
   ]
  },
  {
   "cell_type": "code",
   "execution_count": 26,
   "metadata": {},
   "outputs": [
    {
     "name": "stdout",
     "output_type": "stream",
     "text": [
      "     ┌───┐          \n",
      "q_0: ┤ H ├──■───────\n",
      "     └───┘┌─┴─┐     \n",
      "q_1: ─────┤ X ├──■──\n",
      "          └───┘┌─┴─┐\n",
      "q_2: ──────────┤ X ├\n",
      "               └───┘\n"
     ]
    }
   ],
   "source": [
    "circ = QuantumCircuit(3)\n",
    "circ.h(0)\n",
    "circ.cx([0, 1], [1, 2])\n",
    "print(circ.draw())\n"
   ]
  },
  {
   "cell_type": "code",
   "execution_count": 27,
   "metadata": {},
   "outputs": [
    {
     "name": "stdout",
     "output_type": "stream",
     "text": [
      "Statevector([0.70710678+0.j, 0.        +0.j, 0.        +0.j,\n",
      "             0.        +0.j, 0.        +0.j, 0.        +0.j,\n",
      "             0.        +0.j, 0.70710678+0.j],\n",
      "            dims=(2, 2, 2))\n"
     ]
    },
    {
     "data": {
      "text/latex": [
       "$$\\frac{\\sqrt{2}}{2} |000\\rangle+\\frac{\\sqrt{2}}{2} |111\\rangle$$"
      ],
      "text/plain": [
       "<IPython.core.display.Latex object>"
      ]
     },
     "execution_count": 27,
     "metadata": {},
     "output_type": "execute_result"
    }
   ],
   "source": [
    "state = Statevector(circ)\n",
    "print(state)\n",
    "state.draw('latex')\n"
   ]
  },
  {
   "cell_type": "markdown",
   "metadata": {},
   "source": [
    "In reality, one does not have access to the statevector. Qubits are measured and will collapse\n",
    "onto specific (computational) basis state. One has to prepare the state / circuit multiple times\n",
    "and repeatedly measure the state to obtain statistics for the state. This results in a probability\n",
    "distribution of basis states, each with probability\n",
    "$$\n",
    "\\mathrm{Pr}(|\\alpha \\rangle) = | \\langle \\alpha | \\psi \\rangle|^2 \\ .\n",
    "$$\n",
    "\n",
    "For the above GHZ state, the probability for both basis states is 0.5 each. We can add measurements to our circuit and simulate this measurement process."
   ]
  },
  {
   "cell_type": "code",
   "execution_count": 28,
   "metadata": {},
   "outputs": [
    {
     "data": {
      "image/png": "[encoded data removed]",
      "text/plain": [
       "<Figure size 747.609x367.889 with 1 Axes>"
      ]
     },
     "execution_count": 28,
     "metadata": {},
     "output_type": "execute_result"
    }
   ],
   "source": [
    "circ.measure_all()\n",
    "circ.draw('mpl')"
   ]
  },
  {
   "cell_type": "code",
   "execution_count": 29,
   "metadata": {},
   "outputs": [],
   "source": [
    "from qiskit_aer import AerSimulator\n",
    "from qiskit import transpile\n",
    "from qiskit.visualization import plot_histogram\n"
   ]
  },
  {
   "cell_type": "code",
   "execution_count": 30,
   "metadata": {},
   "outputs": [],
   "source": [
    "shots = 1000\n",
    "result = AerSimulator().run(circuits=circ, shots=shots).result()\n",
    "counts = result.get_counts()\n"
   ]
  },
  {
   "cell_type": "code",
   "execution_count": 31,
   "metadata": {},
   "outputs": [
    {
     "name": "stdout",
     "output_type": "stream",
     "text": [
      "{'111': 492, '000': 508}\n",
      "0.508 0.492\n"
     ]
    }
   ],
   "source": [
    "print(counts)\n",
    "print(counts[\"000\"]/shots, counts[\"111\"]/shots)"
   ]
  },
  {
   "cell_type": "code",
   "execution_count": 32,
   "metadata": {},
   "outputs": [
    {
     "data": {
      "image/png": "[encoded data removed]",
      "text/plain": [
       "<Figure size 700x500 with 1 Axes>"
      ]
     },
     "execution_count": 32,
     "metadata": {},
     "output_type": "execute_result"
    }
   ],
   "source": [
    "plot_histogram(counts)"
   ]
  },
  {
   "cell_type": "markdown",
   "metadata": {},
   "source": [
    "## Or more spread-out states"
   ]
  },
  {
   "cell_type": "code",
   "execution_count": 33,
   "metadata": {},
   "outputs": [
    {
     "name": "stdout",
     "output_type": "stream",
     "text": [
      "        ┌───┐         ┌───┐\n",
      "q_0: ───┤ H ├──────■──┤ H ├\n",
      "     ┌──┴───┴───┐┌─┴─┐└───┘\n",
      "q_1: ┤ Rz(0.12) ├┤ X ├──■──\n",
      "     ├─────────┬┘└───┘┌─┴─┐\n",
      "q_2: ┤ Ry(1.2) ├──────┤ X ├\n",
      "     └─────────┘      └───┘\n",
      "Statevector([ 0.41192523-0.02474522j,  0.41192523-0.02474522j,\n",
      "              0.28181321-0.01692911j, -0.28181321+0.01692911j,\n",
      "              0.28181321-0.01692911j,  0.28181321-0.01692911j,\n",
      "              0.41192523-0.02474522j, -0.41192523+0.02474522j],\n",
      "            dims=(2, 2, 2))\n"
     ]
    },
    {
     "data": {
      "text/latex": [
       "$$(0.4119252282 - 0.0247452151 i) |000\\rangle+(0.4119252282 - 0.0247452151 i) |001\\rangle+(0.2818132109 - 0.0169291125 i) |010\\rangle+(-0.2818132109 + 0.0169291125 i) |011\\rangle+(0.2818132109 - 0.0169291125 i) |100\\rangle+(0.2818132109 - 0.0169291125 i) |101\\rangle+(0.4119252282 - 0.0247452151 i) |110\\rangle+(-0.4119252282 + 0.0247452151 i) |111\\rangle$$"
      ],
      "text/plain": [
       "<IPython.core.display.Latex object>"
      ]
     },
     "execution_count": 33,
     "metadata": {},
     "output_type": "execute_result"
    }
   ],
   "source": [
    "circ = QuantumCircuit(3)\n",
    "circ.h(0)\n",
    "circ.rz(0.12, 1)\n",
    "circ.ry(1.2, 2)\n",
    "circ.cx([0, 1], [1, 2])\n",
    "circ.h(0)\n",
    "print(circ.draw())\n",
    "\n",
    "state = Statevector(circ)\n",
    "print(state)\n",
    "state.draw('latex')\n",
    "\n"
   ]
  },
  {
   "cell_type": "code",
   "execution_count": 34,
   "metadata": {},
   "outputs": [
    {
     "data": {
      "image/png": "[encoded data removed]",
      "text/plain": [
       "<Figure size 747.609x367.889 with 1 Axes>"
      ]
     },
     "execution_count": 34,
     "metadata": {},
     "output_type": "execute_result"
    }
   ],
   "source": [
    "circ.measure_all()\n",
    "circ.draw('mpl')"
   ]
  },
  {
   "cell_type": "code",
   "execution_count": 35,
   "metadata": {},
   "outputs": [],
   "source": [
    "shots = 1000\n",
    "result = AerSimulator().run(circuits=circ, shots=shots).result()\n",
    "counts = result.get_counts()"
   ]
  },
  {
   "cell_type": "code",
   "execution_count": 36,
   "metadata": {},
   "outputs": [
    {
     "name": "stdout",
     "output_type": "stream",
     "text": [
      "{'101': 100, '110': 159, '010': 77, '000': 180, '001': 148, '100': 85, '011': 72, '111': 179}\n",
      "0.18 0.179\n"
     ]
    },
    {
     "data": {
      "image/png": "[encoded data removed]",
      "text/plain": [
       "<Figure size 700x500 with 1 Axes>"
      ]
     },
     "execution_count": 36,
     "metadata": {},
     "output_type": "execute_result"
    }
   ],
   "source": [
    "print(counts)\n",
    "print(counts[\"000\"]/shots, counts[\"111\"]/shots)\n",
    "plot_histogram(counts)\n"
   ]
  },
  {
   "cell_type": "code",
   "execution_count": null,
   "metadata": {},
   "outputs": [],
   "source": []
  }
 ],
 "metadata": {
  "kernelspec": {
   "display_name": "aqa-env",
   "language": "python",
   "name": "python3"
  },
  "language_info": {
   "codemirror_mode": {
    "name": "ipython",
    "version": 3
   },
   "file_extension": ".py",
   "mimetype": "text/x-python",
   "name": "python",
   "nbconvert_exporter": "python",
   "pygments_lexer": "ipython3",
   "version": "3.11.5"
  },
  "orig_nbformat": 4
 },
 "nbformat": 4,
 "nbformat_minor": 2
}
