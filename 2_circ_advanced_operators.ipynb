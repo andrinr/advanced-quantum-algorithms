{
 "cells": [
  {
   "cell_type": "code",
   "execution_count": 1,
   "metadata": {},
   "outputs": [],
   "source": [
    "import numpy as np\n",
    "\n",
    "from qiskit import QuantumCircuit\n",
    "from qiskit.quantum_info import Statevector, Operator\n",
    "\n",
    "from qiskit_aer import AerSimulator\n",
    "from qiskit.visualization import plot_histogram"
   ]
  },
  {
   "cell_type": "code",
   "execution_count": 2,
   "metadata": {},
   "outputs": [],
   "source": [
    "# We define Pauli matices and a helper function for tensor products of Paulis for convenience to use later.\n",
    "ident = np.array([[1, 0], [0, 1]])\n",
    "pauli_x = np.array([[0, 1], [1, 0]])\n",
    "pauli_y = np.array([[0, -1j], [1j, 0]])\n",
    "pauli_z = np.array([[1, 0], [0, -1]])\n",
    "\n",
    "def pauli_product(pauli_string):\n",
    "    \"\"\"Helper method to compute kronecker product of Paulis\"\"\"\n",
    "\n",
    "    prod = 1\n",
    "    for p in pauli_string:\n",
    "        if p == \"I\":\n",
    "            prod = np.kron(prod, ident)\n",
    "        elif p == \"X\":\n",
    "            prod = np.kron(prod, pauli_x)\n",
    "        elif p == \"Y\":\n",
    "            prod = np.kron(prod, pauli_y)\n",
    "        elif p == \"Z\":\n",
    "            prod = np.kron(prod, pauli_z)\n",
    "\n",
    "    return prod\n"
   ]
  },
  {
   "cell_type": "markdown",
   "metadata": {},
   "source": [
    "## Decomposition of rotational gates via Solovay-Kitaev theorem\n",
    "\n",
    "Here we want to quickly verify that the decomposition of a rotational gate with arbitrary angle into a sequence of discrete roations (S, H, T gates) in fact gives a approximation of that gate."
   ]
  },
  {
   "cell_type": "code",
   "execution_count": 3,
   "metadata": {},
   "outputs": [],
   "source": [
    "op_str = \"SHTHTHTHTHTHTHTSHTHTHTHTSHTHTHTHTHTSHTSHTHTHTHTHTSHTHTHTSHTSHTHTSHTSHTSHTHTHTHTSHTHTHTHTHTSHTSHTHTSHTHTSHTSHTSHTSHTHTSHTSHTSHTSHTHTHTSHTSHTSHTHTHTHTSHTHTSHTHTHTSHTHTHTHTSHTHTSHTHTSHTSHTSHTHTHTHTHTHTHTSHTHTSHTHTHTSHTSHTHTHTSHTSHTSHTHTSHTHTHTHTSHTSHTSHSSS\""
   ]
  },
  {
   "cell_type": "code",
   "execution_count": 4,
   "metadata": {},
   "outputs": [],
   "source": [
    "circ_ver = QuantumCircuit(1)\n",
    "for s in op_str[::-1]:\n",
    "    if s == \"X\":\n",
    "        circ_ver.x(0)\n",
    "    if s == \"S\":\n",
    "        circ_ver.s(0)\n",
    "    if s == \"H\":\n",
    "        circ_ver.h(0)\n",
    "    if s == \"T\":\n",
    "        circ_ver.t(0)\n",
    "op_ver = Operator(circ_ver).data * np.exp(1j * np.pi/4*7)\n",
    "psi_ver = Statevector(circ_ver).data * np.exp(1j * np.pi/4*7)"
   ]
  },
  {
   "cell_type": "code",
   "execution_count": 5,
   "metadata": {},
   "outputs": [],
   "source": [
    "circ = QuantumCircuit(1)\n",
    "circ.rz(np.pi/128, 0)\n",
    "op = Operator(circ).data\n",
    "psi = Statevector(circ).data"
   ]
  },
  {
   "cell_type": "code",
   "execution_count": 6,
   "metadata": {},
   "outputs": [
    {
     "name": "stdout",
     "output_type": "stream",
     "text": [
      "psi = [0.9999247-0.01227154j 0.       +0.j        ]\n",
      "psi approx = [ 9.99924702e-01-1.22715383e-02j -7.88544003e-11+1.97183987e-12j]\n",
      "difference in psi = [6.83009205e-13+5.45335391e-11j 7.88544003e-11-1.97183987e-12j]\n",
      "difference in op norm = 1.3561803846412896e-10\n"
     ]
    }
   ],
   "source": [
    "print(f\"psi = {psi}\")\n",
    "print(f\"psi approx = {psi_ver}\")\n",
    "print(f\"difference in psi = {psi - psi_ver}\")\n",
    "print(f\"difference in op norm = {np.linalg.norm(op - op_ver)}\")"
   ]
  },
  {
   "cell_type": "markdown",
   "metadata": {},
   "source": [
    "## Measuring in different bases\n",
    "\n",
    "We have already seen that, in reality, we need to measure a circuit multiple times to obtain statistics for the measurement since we do not have access to the exact statevector. But we have not yes discussed how to measure operators. In principle, all operators can be expressed in the Pauli basis and so it all comes down to measuring $I, X, Y, Z$. However, our computational basis is the $Z$ eigenspace. To measure $X, Y$, we need to transform to the $Z$-eigenspace before measuring."
   ]
  },
  {
   "cell_type": "code",
   "execution_count": 7,
   "metadata": {},
   "outputs": [
    {
     "data": {
      "text/html": [
       "<pre style=\"word-wrap: normal;white-space: pre;background: #fff0;line-height: 1.1;font-family: &quot;Courier New&quot;,Courier,monospace\">   ┌─────────┐\n",
       "q: ┤ Rx(0.5) ├\n",
       "   └─────────┘</pre>"
      ],
      "text/plain": [
       "   ┌─────────┐\n",
       "q: ┤ Rx(0.5) ├\n",
       "   └─────────┘"
      ]
     },
     "execution_count": 7,
     "metadata": {},
     "output_type": "execute_result"
    }
   ],
   "source": [
    "# initialize psi\n",
    "circ = QuantumCircuit(1)\n",
    "circ.rx(0.5, 0)\n",
    "circ.draw()"
   ]
  },
  {
   "cell_type": "code",
   "execution_count": 9,
   "metadata": {},
   "outputs": [
    {
     "name": "stdout",
     "output_type": "stream",
     "text": [
      "[0.96891242+0.j         0.        -0.24740396j]\n"
     ]
    },
    {
     "data": {
      "text/latex": [
       "$$0.9689124217 |0\\rangle- 0.2474039593 i |1\\rangle$$"
      ],
      "text/plain": [
       "<IPython.core.display.Latex object>"
      ]
     },
     "execution_count": 9,
     "metadata": {},
     "output_type": "execute_result"
    }
   ],
   "source": [
    "psi = Statevector(circ)\n",
    "print(psi.data)\n",
    "psi.draw('latex')"
   ]
  },
  {
   "cell_type": "code",
   "execution_count": 10,
   "metadata": {},
   "outputs": [
    {
     "name": "stdout",
     "output_type": "stream",
     "text": [
      "<X> = 0.0, <Y> = -0.479425538604203, <Z> = 0.8775825618903726\n"
     ]
    }
   ],
   "source": [
    "# measure X, Y, Z\n",
    "val_x = np.real(np.conj(psi).dot(pauli_x).dot(psi))\n",
    "val_y = np.real(np.conj(psi).dot(pauli_y).dot(psi))\n",
    "val_z = np.real(np.conj(psi).dot(pauli_z).dot(psi))\n",
    "print(f\"<X> = {val_x}, <Y> = {val_y}, <Z> = {val_z}\")"
   ]
  },
  {
   "cell_type": "markdown",
   "metadata": {},
   "source": [
    "Now we want to do the same but measuring the circuit with individual shots. Let's start simply with measuring $Z$. We can simply append measurements since we are already in the computational basis."
   ]
  },
  {
   "cell_type": "code",
   "execution_count": 11,
   "metadata": {},
   "outputs": [],
   "source": [
    "circ.measure_all()\n"
   ]
  },
  {
   "cell_type": "code",
   "execution_count": 12,
   "metadata": {},
   "outputs": [],
   "source": [
    "shots = 1000\n",
    "result = AerSimulator().run(circuits=circ, shots=shots).result()\n",
    "counts = result.get_counts()\n"
   ]
  },
  {
   "cell_type": "code",
   "execution_count": 13,
   "metadata": {},
   "outputs": [
    {
     "name": "stdout",
     "output_type": "stream",
     "text": [
      "{'1': 64, '0': 936}\n",
      "0.936 0.064\n"
     ]
    },
    {
     "data": {
      "image/png": "[encoded data removed]",
      "text/plain": [
       "<Figure size 700x500 with 1 Axes>"
      ]
     },
     "execution_count": 13,
     "metadata": {},
     "output_type": "execute_result"
    }
   ],
   "source": [
    "print(counts)\n",
    "print(counts[\"0\"]/shots, counts[\"1\"]/shots)\n",
    "plot_histogram(counts)\n"
   ]
  },
  {
   "cell_type": "code",
   "execution_count": 297,
   "metadata": {},
   "outputs": [],
   "source": [
    "prob0 = counts[\"0\"]/shots\n",
    "prob1 = counts[\"1\"]/shots\n",
    "\n",
    "# When summing the probabilities, we need to account for the correct parities. See the lecture notes for details.\n",
    "est_z = prob0 - prob1"
   ]
  },
  {
   "cell_type": "code",
   "execution_count": 303,
   "metadata": {},
   "outputs": [
    {
     "name": "stdout",
     "output_type": "stream",
     "text": [
      "exact <Z> value: 0.8775825618903726\n",
      "estimate of <Z> from shots: 0.8799999999999999\n"
     ]
    }
   ],
   "source": [
    "print(f\"exact <Z> value: {val_z}\\nestimate of <Z> from shots: {est_z}\")"
   ]
  },
  {
   "cell_type": "markdown",
   "metadata": {},
   "source": [
    "To measure non-diagonal operators given only measurements in the diagonal (computational) basis, we need to transform to that basis before measurement."
   ]
  },
  {
   "cell_type": "code",
   "execution_count": 304,
   "metadata": {},
   "outputs": [
    {
     "name": "stdout",
     "output_type": "stream",
     "text": [
      "circuit to measure in X\n",
      "        ┌─────────┐ ░ ┌───┐ ░ ┌─┐\n",
      "     q: ┤ Rx(0.5) ├─░─┤ H ├─░─┤M├\n",
      "        └─────────┘ ░ └───┘ ░ └╥┘\n",
      "meas: 1/═══════════════════════╩═\n",
      "                               0 \n",
      "circuit to measure in Y\n",
      "        ┌─────────┐ ░ ┌─────────┐ ░ ┌─┐\n",
      "     q: ┤ Rx(0.5) ├─░─┤ Rx(π/2) ├─░─┤M├\n",
      "        └─────────┘ ░ └─────────┘ ░ └╥┘\n",
      "meas: 1/═════════════════════════════╩═\n",
      "                                     0 \n"
     ]
    }
   ],
   "source": [
    "# X-basis\n",
    "circ_x = QuantumCircuit(1)\n",
    "circ_x.rx(0.5, 0)\n",
    "circ_x.barrier()\n",
    "circ_x.h(0)\n",
    "circ_x.measure_all()\n",
    "print(\"circuit to measure in X\")\n",
    "print(circ_x.draw())\n",
    "\n",
    "# Y-basis\n",
    "circ_y = QuantumCircuit(1)\n",
    "circ_y.rx(0.5, 0)\n",
    "circ_y.barrier()\n",
    "circ_y.rx(np.pi/2, 0)\n",
    "circ_y.measure_all()\n",
    "print(\"circuit to measure in Y\")\n",
    "print(circ_y.draw())"
   ]
  },
  {
   "cell_type": "code",
   "execution_count": 305,
   "metadata": {},
   "outputs": [],
   "source": [
    "estimates = []\n",
    "for circ in [circ_x, circ_y]:\n",
    "    result = AerSimulator().run(circuits=circ, shots=shots).result()\n",
    "    counts = result.get_counts()\n",
    "\n",
    "    prob0 = counts[\"0\"]/shots\n",
    "    prob1 = counts[\"1\"]/shots\n",
    "\n",
    "    estimates.append(prob0 - prob1)"
   ]
  },
  {
   "cell_type": "code",
   "execution_count": 306,
   "metadata": {},
   "outputs": [
    {
     "name": "stdout",
     "output_type": "stream",
     "text": [
      "exact X value: 0.0, estimate from shots: -0.07\n",
      "exact Y value: -0.479425538604203, estimate from shots: -0.518\n"
     ]
    }
   ],
   "source": [
    "print(f\"exact X value: {val_x}, estimate from shots: {estimates[0]}\")\n",
    "print(f\"exact Y value: {val_y}, estimate from shots: {estimates[1]}\")"
   ]
  },
  {
   "cell_type": "markdown",
   "metadata": {},
   "source": [
    "## Measuring multiple qubits\n",
    "\n",
    "This carries over to measuring multiple qubits. However, we need to be more careful when summing the probabilities of measuring different operator values."
   ]
  },
  {
   "cell_type": "code",
   "execution_count": 307,
   "metadata": {},
   "outputs": [
    {
     "name": "stdout",
     "output_type": "stream",
     "text": [
      "     ┌─────────┐\n",
      "q_0: ┤ Ry(0.4) ├\n",
      "     └┬───────┬┘\n",
      "q_1: ─┤ Ry(2) ├─\n",
      "      └───────┘ \n"
     ]
    }
   ],
   "source": [
    "circ = QuantumCircuit(2)\n",
    "circ.ry(0.4, 0)\n",
    "circ.ry(2, 1)\n",
    "print(circ.draw())"
   ]
  },
  {
   "cell_type": "code",
   "execution_count": 308,
   "metadata": {},
   "outputs": [
    {
     "name": "stdout",
     "output_type": "stream",
     "text": [
      "[0.52953223+0.j 0.1073415 +0.j 0.82469759+0.j 0.16717448+0.j]\n"
     ]
    },
    {
     "data": {
      "text/latex": [
       "$$0.5295322319 |00\\rangle+0.1073414975 |01\\rangle+0.8246975884 |10\\rangle+0.1671744774 |11\\rangle$$"
      ],
      "text/plain": [
       "<IPython.core.display.Latex object>"
      ]
     },
     "execution_count": 308,
     "metadata": {},
     "output_type": "execute_result"
    }
   ],
   "source": [
    "psi = Statevector(circ)\n",
    "print(psi.data)\n",
    "psi.draw('latex')\n"
   ]
  },
  {
   "cell_type": "markdown",
   "metadata": {},
   "source": [
    "Measure $ZZ$ and $IX$"
   ]
  },
  {
   "cell_type": "code",
   "execution_count": 309,
   "metadata": {},
   "outputs": [],
   "source": [
    "zz = pauli_product(\"ZZ\")\n",
    "xi = pauli_product(\"XI\") # NOTE reverse order in qiskit\n",
    "val_zz = np.real(np.conj(psi).dot(zz).dot(psi))\n",
    "val_xi = np.real(np.conj(psi).dot(xi).dot(psi))"
   ]
  },
  {
   "cell_type": "code",
   "execution_count": 311,
   "metadata": {},
   "outputs": [
    {
     "name": "stdout",
     "output_type": "stream",
     "text": [
      "exact <ZZ> = -0.38329661892126715\n",
      "exact <IX> = 0.9092974268256818\n"
     ]
    }
   ],
   "source": [
    "print(f\"exact <ZZ> = {val_zz}\")\n",
    "print(f\"exact <IX> = {val_xi}\")"
   ]
  },
  {
   "cell_type": "code",
   "execution_count": 313,
   "metadata": {},
   "outputs": [
    {
     "name": "stdout",
     "output_type": "stream",
     "text": [
      "        ┌─────────┐ ░ ┌─┐   \n",
      "   q_0: ┤ Ry(0.4) ├─░─┤M├───\n",
      "        └┬───────┬┘ ░ └╥┘┌─┐\n",
      "   q_1: ─┤ Ry(2) ├──░──╫─┤M├\n",
      "         └───────┘  ░  ║ └╥┘\n",
      "meas: 2/═══════════════╩══╩═\n",
      "                       0  1 \n",
      "        ┌─────────┐      ░ ┌─┐   \n",
      "   q_0: ┤ Ry(0.4) ├──────░─┤M├───\n",
      "        └┬───────┬┘┌───┐ ░ └╥┘┌─┐\n",
      "   q_1: ─┤ Ry(2) ├─┤ H ├─░──╫─┤M├\n",
      "         └───────┘ └───┘ ░  ║ └╥┘\n",
      "meas: 2/════════════════════╩══╩═\n",
      "                            0  1 \n"
     ]
    }
   ],
   "source": [
    "circ_zz = circ.copy()\n",
    "circ_zz.measure_all()\n",
    "print(circ_zz)\n",
    "\n",
    "# rotate qubit 1 to X basis\n",
    "circ_xi = circ.copy()\n",
    "circ_xi.h(1)\n",
    "circ_xi.measure_all()\n",
    "print(circ_xi)"
   ]
  },
  {
   "cell_type": "code",
   "execution_count": 314,
   "metadata": {},
   "outputs": [],
   "source": [
    "shots = 1000\n",
    "result = AerSimulator().run(circuits=circ_zz, shots=shots).result()\n",
    "counts = result.get_counts()\n",
    "\n",
    "prob00 = counts.get(\"00\", 0)/shots\n",
    "prob01 = counts.get(\"01\", 0)/shots\n",
    "prob10 = counts.get(\"10\", 0)/shots\n",
    "prob11 = counts.get(\"11\", 0)/shots\n",
    "\n",
    "est_zz = prob00 - prob01 - prob10 + prob11\n"
   ]
  },
  {
   "cell_type": "code",
   "execution_count": 315,
   "metadata": {},
   "outputs": [
    {
     "name": "stdout",
     "output_type": "stream",
     "text": [
      "exact ZZ value: -0.38329661892126715, estimate from shots: -0.37600000000000006\n"
     ]
    }
   ],
   "source": [
    "print(f\"exact ZZ value: {val_zz}, estimate from shots: {est_zz}\")"
   ]
  },
  {
   "cell_type": "code",
   "execution_count": 316,
   "metadata": {},
   "outputs": [],
   "source": [
    "shots = 1000\n",
    "result = AerSimulator().run(circuits=circ_xi, shots=shots).result()\n",
    "counts = result.get_counts()\n",
    "\n",
    "prob00 = counts.get(\"00\", 0)/shots\n",
    "prob01 = counts.get(\"01\", 0)/shots\n",
    "prob10 = counts.get(\"10\", 0)/shots\n",
    "prob11 = counts.get(\"11\", 0)/shots\n",
    "\n",
    "est_xi = prob00 + prob01 - prob10 - prob11"
   ]
  },
  {
   "cell_type": "code",
   "execution_count": 317,
   "metadata": {},
   "outputs": [
    {
     "name": "stdout",
     "output_type": "stream",
     "text": [
      "exact XI value: 0.9092974268256818, estimate from shots: 0.896\n"
     ]
    }
   ],
   "source": [
    "print(f\"exact XI value: {val_xi}, estimate from shots: {est_xi}\")"
   ]
  },
  {
   "cell_type": "code",
   "execution_count": null,
   "metadata": {},
   "outputs": [],
   "source": []
  }
 ],
 "metadata": {
  "kernelspec": {
   "display_name": "aqa-env",
   "language": "python",
   "name": "python3"
  },
  "language_info": {
   "codemirror_mode": {
    "name": "ipython",
    "version": 3
   },
   "file_extension": ".py",
   "mimetype": "text/x-python",
   "name": "python",
   "nbconvert_exporter": "python",
   "pygments_lexer": "ipython3",
   "version": "3.11.5"
  },
  "orig_nbformat": 4
 },
 "nbformat": 4,
 "nbformat_minor": 2
}
