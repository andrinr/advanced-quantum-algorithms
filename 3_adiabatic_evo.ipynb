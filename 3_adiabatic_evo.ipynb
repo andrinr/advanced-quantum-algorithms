{
 "cells": [
  {
   "cell_type": "code",
   "execution_count": 1,
   "id": "10dbcfac",
   "metadata": {},
   "outputs": [],
   "source": [
    "import numpy as np\n",
    "from scipy.linalg import expm, eig, norm"
   ]
  },
  {
   "cell_type": "code",
   "execution_count": 2,
   "id": "ada65d7a",
   "metadata": {},
   "outputs": [],
   "source": [
    "# We define Pauli matices and a helper function for tensor products of Paulis for convenience to use later.\n",
    "ident = np.array([[1, 0], [0, 1]])\n",
    "pauli_x = np.array([[0, 1], [1, 0]])\n",
    "pauli_y = np.array([[0, -1j], [1j, 0]])\n",
    "pauli_z = np.array([[1, 0], [0, -1]])\n",
    "\n",
    "\n",
    "def pauli_product(pauli_string):\n",
    "    \"\"\"Helper method to compute kronecker product of Paulis\"\"\"\n",
    "\n",
    "    prod = 1\n",
    "    for p in pauli_string:\n",
    "        if p == \"I\":\n",
    "            prod = np.kron(prod, ident)\n",
    "        elif p == \"X\":\n",
    "            prod = np.kron(prod, pauli_x)\n",
    "        elif p == \"Y\":\n",
    "            prod = np.kron(prod, pauli_y)\n",
    "        elif p == \"Z\":\n",
    "            prod = np.kron(prod, pauli_z)\n",
    "\n",
    "    return prod\n",
    "\n",
    "def sortES(eigVals, eigVecs):\n",
    "    \"\"\"\n",
    "    simple routine to sort eigenvectors given the eigenvalues\n",
    "    \"\"\"\n",
    "\n",
    "    # Zip the associated eigenvalues and eigenvectors together and sort by eigenvalue\n",
    "    eigSystem = sorted(zip(eigVals, np.transpose(eigVecs)), key = lambda x: x[0])\n",
    "    eigValsOut = [eVal for eVal, _ in eigSystem]\n",
    "    eigVecsOut = [eVec for _, eVec in eigSystem]\n",
    "\n",
    "    return eigValsOut,eigVecsOut\n",
    "\n",
    "def printstate(v, L, cutoff):\n",
    "    \"\"\"\n",
    "    routine to print quantum states in human readable format.\n",
    "    cutoff value will skip entries with small amplitudes\n",
    "    \"\"\"\n",
    "    for i in range(1<<L):\n",
    "        # index, binary repr, amplitudes, amplitudes squared\n",
    "        if v[i] * np.conj(v[i]) > cutoff:\n",
    "            print(f\"{i}  -  {np.binary_repr(i, width=L)}  -  {v[i]}  -  {v[i]*np.conj(v[i])}\")"
   ]
  },
  {
   "cell_type": "markdown",
   "id": "2f1d3f57",
   "metadata": {},
   "source": [
    "### 2-site Ising Hamiltonian\n",
    "\n",
    "We want to study quantum annealing on a two-site Ising model with a small Z-contribution (that serves to lift the degeneracy of the ground state). We define the problem Hamiltonain $H_P$ which is purely classical (only Z-terms) and the mixing Hamiltonian $H_Q$, containing the transverse fields (X) to generate quantum fluctuations.\n",
    "\n",
    "$$H = H_P + H_Q = - ZZ - (XI + IX) - 0.1 (ZI + IZ)$$"
   ]
  },
  {
   "cell_type": "code",
   "execution_count": 3,
   "id": "3376624f",
   "metadata": {},
   "outputs": [
    {
     "name": "stdout",
     "output_type": "stream",
     "text": [
      "[[-1.2 -1.  -1.   0. ]\n",
      " [-1.   1.   0.  -1. ]\n",
      " [-1.   0.   1.  -1. ]\n",
      " [ 0.  -1.  -1.  -0.8]]\n"
     ]
    }
   ],
   "source": [
    "# hardcoding number of sites\n",
    "L=2\n",
    "\n",
    "# hardcoding the hamiltonian\n",
    "term1 = pauli_product(\"ZZ\")\n",
    "term2 = pauli_product(\"XI\")\n",
    "term3 = pauli_product(\"IX\")\n",
    "term4 = pauli_product(\"ZI\")\n",
    "term5 = pauli_product(\"IZ\")\n",
    "H = - term1 - term2 - term3 - 0.1 * (term4 + term5)\n",
    "\n",
    "# useful for later\n",
    "H_P = - term1 - 0.1 * (term4 + term5)\n",
    "H_Q = - term2 - term3\n",
    "\n",
    "print(H)"
   ]
  },
  {
   "cell_type": "markdown",
   "id": "55b111ff",
   "metadata": {},
   "source": [
    "First, we diagonalize the full Hamiltonian (problem and mixing Hamiltonian), compute the ground state, it's representation in the computational basis, and the gap with the first exchited state."
   ]
  },
  {
   "cell_type": "code",
   "execution_count": 4,
   "id": "48ef66ae",
   "metadata": {},
   "outputs": [
    {
     "name": "stdout",
     "output_type": "stream",
     "text": [
      "Spectrum exact\n",
      "[-2.25910102 -0.98038659  1.          2.23948761]\n",
      "\n",
      "Ground state energy exact\n",
      "-2.2591010150414848\n",
      "\n",
      "Ground state wf exact\n",
      "0  -  00  -  0.6920923729414962  -  0.478991852683791\n",
      "1  -  01  -  0.36649786734240464  -  0.13432068676653083\n",
      "2  -  10  -  0.3664978673424046  -  0.13432068676653078\n",
      "3  -  11  -  0.5023611985246742  -  0.25236677378314715\n",
      "\n",
      "Gap (Delta): 1.2787144242879998\n"
     ]
    }
   ],
   "source": [
    "# diagonalize the hamiltonian\n",
    "\n",
    "eigVals,eigVecs = eig(H)\n",
    "eigVals,eigVecs = sortES(eigVals, eigVecs)\n",
    "en_exact = eigVals[0]\n",
    "\n",
    "print(\"Spectrum exact\")\n",
    "print(np.real(eigVals[:1<<L]))\n",
    "print(\"\\nGround state energy exact\")\n",
    "print(np.real(en_exact))\n",
    "\n",
    "print(\"\\nGround state wf exact\")\n",
    "printstate(eigVecs[0], L, 0.001)\n",
    "\n",
    "print(f\"\\nGap (Delta): {np.real(eigVals[1] - eigVals[0])}\")"
   ]
  },
  {
   "cell_type": "code",
   "execution_count": 5,
   "id": "8a6fd03d",
   "metadata": {},
   "outputs": [],
   "source": [
    "init_psi = np.zeros(1<<L, dtype=complex)\n",
    "init_psi[0] = 1.0"
   ]
  },
  {
   "cell_type": "code",
   "execution_count": 6,
   "id": "677c66ba",
   "metadata": {},
   "outputs": [],
   "source": [
    "def exact_real_time_evolution(t, H):\n",
    "    return expm(-1.j * t * H)"
   ]
  },
  {
   "cell_type": "code",
   "execution_count": 7,
   "id": "4b71af0c",
   "metadata": {},
   "outputs": [
    {
     "name": "stdout",
     "output_type": "stream",
     "text": [
      "0  -  00  -  (-0.1577964354297754+0.6056447661861368j)  -  (0.3917052978430036+0j)\n",
      "1  -  01  -  (-0.05542473854084031+0.3241515744308882j)  -  (0.10814614484834416+0j)\n",
      "2  -  10  -  (-0.05542473854084022+0.32415157443088827j)  -  (0.1081461448483442+0j)\n",
      "3  -  11  -  (-0.576878107364983-0.24333939611847344j)  -  (0.3920024124603082+0j)\n"
     ]
    }
   ],
   "source": [
    "U = exact_real_time_evolution(1, H)\n",
    "psi = np.matmul(U, init_psi)\n",
    "printstate(psi, L, 0.001)"
   ]
  },
  {
   "cell_type": "markdown",
   "id": "fefeb1a0",
   "metadata": {},
   "source": [
    "### The time dependent case\n",
    "\n",
    "Next, we want to compute the ground state of the classical Hamiltonian $H_P$ via quantum annealing, starting from the Mixing Hamiltonian $H_Q$ and its ground state,\n",
    "$$H(s) = s H_P + (1-s) H_Q$$"
   ]
  },
  {
   "cell_type": "code",
   "execution_count": 8,
   "id": "01953495",
   "metadata": {},
   "outputs": [],
   "source": [
    "# start from superpostition state. First initialize in all 1s and then normalize\n",
    "init_psi = np.ones(1<<L, dtype=complex)\n",
    "init_psi /= norm(init_psi, 2)"
   ]
  },
  {
   "cell_type": "code",
   "execution_count": 9,
   "id": "93013f9a",
   "metadata": {},
   "outputs": [],
   "source": [
    "def adiabatic_evolution(t, t_total, H_P, H_Q):\n",
    "    s = t / t_total\n",
    "    H_instant = (1.0 - s) * H_Q + s * H_P\n",
    "    #print(H_instant)\n",
    "    \n",
    "    return expm(-1.j * t * H_instant)"
   ]
  },
  {
   "cell_type": "markdown",
   "id": "f5442268",
   "metadata": {},
   "source": [
    "We simulate the adiabatic evolution from $H_Q$ to $H_P$ and see that the final state is $|00\\rangle$, as we would expect from the ground state."
   ]
  },
  {
   "cell_type": "code",
   "execution_count": 10,
   "id": "4521950f",
   "metadata": {},
   "outputs": [
    {
     "name": "stdout",
     "output_type": "stream",
     "text": [
      "\n",
      "Initial state\n",
      "0  -  00  -  (0.5+0j)  -  (0.25+0j)\n",
      "1  -  01  -  (0.5+0j)  -  (0.25+0j)\n",
      "2  -  10  -  (0.5+0j)  -  (0.25+0j)\n",
      "3  -  11  -  (0.5+0j)  -  (0.25+0j)\n"
     ]
    }
   ],
   "source": [
    "# approximate adiabatic evolution changing the hamiltonian at each dt timestep\n",
    "\n",
    "t_total = 10\n",
    "n_dtpoints = 1000\n",
    "t_array = np.linspace(0, t_total, num=n_dtpoints, endpoint=False)\n",
    "\n",
    "psi_temp = init_psi\n",
    "print(\"\\nInitial state\")\n",
    "printstate(psi_temp, L, 0.001)\n",
    "for istep in range(n_dtpoints):\n",
    "    U = adiabatic_evolution(t_array[istep], t_total, H_P, H_Q)\n",
    "    psi_temp = np.matmul(U, psi_temp)"
   ]
  },
  {
   "cell_type": "code",
   "execution_count": 11,
   "id": "f4a970c9",
   "metadata": {},
   "outputs": [
    {
     "name": "stdout",
     "output_type": "stream",
     "text": [
      "\n",
      "Final state\n",
      "0  -  00  -  (-0.6932392323411042-0.7200121200627502j)  -  (0.9989980862941397+0j)\n",
      "\n",
      "Approximate ground state:\n",
      "-1.1977964004650903\n",
      "\n",
      "Exact spectrum\n",
      "[-1.2 -0.8  1.   1. ]\n",
      "\n",
      "Exact ground state energy\n",
      "-1.2\n",
      "\n",
      "Exact ground state wf\n",
      "0  -  00  -  1.0  -  1.0\n"
     ]
    }
   ],
   "source": [
    "print(\"\\nFinal state\")\n",
    "printstate(psi_temp, L, 0.001)\n",
    "print(f\"\\nApproximate ground state:\\n{np.real(np.conj(psi_temp).dot(H_P).dot(psi_temp))}\")\n",
    "\n",
    "eigVals, eigVecs = eig(H_P)\n",
    "eigVals, eigVecs = sortES(eigVals, eigVecs)\n",
    "en_exact = eigVals[0]\n",
    "\n",
    "print(\"\\nExact spectrum\")\n",
    "print(np.real(eigVals[:1<<L]))\n",
    "print(\"\\nExact ground state energy\")\n",
    "print(np.real(en_exact))\n",
    "\n",
    "print(\"\\nExact ground state wf\")\n",
    "printstate(eigVecs[0], L, 0.001)"
   ]
  },
  {
   "cell_type": "markdown",
   "id": "2c31e218",
   "metadata": {},
   "source": [
    "We can also look at the gap between ground state and first excited state at every step during the evolution."
   ]
  },
  {
   "cell_type": "code",
   "execution_count": 12,
   "id": "9e8272b7",
   "metadata": {},
   "outputs": [
    {
     "name": "stdout",
     "output_type": "stream",
     "text": [
      "\n",
      "Initial state\n",
      "0  -  00  -  (0.5+0j)  -  (0.25+0j)\n",
      "1  -  01  -  (0.5+0j)  -  (0.25+0j)\n",
      "2  -  10  -  (0.5+0j)  -  (0.25+0j)\n",
      "3  -  11  -  (0.5+0j)  -  (0.25+0j)\n"
     ]
    }
   ],
   "source": [
    "# with the gap\n",
    "t_total = 10\n",
    "n_dtpoints = 10000\n",
    "t_array = np.linspace(0, t_total, num=n_dtpoints, endpoint=False)\n",
    "\n",
    "gap_values = np.zeros([n_dtpoints])\n",
    "\n",
    "psi_temp = init_psi\n",
    "print(\"\\nInitial state\")\n",
    "printstate(psi_temp, L, 0.001)\n",
    "for istep in range(n_dtpoints):\n",
    "    s = t_array[istep] / t_total\n",
    "    H_instant = (1.0 - s) * H_Q + s * H_P\n",
    "    eigVals, eigVecs = eig(H_instant)\n",
    "    eigVals, eigVecs = sortES(eigVals, eigVecs)\n",
    "    \n",
    "    gap_values[istep] = np.real(eigVals[1] - eigVals[0])"
   ]
  },
  {
   "cell_type": "code",
   "execution_count": 13,
   "id": "51c2f093",
   "metadata": {},
   "outputs": [
    {
     "data": {
      "image/png": "[encoded data removed]",
      "text/plain": [
       "<Figure size 640x480 with 1 Axes>"
      ]
     },
     "metadata": {},
     "output_type": "display_data"
    }
   ],
   "source": [
    "import matplotlib.pyplot as plt\n",
    "plt.plot(gap_values)\n",
    "plt.xlabel(\"time step\")\n",
    "plt.ylabel(\"Energy\")\n",
    "plt.show()"
   ]
  },
  {
   "cell_type": "code",
   "execution_count": null,
   "id": "e1ede8db",
   "metadata": {},
   "outputs": [],
   "source": []
  },
  {
   "cell_type": "code",
   "execution_count": null,
   "id": "9fde2458",
   "metadata": {},
   "outputs": [],
   "source": []
  },
  {
   "cell_type": "code",
   "execution_count": null,
   "id": "63078555",
   "metadata": {},
   "outputs": [],
   "source": []
  },
  {
   "cell_type": "code",
   "execution_count": null,
   "id": "37209694",
   "metadata": {},
   "outputs": [],
   "source": []
  }
 ],
 "metadata": {
  "kernelspec": {
   "display_name": "aqa-env",
   "language": "python",
   "name": "python3"
  },
  "language_info": {
   "codemirror_mode": {
    "name": "ipython",
    "version": 3
   },
   "file_extension": ".py",
   "mimetype": "text/x-python",
   "name": "python",
   "nbconvert_exporter": "python",
   "pygments_lexer": "ipython3",
   "version": "3.11.5"
  }
 },
 "nbformat": 4,
 "nbformat_minor": 5
}
