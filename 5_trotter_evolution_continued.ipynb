{
 "cells": [
  {
   "cell_type": "code",
   "execution_count": 4,
   "metadata": {},
   "outputs": [],
   "source": [
    "import numpy as np\n",
    "from scipy.sparse.linalg import expm_multiply, expm\n",
    "import matplotlib.pyplot as plt\n",
    "\n",
    "from qiskit import QuantumCircuit\n",
    "from qiskit.circuit.library import PauliEvolutionGate\n",
    "from qiskit.quantum_info import SparsePauliOp, Statevector, Operator"
   ]
  },
  {
   "cell_type": "markdown",
   "metadata": {},
   "source": [
    "## Exponentials of Pauli strings\n",
    "\n",
    "First, let's check that the circuit $CX (I \\otimes R_z) CX$ actually implements $R_zz(\\theta) = \\exp(-i \\frac{\\theta}{2} ZZ)$."
   ]
  },
  {
   "cell_type": "code",
   "execution_count": 5,
   "metadata": {},
   "outputs": [],
   "source": [
    "ident = np.array([[1, 0], [0, 1]])\n",
    "pauli_y = np.array([[0, -1j], [1j, 0]])\n",
    "pauli_x = np.array([[0, 1], [1, 0]])\n",
    "pauli_z = np.array([[1, 0], [0, -1]])\n",
    "\n",
    "def pauli_product(pauli_string):\n",
    "    \"\"\"Helper method to compute kronecker product of Paulis\"\"\"\n",
    "\n",
    "    prod = 1\n",
    "    for p in pauli_string:\n",
    "        print(p, end=\"\")\n",
    "        if p == \"I\":\n",
    "            prod = np.kron(prod, ident)\n",
    "        if p == \"X\":\n",
    "            prod = np.kron(prod, pauli_x)\n",
    "        elif p == \"Y\":\n",
    "            prod = np.kron(prod, pauli_y)\n",
    "        elif p == \"Z\":\n",
    "            prod = np.kron(prod, pauli_z)\n",
    "    print(\"\\n\")\n",
    "\n",
    "    return prod\n"
   ]
  },
  {
   "cell_type": "code",
   "execution_count": 6,
   "metadata": {},
   "outputs": [
    {
     "name": "stdout",
     "output_type": "stream",
     "text": [
      "ZX\n",
      "\n",
      "[[ 0  1  0  0]\n",
      " [ 1  0  0  0]\n",
      " [ 0  0  0 -1]\n",
      " [ 0  0 -1  0]]\n"
     ]
    }
   ],
   "source": [
    "print(pauli_product(\"ZX\"))"
   ]
  },
  {
   "cell_type": "code",
   "execution_count": 7,
   "metadata": {},
   "outputs": [
    {
     "data": {
      "text/html": [
       "<pre style=\"word-wrap: normal;white-space: pre;background: #fff0;line-height: 1.1;font-family: &quot;Courier New&quot;,Courier,monospace\">             \n",
       "q_0: ─■──────\n",
       "      │ZZ(π) \n",
       "q_1: ─■──────\n",
       "             </pre>"
      ],
      "text/plain": [
       "             \n",
       "q_0: ─■──────\n",
       "      │ZZ(π) \n",
       "q_1: ─■──────\n",
       "             "
      ]
     },
     "execution_count": 7,
     "metadata": {},
     "output_type": "execute_result"
    }
   ],
   "source": [
    "param = np.pi\n",
    "\n",
    "zz = QuantumCircuit(2)\n",
    "zz.rzz(param, 0, 1)\n",
    "zz.draw()"
   ]
  },
  {
   "cell_type": "code",
   "execution_count": 8,
   "metadata": {},
   "outputs": [
    {
     "data": {
      "text/html": [
       "<pre style=\"word-wrap: normal;white-space: pre;background: #fff0;line-height: 1.1;font-family: &quot;Courier New&quot;,Courier,monospace\">                        \n",
       "q_0: ──■─────────────■──\n",
       "     ┌─┴─┐┌───────┐┌─┴─┐\n",
       "q_1: ┤ X ├┤ Rz(π) ├┤ X ├\n",
       "     └───┘└───────┘└───┘</pre>"
      ],
      "text/plain": [
       "                        \n",
       "q_0: ──■─────────────■──\n",
       "     ┌─┴─┐┌───────┐┌─┴─┐\n",
       "q_1: ┤ X ├┤ Rz(π) ├┤ X ├\n",
       "     └───┘└───────┘└───┘"
      ]
     },
     "execution_count": 8,
     "metadata": {},
     "output_type": "execute_result"
    }
   ],
   "source": [
    "zz.decompose().draw()"
   ]
  },
  {
   "cell_type": "code",
   "execution_count": 9,
   "metadata": {},
   "outputs": [
    {
     "name": "stdout",
     "output_type": "stream",
     "text": [
      "ZZ\n",
      "\n",
      "True\n"
     ]
    }
   ],
   "source": [
    "zz_mat = expm(-1j * 0.5 * param * pauli_product(\"ZZ\"))\n",
    "zz_gate_mat = Operator(zz).data\n",
    "print(np.allclose(zz_mat, zz_gate_mat))\n"
   ]
  },
  {
   "cell_type": "markdown",
   "metadata": {},
   "source": [
    "Now, lets do a more complicated example"
   ]
  },
  {
   "cell_type": "code",
   "execution_count": 10,
   "metadata": {},
   "outputs": [],
   "source": [
    "pauli_string = \"XYZX\""
   ]
  },
  {
   "cell_type": "code",
   "execution_count": 11,
   "metadata": {},
   "outputs": [
    {
     "data": {
      "text/html": [
       "<pre style=\"word-wrap: normal;white-space: pre;background: #fff0;line-height: 1.1;font-family: &quot;Courier New&quot;,Courier,monospace\">      ┌───┐       ░                                         ░ ┌───┐     \n",
       "q_0: ─┤ H ├───────░───■─────────────────────────────────■───░─┤ H ├─────\n",
       "      └───┘       ░ ┌─┴─┐                             ┌─┴─┐ ░ └───┘     \n",
       "q_1: ─────────────░─┤ X ├──■───────────────────────■──┤ X ├─░───────────\n",
       "     ┌─────┐┌───┐ ░ └───┘┌─┴─┐                   ┌─┴─┐└───┘ ░ ┌───┐┌───┐\n",
       "q_2: ┤ Sdg ├┤ H ├─░──────┤ X ├──■─────────────■──┤ X ├──────░─┤ H ├┤ S ├\n",
       "     └┬───┬┘└───┘ ░      └───┘┌─┴─┐┌───────┐┌─┴─┐└───┘      ░ ├───┤└───┘\n",
       "q_3: ─┤ H ├───────░───────────┤ X ├┤ Rz(2) ├┤ X ├───────────░─┤ H ├─────\n",
       "      └───┘       ░           └───┘└───────┘└───┘           ░ └───┘     </pre>"
      ],
      "text/plain": [
       "      ┌───┐       ░                                         ░ ┌───┐     \n",
       "q_0: ─┤ H ├───────░───■─────────────────────────────────■───░─┤ H ├─────\n",
       "      └───┘       ░ ┌─┴─┐                             ┌─┴─┐ ░ └───┘     \n",
       "q_1: ─────────────░─┤ X ├──■───────────────────────■──┤ X ├─░───────────\n",
       "     ┌─────┐┌───┐ ░ └───┘┌─┴─┐                   ┌─┴─┐└───┘ ░ ┌───┐┌───┐\n",
       "q_2: ┤ Sdg ├┤ H ├─░──────┤ X ├──■─────────────■──┤ X ├──────░─┤ H ├┤ S ├\n",
       "     └┬───┬┘└───┘ ░      └───┘┌─┴─┐┌───────┐┌─┴─┐└───┘      ░ ├───┤└───┘\n",
       "q_3: ─┤ H ├───────░───────────┤ X ├┤ Rz(2) ├┤ X ├───────────░─┤ H ├─────\n",
       "      └───┘       ░           └───┘└───────┘└───┘           ░ └───┘     "
      ]
     },
     "execution_count": 11,
     "metadata": {},
     "output_type": "execute_result"
    }
   ],
   "source": [
    "qc_pauli = QuantumCircuit(4)\n",
    "qc_pauli.h(0)\n",
    "# qc_pauli.rx(np.pi/2, 2)\n",
    "qc_pauli.sdg(2)\n",
    "qc_pauli.h(2)\n",
    "qc_pauli.h(3)\n",
    "qc_pauli.barrier()\n",
    "qc_pauli.cx([0, 1, 2], [1, 2, 3])\n",
    "qc_pauli.rz(2, 3)\n",
    "qc_pauli.cx([2, 1, 0], [3, 2, 1])\n",
    "qc_pauli.barrier()\n",
    "qc_pauli.h(0)\n",
    "# qc_pauli.rx(-np.pi/2, 2)\n",
    "qc_pauli.h(2)\n",
    "qc_pauli.s(2)\n",
    "qc_pauli.h(3)\n",
    "\n",
    "qc_pauli.draw()"
   ]
  },
  {
   "cell_type": "code",
   "execution_count": 12,
   "metadata": {},
   "outputs": [
    {
     "name": "stdout",
     "output_type": "stream",
     "text": [
      "XYZX\n",
      "\n"
     ]
    }
   ],
   "source": [
    "pauli_prod = pauli_product(pauli_string)\n",
    "pauli_mat = expm(-1j * pauli_prod)"
   ]
  },
  {
   "cell_type": "code",
   "execution_count": 13,
   "metadata": {},
   "outputs": [
    {
     "data": {
      "text/plain": [
       "True"
      ]
     },
     "execution_count": 13,
     "metadata": {},
     "output_type": "execute_result"
    }
   ],
   "source": [
    "np.allclose(pauli_mat, Operator(qc_pauli).data)"
   ]
  },
  {
   "cell_type": "markdown",
   "metadata": {},
   "source": [
    "##### The `PauliEvolutionGate`"
   ]
  },
  {
   "cell_type": "code",
   "execution_count": 19,
   "metadata": {},
   "outputs": [],
   "source": [
    "pauli_gate = PauliEvolutionGate(SparsePauliOp([pauli_string]))"
   ]
  },
  {
   "cell_type": "code",
   "execution_count": 12,
   "metadata": {},
   "outputs": [
    {
     "data": {
      "text/html": [
       "<pre style=\"word-wrap: normal;white-space: pre;background: #fff0;line-height: 1.1;font-family: &quot;Courier New&quot;,Courier,monospace\">      ┌───┐                ┌───┐┌───────┐┌───┐┌───┐               \n",
       "q_0: ─┤ H ├────────────────┤ X ├┤ Rz(2) ├┤ X ├┤ H ├───────────────\n",
       "      └───┘           ┌───┐└─┬─┘└───────┘└─┬─┘├───┤               \n",
       "q_1: ─────────────────┤ X ├──■─────────────■──┤ X ├───────────────\n",
       "     ┌─────┐┌───┐┌───┐└─┬─┘                   └─┬─┘┌───┐┌───┐┌───┐\n",
       "q_2: ┤ Sdg ├┤ H ├┤ X ├──■───────────────────────■──┤ X ├┤ H ├┤ S ├\n",
       "     └┬───┬┘└───┘└─┬─┘                             └─┬─┘├───┤└───┘\n",
       "q_3: ─┤ H ├────────■─────────────────────────────────■──┤ H ├─────\n",
       "      └───┘                                             └───┘     </pre>"
      ],
      "text/plain": [
       "      ┌───┐                ┌───┐┌───────┐┌───┐┌───┐               \n",
       "q_0: ─┤ H ├────────────────┤ X ├┤ Rz(2) ├┤ X ├┤ H ├───────────────\n",
       "      └───┘           ┌───┐└─┬─┘└───────┘└─┬─┘├───┤               \n",
       "q_1: ─────────────────┤ X ├──■─────────────■──┤ X ├───────────────\n",
       "     ┌─────┐┌───┐┌───┐└─┬─┘                   └─┬─┘┌───┐┌───┐┌───┐\n",
       "q_2: ┤ Sdg ├┤ H ├┤ X ├──■───────────────────────■──┤ X ├┤ H ├┤ S ├\n",
       "     └┬───┬┘└───┘└─┬─┘                             └─┬─┘├───┤└───┘\n",
       "q_3: ─┤ H ├────────■─────────────────────────────────■──┤ H ├─────\n",
       "      └───┘                                             └───┘     "
      ]
     },
     "execution_count": 12,
     "metadata": {},
     "output_type": "execute_result"
    }
   ],
   "source": [
    "qc_pauli_gate = QuantumCircuit(len(pauli_string))\n",
    "qc_pauli_gate.append(pauli_gate, qc_pauli_gate.qubits)\n",
    "qc_pauli_gate.decompose().draw()"
   ]
  },
  {
   "cell_type": "code",
   "execution_count": 13,
   "metadata": {},
   "outputs": [
    {
     "data": {
      "text/plain": [
       "True"
      ]
     },
     "execution_count": 13,
     "metadata": {},
     "output_type": "execute_result"
    }
   ],
   "source": [
    "np.allclose(pauli_mat, Operator(qc_pauli_gate).data)"
   ]
  },
  {
   "cell_type": "markdown",
   "metadata": {},
   "source": [
    "## Trotter evolution of a transverse field Ising model\n",
    "\n",
    "We want to implement the time evolution of the transverse field Ising Hamiltonian with\n",
    "- 4 sites on a chain\n",
    "- periodic boundary conditions\n",
    "- nearest neighbor interactions\n",
    "\n",
    "$$\n",
    "H = J \\sum_{i} Z_i Z_{i+1} + h \\sum_i X_i\n",
    "$$"
   ]
  },
  {
   "cell_type": "code",
   "execution_count": 14,
   "metadata": {},
   "outputs": [],
   "source": [
    "# define basic parameters\n",
    "N = 4\n",
    "J = 1\n",
    "h = 0.6\n",
    "pbc = True"
   ]
  },
  {
   "cell_type": "code",
   "execution_count": 15,
   "metadata": {},
   "outputs": [],
   "source": [
    "def get_H_op(N, J, h, pbc):\n",
    "    \"\"\"Define the two non-commuting parts of the Hamiltonian separately.\"\"\"\n",
    "    \n",
    "    z_op_strings = []\n",
    "    for i in range(N - 1):\n",
    "        z_op_strings.append((N - 2 - i)*\"I\" + \"Z\" + \"Z\" + i*\"I\")\n",
    "    # last term for periodic BC\n",
    "    if pbc:\n",
    "        z_op_strings.append(\"Z\" + (N - 2)*\"I\" + \"Z\")\n",
    "    \n",
    "    x_op_strings = []\n",
    "    for i in range(N):\n",
    "        x_op_strings.append(((N - 1 - i)*\"I\" + \"X\" + i*\"I\"))\n",
    "\n",
    "    z_ops = SparsePauliOp(data=z_op_strings, coeffs = [J] * (N if pbc else N - 1))\n",
    "    x_ops = SparsePauliOp(data=x_op_strings, coeffs = [h] * N)\n",
    "    \n",
    "    return z_ops, x_ops"
   ]
  },
  {
   "cell_type": "code",
   "execution_count": 16,
   "metadata": {},
   "outputs": [
    {
     "name": "stdout",
     "output_type": "stream",
     "text": [
      "H_Z =\n",
      "SparsePauliOp(['IIZZ', 'IZZI', 'ZZII', 'ZIIZ'],\n",
      "              coeffs=[1.+0.j, 1.+0.j, 1.+0.j, 1.+0.j])\n",
      "H_X =\n",
      "SparsePauliOp(['IIIX', 'IIXI', 'IXII', 'XIII'],\n",
      "              coeffs=[0.6+0.j, 0.6+0.j, 0.6+0.j, 0.6+0.j])\n",
      "H_ising =\n",
      "SparsePauliOp(['IIZZ', 'IZZI', 'ZZII', 'ZIIZ', 'IIIX', 'IIXI', 'IXII', 'XIII'],\n",
      "              coeffs=[1. +0.j, 1. +0.j, 1. +0.j, 1. +0.j, 0.6+0.j, 0.6+0.j, 0.6+0.j, 0.6+0.j])\n",
      "M_average =\n",
      "SparsePauliOp(['IIIZ', 'IIZI', 'IZII', 'ZIII'],\n",
      "              coeffs=[0.25+0.j, 0.25+0.j, 0.25+0.j, 0.25+0.j])\n"
     ]
    }
   ],
   "source": [
    "z_ops, x_ops = get_H_op(N, J, h, pbc)\n",
    "H_op = z_ops + x_ops\n",
    "mag_ave = SparsePauliOp(data=[((N - 1 - i)*\"I\" + \"Z\" + i*\"I\")\n",
    "                        for i in range(N)], coeffs=[1 / N] * N)\n",
    "                        \n",
    "print(f\"H_Z =\\n{z_ops}\")\n",
    "print(f\"H_X =\\n{x_ops}\")\n",
    "print(f\"H_ising =\\n{H_op}\")\n",
    "print(f\"M_average =\\n{mag_ave}\")\n",
    "\n",
    "mag_ave = mag_ave.to_matrix()"
   ]
  },
  {
   "cell_type": "markdown",
   "metadata": {},
   "source": [
    "## Exact evolution\n",
    "\n",
    "We define two methods\n",
    "- one to get the initial state, which will simply be the $|0 \\rangle$ state\n",
    "- one to implement the exact evolution for reference"
   ]
  },
  {
   "cell_type": "code",
   "execution_count": 17,
   "metadata": {},
   "outputs": [],
   "source": [
    "def init_state(N):\n",
    "    psi_init = np.zeros(1<<N)\n",
    "    psi_init[0] = 1\n",
    "    return psi_init\n",
    "\n",
    "def exact_evo(N, H, t_eval, obs):\n",
    "    # get initial state\n",
    "    psi_init = init_state(N)\n",
    "    # intitialize array to store expectation values at every time step\n",
    "    expect_vals = []\n",
    "    init_state_revival = []\n",
    "    # loop through time values up to final time\n",
    "    for t in t_eval:\n",
    "        # evolve statevector for each time step.\n",
    "        # NOTE: this is exact since we have access to the exponential of the FULL Hamiltonain matrix\n",
    "        # and do not need to decompose into exponentials of individual summands\n",
    "        psi = expm_multiply(-1j * t * H, psi_init)\n",
    "        # compute expectation value at every time step\n",
    "        # NOTE: we have the full statevector here, so we can evaluate the expectation value exactly\n",
    "        # by simple matrix-vector-multiplication\n",
    "        expect_vals.append(np.real(np.conj(psi).dot(obs).dot(psi)))\n",
    "        overlap = np.conj(psi_init).dot(psi)\n",
    "        init_state_revival.append(overlap.real**2 + overlap.imag**2)\n",
    "\n",
    "    return expect_vals, init_state_revival\n"
   ]
  },
  {
   "cell_type": "code",
   "execution_count": 18,
   "metadata": {},
   "outputs": [],
   "source": [
    "t_final = 10 * np.abs(J)\n",
    "dt = 0.1\n",
    "Nt = int(t_final / dt)\n",
    "t_eval = np.linspace(0, t_final, Nt + 1)"
   ]
  },
  {
   "cell_type": "code",
   "execution_count": 19,
   "metadata": {},
   "outputs": [],
   "source": [
    "exact_res, init_state_revival = exact_evo(N, H_op.to_matrix(sparse=True), t_eval, mag_ave)"
   ]
  },
  {
   "cell_type": "code",
   "execution_count": 20,
   "metadata": {},
   "outputs": [
    {
     "data": {
      "image/png": "[encoded data removed]",
      "text/plain": [
       "<Figure size 1000x400 with 2 Axes>"
      ]
     },
     "metadata": {},
     "output_type": "display_data"
    }
   ],
   "source": [
    "fig, axs = plt.subplots(1, 2, figsize=(10, 4), sharex=True)\n",
    "axs[0].plot(t_eval, exact_res)\n",
    "axs[0].set_xlabel(rf\"$t$\")\n",
    "axs[0].set_ylabel(rf\"$M_z$\")\n",
    "\n",
    "axs[1].plot(t_eval, init_state_revival)\n",
    "axs[1].set_xlabel(rf\"$t$\")\n",
    "axs[1].set_ylabel(rf\"$\\langle \\psi_{{\\rm init}} | \\psi(t) \\rangle$\")\n",
    "\n",
    "plt.show()"
   ]
  },
  {
   "cell_type": "markdown",
   "metadata": {},
   "source": [
    "## Trotter circuit\n",
    "\n",
    "Let's do the same but with a quantum circuit."
   ]
  },
  {
   "cell_type": "code",
   "execution_count": 21,
   "metadata": {},
   "outputs": [],
   "source": [
    "from qiskit import QuantumRegister\n",
    "from qiskit.circuit.library import PauliEvolutionGate\n",
    "\n",
    "def ising_trotter_circ(H_list, N, t_final, dt, init_circ=None):\n",
    "    \"\"\"This method implements a Trotter circuit for the time evolution of the transverse field Ising model.\"\"\"\n",
    "    Nt = int(np.round(t_final / dt))\n",
    "\n",
    "    # ZZ terms of the Hamiltonian\n",
    "    z_ops = H_list[0]\n",
    "    z_circ = QuantumCircuit(N)\n",
    "    for i, coeff in enumerate(z_ops.coeffs):\n",
    "        # indices of qubits acted on by Rzz gate, keeping in mind periodic boundaty conditions\n",
    "        if not i == N - 1:\n",
    "            n, m = i, i + 1\n",
    "        else:\n",
    "            n, m = N - 1, 0\n",
    "\n",
    "        # R_zz(t) implements exp(-i t ZZ / 2 ), so need to account for the factor of 2\n",
    "        z_circ.rzz(2 * float(coeff) * dt, n, m)\n",
    "\n",
    "    # X terms of the Hamiltonian\n",
    "    x_ops = H_list[1]\n",
    "    x_circ = QuantumCircuit(N)\n",
    "    for i, coeff in enumerate(x_ops.coeffs):\n",
    "        # need to account for the factor of 2 again\n",
    "        x_circ.rx(2 * float(coeff) * dt, i)\n",
    "\n",
    "    qreg = QuantumRegister(N)\n",
    "    evo_circ = QuantumCircuit(qreg)\n",
    "    if init_circ is not None:\n",
    "        evo_circ.append(init_circ, qreg)\n",
    "    for _ in range(Nt):\n",
    "        evo_circ.append(x_circ, qreg)\n",
    "        evo_circ.append(z_circ, qreg)\n",
    "        evo_circ.barrier()\n",
    "\n",
    "    return evo_circ\n",
    "\n",
    "def ising_trotter_circ_short(H_list, N, t_final, dt, init_circ=None):\n",
    "    \"\"\"This method implements a Trotter circuit for the time evolution of the transverse field Ising model.\"\"\"\n",
    "    Nt = int(np.round(t_final / dt))\n",
    "\n",
    "    # ZZ-gate\n",
    "    z_ops = H_list[0]\n",
    "    z_circ = PauliEvolutionGate(z_ops, dt)\n",
    "\n",
    "    x_ops = H_list[1]\n",
    "    x_circ = PauliEvolutionGate(x_ops, dt)\n",
    "\n",
    "    qreg = QuantumRegister(N)\n",
    "    evo_circ = QuantumCircuit(qreg)\n",
    "    if init_circ is not None:\n",
    "        evo_circ.append(init_circ, qreg)\n",
    "    for _ in range(Nt):\n",
    "        evo_circ.append(x_circ, qreg)\n",
    "        evo_circ.append(z_circ, qreg)\n",
    "        evo_circ.barrier()\n",
    "\n",
    "    return evo_circ\n",
    "\n"
   ]
  },
  {
   "cell_type": "code",
   "execution_count": 22,
   "metadata": {},
   "outputs": [
    {
     "name": "stderr",
     "output_type": "stream",
     "text": [
      "/tmp/ipykernel_15600/2679585601.py:19: ComplexWarning: Casting complex values to real discards the imaginary part\n",
      "  z_circ.rzz(2 * float(coeff) * dt, n, m)\n",
      "/tmp/ipykernel_15600/2679585601.py:26: ComplexWarning: Casting complex values to real discards the imaginary part\n",
      "  x_circ.rx(2 * float(coeff) * dt, i)\n"
     ]
    },
    {
     "data": {
      "text/html": [
       "<pre style=\"word-wrap: normal;white-space: pre;background: #fff0;line-height: 1.1;font-family: &quot;Courier New&quot;,Courier,monospace\">      ┌─────────┐                                 ░ ┌─────────┐                »\n",
       "q0_0: ┤ Rx(0.6) ├─■───────────────────────■───────░─┤ Rx(0.6) ├─■──────────────»\n",
       "      ├─────────┤ │ZZ(1)                  │       ░ ├─────────┤ │ZZ(1)         »\n",
       "q0_1: ┤ Rx(0.6) ├─■───────■───────────────┼───────░─┤ Rx(0.6) ├─■───────■──────»\n",
       "      ├─────────┤         │ZZ(1)          │       ░ ├─────────┤         │ZZ(1) »\n",
       "q0_2: ┤ Rx(0.6) ├─────────■───────■───────┼───────░─┤ Rx(0.6) ├─────────■──────»\n",
       "      ├─────────┤                 │ZZ(1)  │ZZ(1)  ░ ├─────────┤                »\n",
       "q0_3: ┤ Rx(0.6) ├─────────────────■───────■───────░─┤ Rx(0.6) ├────────────────»\n",
       "      └─────────┘                                 ░ └─────────┘                »\n",
       "«                       ░ ┌─────────┐                                 ░ »\n",
       "«q0_0: ─────────■───────░─┤ Rx(0.6) ├─■───────────────────────■───────░─»\n",
       "«               │       ░ ├─────────┤ │ZZ(1)                  │       ░ »\n",
       "«q0_1: ─────────┼───────░─┤ Rx(0.6) ├─■───────■───────────────┼───────░─»\n",
       "«               │       ░ ├─────────┤         │ZZ(1)          │       ░ »\n",
       "«q0_2: ─■───────┼───────░─┤ Rx(0.6) ├─────────■───────■───────┼───────░─»\n",
       "«       │ZZ(1)  │ZZ(1)  ░ ├─────────┤                 │ZZ(1)  │ZZ(1)  ░ »\n",
       "«q0_3: ─■───────■───────░─┤ Rx(0.6) ├─────────────────■───────■───────░─»\n",
       "«                       ░ └─────────┘                                 ░ »\n",
       "«      ┌─────────┐                                 ░ \n",
       "«q0_0: ┤ Rx(0.6) ├─■───────────────────────■───────░─\n",
       "«      ├─────────┤ │ZZ(1)                  │       ░ \n",
       "«q0_1: ┤ Rx(0.6) ├─■───────■───────────────┼───────░─\n",
       "«      ├─────────┤         │ZZ(1)          │       ░ \n",
       "«q0_2: ┤ Rx(0.6) ├─────────■───────■───────┼───────░─\n",
       "«      ├─────────┤                 │ZZ(1)  │ZZ(1)  ░ \n",
       "«q0_3: ┤ Rx(0.6) ├─────────────────■───────■───────░─\n",
       "«      └─────────┘                                 ░ </pre>"
      ],
      "text/plain": [
       "      ┌─────────┐                                 ░ ┌─────────┐                »\n",
       "q0_0: ┤ Rx(0.6) ├─■───────────────────────■───────░─┤ Rx(0.6) ├─■──────────────»\n",
       "      ├─────────┤ │ZZ(1)                  │       ░ ├─────────┤ │ZZ(1)         »\n",
       "q0_1: ┤ Rx(0.6) ├─■───────■───────────────┼───────░─┤ Rx(0.6) ├─■───────■──────»\n",
       "      ├─────────┤         │ZZ(1)          │       ░ ├─────────┤         │ZZ(1) »\n",
       "q0_2: ┤ Rx(0.6) ├─────────■───────■───────┼───────░─┤ Rx(0.6) ├─────────■──────»\n",
       "      ├─────────┤                 │ZZ(1)  │ZZ(1)  ░ ├─────────┤                »\n",
       "q0_3: ┤ Rx(0.6) ├─────────────────■───────■───────░─┤ Rx(0.6) ├────────────────»\n",
       "      └─────────┘                                 ░ └─────────┘                »\n",
       "«                       ░ ┌─────────┐                                 ░ »\n",
       "«q0_0: ─────────■───────░─┤ Rx(0.6) ├─■───────────────────────■───────░─»\n",
       "«               │       ░ ├─────────┤ │ZZ(1)                  │       ░ »\n",
       "«q0_1: ─────────┼───────░─┤ Rx(0.6) ├─■───────■───────────────┼───────░─»\n",
       "«               │       ░ ├─────────┤         │ZZ(1)          │       ░ »\n",
       "«q0_2: ─■───────┼───────░─┤ Rx(0.6) ├─────────■───────■───────┼───────░─»\n",
       "«       │ZZ(1)  │ZZ(1)  ░ ├─────────┤                 │ZZ(1)  │ZZ(1)  ░ »\n",
       "«q0_3: ─■───────■───────░─┤ Rx(0.6) ├─────────────────■───────■───────░─»\n",
       "«                       ░ └─────────┘                                 ░ »\n",
       "«      ┌─────────┐                                 ░ \n",
       "«q0_0: ┤ Rx(0.6) ├─■───────────────────────■───────░─\n",
       "«      ├─────────┤ │ZZ(1)                  │       ░ \n",
       "«q0_1: ┤ Rx(0.6) ├─■───────■───────────────┼───────░─\n",
       "«      ├─────────┤         │ZZ(1)          │       ░ \n",
       "«q0_2: ┤ Rx(0.6) ├─────────■───────■───────┼───────░─\n",
       "«      ├─────────┤                 │ZZ(1)  │ZZ(1)  ░ \n",
       "«q0_3: ┤ Rx(0.6) ├─────────────────■───────■───────░─\n",
       "«      └─────────┘                                 ░ "
      ]
     },
     "execution_count": 22,
     "metadata": {},
     "output_type": "execute_result"
    }
   ],
   "source": [
    "circ = ising_trotter_circ([z_ops, x_ops], N, 2, 0.5)\n",
    "circ.decompose().draw()"
   ]
  },
  {
   "cell_type": "code",
   "execution_count": 23,
   "metadata": {},
   "outputs": [
    {
     "data": {
      "text/html": [
       "<pre style=\"word-wrap: normal;white-space: pre;background: #fff0;line-height: 1.1;font-family: &quot;Courier New&quot;,Courier,monospace\">      ┌─────────┐                                 ░ ┌─────────┐                »\n",
       "q1_0: ┤ Rx(0.6) ├─■───────────────────────■───────░─┤ Rx(0.6) ├─■──────────────»\n",
       "      ├─────────┤ │ZZ(1)                  │       ░ ├─────────┤ │ZZ(1)         »\n",
       "q1_1: ┤ Rx(0.6) ├─■───────■───────────────┼───────░─┤ Rx(0.6) ├─■───────■──────»\n",
       "      ├─────────┤         │ZZ(1)          │       ░ ├─────────┤         │ZZ(1) »\n",
       "q1_2: ┤ Rx(0.6) ├─────────■───────■───────┼───────░─┤ Rx(0.6) ├─────────■──────»\n",
       "      ├─────────┤                 │ZZ(1)  │ZZ(1)  ░ ├─────────┤                »\n",
       "q1_3: ┤ Rx(0.6) ├─────────────────■───────■───────░─┤ Rx(0.6) ├────────────────»\n",
       "      └─────────┘                                 ░ └─────────┘                »\n",
       "«                       ░ ┌─────────┐                                 ░ »\n",
       "«q1_0: ─────────■───────░─┤ Rx(0.6) ├─■───────────────────────■───────░─»\n",
       "«               │       ░ ├─────────┤ │ZZ(1)                  │       ░ »\n",
       "«q1_1: ─────────┼───────░─┤ Rx(0.6) ├─■───────■───────────────┼───────░─»\n",
       "«               │       ░ ├─────────┤         │ZZ(1)          │       ░ »\n",
       "«q1_2: ─■───────┼───────░─┤ Rx(0.6) ├─────────■───────■───────┼───────░─»\n",
       "«       │ZZ(1)  │ZZ(1)  ░ ├─────────┤                 │ZZ(1)  │ZZ(1)  ░ »\n",
       "«q1_3: ─■───────■───────░─┤ Rx(0.6) ├─────────────────■───────■───────░─»\n",
       "«                       ░ └─────────┘                                 ░ »\n",
       "«      ┌─────────┐                                 ░ \n",
       "«q1_0: ┤ Rx(0.6) ├─■───────────────────────■───────░─\n",
       "«      ├─────────┤ │ZZ(1)                  │       ░ \n",
       "«q1_1: ┤ Rx(0.6) ├─■───────■───────────────┼───────░─\n",
       "«      ├─────────┤         │ZZ(1)          │       ░ \n",
       "«q1_2: ┤ Rx(0.6) ├─────────■───────■───────┼───────░─\n",
       "«      ├─────────┤                 │ZZ(1)  │ZZ(1)  ░ \n",
       "«q1_3: ┤ Rx(0.6) ├─────────────────■───────■───────░─\n",
       "«      └─────────┘                                 ░ </pre>"
      ],
      "text/plain": [
       "      ┌─────────┐                                 ░ ┌─────────┐                »\n",
       "q1_0: ┤ Rx(0.6) ├─■───────────────────────■───────░─┤ Rx(0.6) ├─■──────────────»\n",
       "      ├─────────┤ │ZZ(1)                  │       ░ ├─────────┤ │ZZ(1)         »\n",
       "q1_1: ┤ Rx(0.6) ├─■───────■───────────────┼───────░─┤ Rx(0.6) ├─■───────■──────»\n",
       "      ├─────────┤         │ZZ(1)          │       ░ ├─────────┤         │ZZ(1) »\n",
       "q1_2: ┤ Rx(0.6) ├─────────■───────■───────┼───────░─┤ Rx(0.6) ├─────────■──────»\n",
       "      ├─────────┤                 │ZZ(1)  │ZZ(1)  ░ ├─────────┤                »\n",
       "q1_3: ┤ Rx(0.6) ├─────────────────■───────■───────░─┤ Rx(0.6) ├────────────────»\n",
       "      └─────────┘                                 ░ └─────────┘                »\n",
       "«                       ░ ┌─────────┐                                 ░ »\n",
       "«q1_0: ─────────■───────░─┤ Rx(0.6) ├─■───────────────────────■───────░─»\n",
       "«               │       ░ ├─────────┤ │ZZ(1)                  │       ░ »\n",
       "«q1_1: ─────────┼───────░─┤ Rx(0.6) ├─■───────■───────────────┼───────░─»\n",
       "«               │       ░ ├─────────┤         │ZZ(1)          │       ░ »\n",
       "«q1_2: ─■───────┼───────░─┤ Rx(0.6) ├─────────■───────■───────┼───────░─»\n",
       "«       │ZZ(1)  │ZZ(1)  ░ ├─────────┤                 │ZZ(1)  │ZZ(1)  ░ »\n",
       "«q1_3: ─■───────■───────░─┤ Rx(0.6) ├─────────────────■───────■───────░─»\n",
       "«                       ░ └─────────┘                                 ░ »\n",
       "«      ┌─────────┐                                 ░ \n",
       "«q1_0: ┤ Rx(0.6) ├─■───────────────────────■───────░─\n",
       "«      ├─────────┤ │ZZ(1)                  │       ░ \n",
       "«q1_1: ┤ Rx(0.6) ├─■───────■───────────────┼───────░─\n",
       "«      ├─────────┤         │ZZ(1)          │       ░ \n",
       "«q1_2: ┤ Rx(0.6) ├─────────■───────■───────┼───────░─\n",
       "«      ├─────────┤                 │ZZ(1)  │ZZ(1)  ░ \n",
       "«q1_3: ┤ Rx(0.6) ├─────────────────■───────■───────░─\n",
       "«      └─────────┘                                 ░ "
      ]
     },
     "execution_count": 23,
     "metadata": {},
     "output_type": "execute_result"
    }
   ],
   "source": [
    "circ = ising_trotter_circ_short([z_ops, x_ops], N, 2, 0.5)\n",
    "circ.decompose().decompose().draw()"
   ]
  },
  {
   "cell_type": "code",
   "execution_count": 24,
   "metadata": {},
   "outputs": [
    {
     "name": "stderr",
     "output_type": "stream",
     "text": [
      "/tmp/ipykernel_15600/2679585601.py:19: ComplexWarning: Casting complex values to real discards the imaginary part\n",
      "  z_circ.rzz(2 * float(coeff) * dt, n, m)\n",
      "/tmp/ipykernel_15600/2679585601.py:26: ComplexWarning: Casting complex values to real discards the imaginary part\n",
      "  x_circ.rx(2 * float(coeff) * dt, i)\n"
     ]
    }
   ],
   "source": [
    "t_final = 10\n",
    "dt_trotter = 0.2\n",
    "Nt_trotter = int(t_final / dt_trotter)\n",
    "t_eval_trotter = np.linspace(0, t_final, Nt_trotter + 1)\n",
    "\n",
    "init_circ = QuantumCircuit(N)\n",
    "\n",
    "trotter_circ_res = []\n",
    "for t in t_eval_trotter:\n",
    "    circ = ising_trotter_circ([z_ops, x_ops], N, t, dt_trotter, init_circ)\n",
    "    psi = Statevector(circ).data\n",
    "    trotter_circ_res.append(np.abs(np.conj(psi).dot(mag_ave).dot(psi)))\n"
   ]
  },
  {
   "cell_type": "code",
   "execution_count": 25,
   "metadata": {},
   "outputs": [
    {
     "data": {
      "image/png": "[encoded data removed]",
      "text/plain": [
       "<Figure size 600x400 with 1 Axes>"
      ]
     },
     "metadata": {},
     "output_type": "display_data"
    }
   ],
   "source": [
    "fig = plt.figure(figsize=(6, 4))\n",
    "ax = fig.add_subplot(111)\n",
    "\n",
    "ax.plot(t_eval, exact_res, label=\"exact\")\n",
    "ax.plot(t_eval_trotter, trotter_circ_res, label=\"circ Trotter\")\n",
    "\n",
    "ax.legend()\n",
    "plt.show()\n"
   ]
  },
  {
   "cell_type": "code",
   "execution_count": null,
   "metadata": {},
   "outputs": [],
   "source": []
  },
  {
   "cell_type": "code",
   "execution_count": null,
   "metadata": {},
   "outputs": [],
   "source": []
  }
 ],
 "metadata": {
  "kernelspec": {
   "display_name": "aqa-env",
   "language": "python",
   "name": "python3"
  },
  "language_info": {
   "codemirror_mode": {
    "name": "ipython",
    "version": 3
   },
   "file_extension": ".py",
   "mimetype": "text/x-python",
   "name": "python",
   "nbconvert_exporter": "python",
   "pygments_lexer": "ipython3",
   "version": "3.11.5"
  },
  "orig_nbformat": 4
 },
 "nbformat": 4,
 "nbformat_minor": 2
}
