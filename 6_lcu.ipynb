{
 "cells": [
  {
   "cell_type": "code",
   "execution_count": 1,
   "metadata": {},
   "outputs": [],
   "source": [
    "from qiskit import QuantumCircuit, QuantumRegister, transpile\n",
    "from qiskit.quantum_info import Statevector\n",
    "from qiskit_aer import AerSimulator\n",
    "from qiskit.visualization import plot_histogram"
   ]
  },
  {
   "cell_type": "markdown",
   "metadata": {},
   "source": [
    "### Example $A=Z, B=X$\n",
    "\n",
    "We want to perform the operation $W = Z + X = \\begin{pmatrix}\n",
    "1 & 1 \\\\\n",
    "1 & -1\n",
    "\\end{pmatrix}$ which is basically a non-normalized Hadamard\n",
    "$W |0\\rangle = | 0\\rangle + |1\\rangle$ with $\\lambda = 2$\n",
    "\n",
    "Following the theory, when we measure the ancilla in the state 0, we performed the operation $W/\\lambda = 0.5 \\begin{pmatrix}\n",
    "1 & 1 \\\\\n",
    "1 & -1\n",
    "\\end{pmatrix}$"
   ]
  },
  {
   "cell_type": "code",
   "execution_count": 6,
   "metadata": {},
   "outputs": [
    {
     "name": "stdout",
     "output_type": "stream",
     "text": [
      "   ┌───┐\n",
      "q: ┤ H ├\n",
      "   └───┘\n"
     ]
    }
   ],
   "source": [
    "prep = QuantumCircuit(1, name=\"prep\")\n",
    "prep.h(0)\n",
    "\n",
    "print(prep.draw())\n",
    "\n",
    "prep = prep.to_instruction()\n"
   ]
  },
  {
   "cell_type": "code",
   "execution_count": 12,
   "metadata": {},
   "outputs": [],
   "source": [
    "select = QuantumCircuit(2, name=\"select\")\n",
    "\n",
    "# 0-control Z gate (target is acted with Z iff control is in 0 state)\n",
    "select.x(0)\n",
    "select.cz(0,1)\n",
    "select.x(0)\n",
    "\n",
    "# control X gate\n",
    "select.cx(0,1)\n",
    "\n",
    "\n",
    "select = select.to_instruction()"
   ]
  },
  {
   "cell_type": "code",
   "execution_count": 13,
   "metadata": {},
   "outputs": [
    {
     "data": {
      "text/plain": [
       "<qiskit.circuit.instructionset.InstructionSet at 0x7f77a3cc4070>"
      ]
     },
     "execution_count": 13,
     "metadata": {},
     "output_type": "execute_result"
    }
   ],
   "source": [
    "q = QuantumRegister(2,'q')\n",
    "qc = QuantumCircuit(q)\n",
    "\n",
    "#qc.x(1)  #optional to create an initial state which is |1> \n",
    "qc.append(prep, [0])\n",
    "qc.barrier()\n",
    "\n",
    "qc.append(select, [0, 1])\n",
    "\n",
    "qc.barrier()\n",
    "qc.append(prep.inverse(), [0]) # note the adjoint / dagger (`inverse()`)"
   ]
  },
  {
   "cell_type": "code",
   "execution_count": 16,
   "metadata": {},
   "outputs": [
    {
     "name": "stdout",
     "output_type": "stream",
     "text": [
      "     ┌──────┐ ░ ┌─────────┐ ░ ┌─────────┐\n",
      "q_0: ┤ prep ├─░─┤0        ├─░─┤ prep_dg ├\n",
      "     └──────┘ ░ │  select │ ░ └─────────┘\n",
      "q_1: ─────────░─┤1        ├─░────────────\n",
      "              ░ └─────────┘ ░             \n",
      "\n",
      "\n",
      "     ┌───┐ ░ ┌───┐   ┌───┐      ░ ┌───┐\n",
      "q_0: ┤ H ├─░─┤ X ├─■─┤ X ├──■───░─┤ H ├\n",
      "     └───┘ ░ └───┘ │ └───┘┌─┴─┐ ░ └───┘\n",
      "q_1: ──────░───────■──────┤ X ├─░──────\n",
      "           ░              └───┘ ░      \n"
     ]
    }
   ],
   "source": [
    "print(qc.draw(), \"\\n\\n\")\n",
    "\n",
    "print(qc.decompose().draw())"
   ]
  },
  {
   "cell_type": "markdown",
   "metadata": {},
   "source": [
    "Notice that for qiskit the position of the upper qubit (ancilla) is the rightmost,\n",
    "\n",
    "00 <---- ancilla in0 \\\n",
    "01 \\\n",
    "10 <---- ancilla in0 \\\n",
    "11"
   ]
  },
  {
   "cell_type": "code",
   "execution_count": 46,
   "metadata": {},
   "outputs": [
    {
     "name": "stdout",
     "output_type": "stream",
     "text": [
      "[ 0.5+0.j  0.5+0.j  0.5+0.j -0.5+0.j]\n"
     ]
    },
    {
     "data": {
      "text/latex": [
       "$$\\frac{1}{2} |00\\rangle+\\frac{1}{2} |01\\rangle+\\frac{1}{2} |10\\rangle- \\frac{1}{2} |11\\rangle$$"
      ],
      "text/plain": [
       "<IPython.core.display.Latex object>"
      ]
     },
     "execution_count": 46,
     "metadata": {},
     "output_type": "execute_result"
    }
   ],
   "source": [
    "psi = Statevector(qc)\n",
    "print(psi.data)\n",
    "psi.draw('latex')"
   ]
  },
  {
   "cell_type": "code",
   "execution_count": 47,
   "metadata": {},
   "outputs": [
    {
     "name": "stdout",
     "output_type": "stream",
     "text": [
      "        ┌──────┐ ░ ┌─────────┐ ░ ┌─────────┐ ░ ┌─┐   \n",
      "   q_0: ┤ prep ├─░─┤0        ├─░─┤ prep_dg ├─░─┤M├───\n",
      "        └──────┘ ░ │  select │ ░ └─────────┘ ░ └╥┘┌─┐\n",
      "   q_1: ─────────░─┤1        ├─░─────────────░──╫─┤M├\n",
      "                 ░ └─────────┘ ░             ░  ║ └╥┘\n",
      "meas: 2/════════════════════════════════════════╩══╩═\n",
      "                                                0  1 \n"
     ]
    }
   ],
   "source": [
    "qc.measure_all()\n",
    "print(qc.draw())"
   ]
  },
  {
   "cell_type": "code",
   "execution_count": 49,
   "metadata": {},
   "outputs": [
    {
     "name": "stdout",
     "output_type": "stream",
     "text": [
      "{'01': 2545, '10': 2566, '11': 2530, '00': 2359}\n"
     ]
    },
    {
     "data": {
      "image/png": "[encoded data removed]",
      "text/plain": [
       "<Figure size 700x500 with 1 Axes>"
      ]
     },
     "execution_count": 49,
     "metadata": {},
     "output_type": "execute_result"
    }
   ],
   "source": [
    "shots = 10000\n",
    "aer_sim = AerSimulator()\n",
    "\n",
    "qc = transpile(qc, aer_sim)\n",
    "\n",
    "result = aer_sim.run(circuits=qc, shots=shots).result()\n",
    "counts = result.get_counts()\n",
    "\n",
    "print(counts)\n",
    "plot_histogram(counts)"
   ]
  },
  {
   "cell_type": "code",
   "execution_count": 50,
   "metadata": {},
   "outputs": [
    {
     "name": "stdout",
     "output_type": "stream",
     "text": [
      "probability of measuring ancilla in |0> (implementing W |0>):\n",
      "0.4925\n"
     ]
    }
   ],
   "source": [
    "print(\"probability of measuring ancilla in |0> (implementing W |0>):\")\n",
    "print(f\"{counts['00']/shots + counts['10']/shots}\")"
   ]
  },
  {
   "cell_type": "markdown",
   "metadata": {},
   "source": [
    "We see that there is a probability of 0.5 to mesure the ancilla in $| 0 \\rangle$. In that case, the state is left in the superposition $\\frac{1}{2}(|0\\rangle + |1\\rangle) = W |0 \\rangle/\\lambda$ (with $\\lambda = 2$)"
   ]
  },
  {
   "cell_type": "markdown",
   "metadata": {},
   "source": []
  }
 ],
 "metadata": {
  "kernelspec": {
   "display_name": "aqa-env",
   "language": "python",
   "name": "python3"
  },
  "language_info": {
   "codemirror_mode": {
    "name": "ipython",
    "version": 3
   },
   "file_extension": ".py",
   "mimetype": "text/x-python",
   "name": "python",
   "nbconvert_exporter": "python",
   "pygments_lexer": "ipython3",
   "version": "3.11.5"
  }
 },
 "nbformat": 4,
 "nbformat_minor": 2
}
