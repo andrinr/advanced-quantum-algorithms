{
 "cells": [
  {
   "cell_type": "code",
   "execution_count": 1,
   "metadata": {},
   "outputs": [],
   "source": [
    "import __future__\n",
    "\n",
    "import numpy as np\n",
    "\n",
    "from qiskit.quantum_info import SparsePauliOp"
   ]
  },
  {
   "cell_type": "code",
   "execution_count": 2,
   "metadata": {},
   "outputs": [],
   "source": [
    "class FermionicOperator():\n",
    "\n",
    "    def __init__(self, op_list: list | np.ndarray, num_qubits: int=None):\n",
    "        self.op_list = op_list\n",
    "        self.num_qubits = num_qubits\n",
    "\n",
    "        self.ops_split = []\n",
    "\n",
    "        max_idx = 0\n",
    "        for op, coeff in self.op_list.items():\n",
    "            op_split = op.split()\n",
    "            num_ops = len(op_split)\n",
    "            self.ops_split.append({\n",
    "                \"indices\": [int(o[-1]) for o in op_split],\n",
    "                \"conjugation\": [o[0] for o in op_split],\n",
    "                \"coeff\": coeff\n",
    "            })\n",
    "\n",
    "            if max_idx < max(self.ops_split[-1][\"indices\"]):\n",
    "                max_idx = max(self.ops_split[-1][\"indices\"])\n",
    "\n",
    "            if num_ops % 2 != 0 or self.ops_split[-1][\"conjugation\"].count(\"+\") != num_ops / 2:\n",
    "                raise ValueError(f\"FermionicOperator.map_operator(): {op} invalid\")\n",
    "\n",
    "        if self.num_qubits is None:\n",
    "            self.num_qubits = max_idx + 1\n",
    "        elif self.num_qubits < max_idx + 1:\n",
    "            raise ValueError(\n",
    "                f\"FermionicOperator.__init__(): num_qubits ({self.num_qubits}) \"\n",
    "                f\"is smaller than maximum operator index\")\n",
    "\n",
    "    def map_operator(self):\n",
    "        mapped_op_list = []\n",
    "        for i, op in enumerate(self.ops_split):\n",
    "            if len(op[\"indices\"]) == 2 and op[\"indices\"][0] == op[\"indices\"][1]:\n",
    "                mapped_op_list.append(self._map_number_op(op))\n",
    "            elif len(op[\"indices\"]) == 2 and op[\"indices\"][0] != op[\"indices\"][1]:\n",
    "                mapped_op_list.append(self._map_two_body_hop_op(op))\n",
    "            if len(op[\"indices\"]) == 4:\n",
    "                mapped_op_list.append(self._map_four_body_hop_op(op))\n",
    "            \n",
    "        return mapped_op_list\n",
    "\n",
    "    def _map_number_op(self, op):\n",
    "        # p = q:\n",
    "        # 2(I - Z)\n",
    "        mapped_op = []\n",
    "        norm = 1./2\n",
    "\n",
    "        idx = op[\"indices\"][0]\n",
    "\n",
    "        mapped_op.append((\n",
    "            self.num_qubits * \"I\",\n",
    "            op[\"coeff\"] * norm\n",
    "        ))\n",
    "        mapped_op.append((\n",
    "            (self.num_qubits - idx - 1) * \"I\" + \"Z\" + idx * \"I\",\n",
    "            - op[\"coeff\"] * norm\n",
    "        ))\n",
    "\n",
    "        return SparsePauliOp.from_list(mapped_op)\n",
    "    \n",
    "    def _map_two_body_hop_op(self, op):\n",
    "        # p > q:\n",
    "        # (X - iY)_p Z_p-1 ... Z_q+1 (X + iY)_q\n",
    "        # p < q:\n",
    "        # - (X + iY)_q Z_q-1 ... Z_p+1 (X - iY)_p\n",
    "\n",
    "        mapped_op = []\n",
    "        norm = 1./4\n",
    "\n",
    "        if op[\"conjugation\"][0] == \"-\":\n",
    "            op[\"indices\"] = op[\"indices\"][::-1]\n",
    "            norm *= -1\n",
    "\n",
    "        idx0 = op[\"indices\"][0]\n",
    "        idx1 = op[\"indices\"][1]\n",
    "\n",
    "        mapped_op.append((\n",
    "            (self.num_qubits - max(idx0, idx1) - 1) * \"I\" + \"X\" + (abs(idx0 - idx1) - 1) * \"Z\" + \"X\" + min(idx0, idx1) * \"I\",\n",
    "            op[\"coeff\"] * norm\n",
    "        ))\n",
    "        mapped_op.append((\n",
    "            (self.num_qubits - max(idx0, idx1) - 1) * \"I\" + \"Y\" + (abs(idx0 - idx1) - 1) * \"Z\" + \"X\" + min(idx0, idx1) * \"I\",\n",
    "            - np.sign(idx0 - idx1) * 1.j * op[\"coeff\"] * norm\n",
    "        ))\n",
    "        mapped_op.append((\n",
    "            (self.num_qubits - max(idx0, idx1) - 1) * \"I\" + \"X\" + (abs(idx0 - idx1) - 1) * \"Z\" + \"Y\" + min(idx0, idx1) * \"I\",\n",
    "            np.sign(idx0 - idx1) * 1.j * op[\"coeff\"] * norm\n",
    "        ))\n",
    "        mapped_op.append((\n",
    "            (self.num_qubits - max(idx0, idx1) - 1) * \"I\" + \"Y\" + (abs(idx0 - idx1) - 1) * \"Z\" + \"Y\" + min(idx0, idx1) * \"I\",\n",
    "            op[\"coeff\"] * norm\n",
    "        ))\n",
    "\n",
    "        return SparsePauliOp.from_list(mapped_op)\n"
   ]
  },
  {
   "cell_type": "code",
   "execution_count": 3,
   "metadata": {},
   "outputs": [
    {
     "name": "stdout",
     "output_type": "stream",
     "text": [
      "SparsePauliOp(['XZX', 'YZX', 'XZY', 'YZY'],\n",
      "              coeffs=[0.25+0.j  , 0.  -0.25j, 0.  +0.25j, 0.25+0.j  ])\n",
      "SparsePauliOp(['IXX', 'IYX', 'IXY', 'IYY'],\n",
      "              coeffs=[-0.25+0.j  ,  0.  -0.25j,  0.  +0.25j, -0.25+0.j  ])\n",
      "SparsePauliOp(['XZX', 'YZX', 'XZY', 'YZY'],\n",
      "              coeffs=[0.25+0.j  , 0.  +0.25j, 0.  -0.25j, 0.25+0.j  ])\n",
      "SparsePauliOp(['XXI', 'YXI', 'XYI', 'YYI'],\n",
      "              coeffs=[-0.25+0.j  ,  0.  -0.25j,  0.  +0.25j, -0.25+0.j  ])\n",
      "SparsePauliOp(['XXI', 'YXI', 'XYI', 'YYI'],\n",
      "              coeffs=[0.25+0.j  , 0.  +0.25j, 0.  -0.25j, 0.25+0.j  ])\n",
      "SparsePauliOp(['XXI', 'YXI', 'XYI', 'YYI'],\n",
      "              coeffs=[-0.25+0.j  ,  0.  +0.25j,  0.  -0.25j, -0.25+0.j  ])\n",
      "SparsePauliOp(['III', 'IZI'],\n",
      "              coeffs=[ 0.5+0.j, -0.5+0.j])\n"
     ]
    }
   ],
   "source": [
    "# test cases:\n",
    "op_list = [\n",
    "    # ({second_q-operator: coefficient}, num_qubits)\n",
    "    ({\"+_2 -_0\": 1.0}, 3),  # a^dagger_2 a_0\n",
    "    ({\"-_1 +_0\": 1.0}, 3),  # a_1 a^dagger_0\n",
    "    ({\"+_0 -_2\": 1.0}, 3),  # a^dagger_0 a_2\n",
    "    ({\"-_2 +_1\": 1.0}, 3),  # a_2 a^dagger_1\n",
    "    ({\"+_1 -_2\": 1.0}, 3),  # a^dagger_1 a_2\n",
    "    ({\"-_1 +_2\": 1.0}, 3),  # a_1 a^dagger_2\n",
    "    ({\"+_1 -_1\": 1.0}, 3),  # a^dagger_1 a_1\n",
    "]\n",
    "\n",
    "op_mapped = []\n",
    "for op in op_list:\n",
    "    ferm = FermionicOperator(op[0], num_qubits=op[1])\n",
    "    op_mapped.append(ferm.map_operator()[0])\n",
    "    print(op_mapped[-1])"
   ]
  },
  {
   "cell_type": "markdown",
   "metadata": {},
   "source": [
    "## Using qiskit-nature\n",
    "\n",
    "`> pip install qiskit-nature`"
   ]
  },
  {
   "cell_type": "code",
   "execution_count": 4,
   "metadata": {},
   "outputs": [],
   "source": [
    "from qiskit_nature.second_q.operators import FermionicOp\n",
    "from qiskit_nature.second_q.mappers import JordanWignerMapper\n",
    "from qiskit_nature.settings import QiskitNatureSettings\n",
    "\n",
    "QiskitNatureSettings.use_pauli_sum_op = False"
   ]
  },
  {
   "cell_type": "code",
   "execution_count": 5,
   "metadata": {},
   "outputs": [
    {
     "name": "stdout",
     "output_type": "stream",
     "text": [
      "SparsePauliOp(['XZZY', 'XZZX', 'YZZY', 'YZZX'],\n",
      "              coeffs=[0.  +0.58j, 0.58+0.j  , 0.58+0.j  , 0.  -0.58j])\n"
     ]
    }
   ],
   "source": [
    "sec_q_op = FermionicOp({\"+_3 -_0\": 2.32})\n",
    "mapped = JordanWignerMapper().map(sec_q_op)\n",
    "print(mapped)"
   ]
  },
  {
   "cell_type": "code",
   "execution_count": 6,
   "metadata": {},
   "outputs": [
    {
     "name": "stdout",
     "output_type": "stream",
     "text": [
      "SparsePauliOp(['XYXYIX', 'XXXYIX', 'XYXXIX', 'XXXXIX', 'XYXYIY', 'XXXYIY', 'XYXXIY', 'XXXXIY', 'YYXYIX', 'YXXYIX', 'YYXXIX', 'YXXXIX', 'YYXYIY', 'YXXYIY', 'YYXXIY', 'YXXXIY', 'XYYYIX', 'XXYYIX', 'XYYXIX', 'XXYXIX', 'XYYYIY', 'XXYYIY', 'XYYXIY', 'XXYXIY', 'YYYYIX', 'YXYYIX', 'YYYXIX', 'YXYXIX', 'YYYYIY', 'YXYYIY', 'YYYXIY', 'YXYXIY'],\n",
      "              coeffs=[ 0.0378125+0.j       ,  0.       -0.0378125j,  0.       +0.0378125j,\n",
      "  0.0378125+0.j       ,  0.       +0.0378125j,  0.0378125+0.j       ,\n",
      " -0.0378125+0.j       ,  0.       +0.0378125j,  0.       -0.0378125j,\n",
      " -0.0378125+0.j       ,  0.0378125+0.j       ,  0.       -0.0378125j,\n",
      "  0.0378125+0.j       ,  0.       -0.0378125j,  0.       +0.0378125j,\n",
      "  0.0378125+0.j       ,  0.       -0.0378125j, -0.0378125+0.j       ,\n",
      "  0.0378125+0.j       ,  0.       -0.0378125j,  0.0378125+0.j       ,\n",
      "  0.       -0.0378125j,  0.       +0.0378125j,  0.0378125+0.j       ,\n",
      " -0.0378125+0.j       ,  0.       +0.0378125j,  0.       -0.0378125j,\n",
      " -0.0378125+0.j       ,  0.       -0.0378125j, -0.0378125+0.j       ,\n",
      "  0.0378125+0.j       ,  0.       -0.0378125j])\n"
     ]
    }
   ],
   "source": [
    "sec_q_op = FermionicOp({\"+_3 +_5 -_0 +_2 -_4\": 1.21})\n",
    "mapped = JordanWignerMapper().map(sec_q_op)\n",
    "print(mapped)"
   ]
  },
  {
   "cell_type": "code",
   "execution_count": 12,
   "metadata": {},
   "outputs": [
    {
     "name": "stdout",
     "output_type": "stream",
     "text": [
      "SparsePauliOp(['IIII', 'IIIZ', 'IIZI', 'IZII', 'ZIII', 'IIZZ', 'IZIZ', 'XXYY', 'YYYY', 'XXXX', 'YYXX', 'ZIIZ', 'IZZI', 'ZIZI', 'ZZII'],\n",
      "              coeffs=[-0.79804642+0.j,  0.17771287+0.j, -0.24274281+0.j,  0.17771287+0.j,\n",
      " -0.24274281+0.j,  0.12293305+0.j,  0.17059738+0.j,  0.04475014+0.j,\n",
      "  0.04475014+0.j,  0.04475014+0.j,  0.04475014+0.j,  0.16768319+0.j,\n",
      "  0.16768319+0.j,  0.17627641+0.j,  0.12293305+0.j])\n"
     ]
    }
   ],
   "source": [
    "sec_q_op = FermionicOp(\n",
    "    {\n",
    "        \"+_0 -_0\": -1.2778530061568751,\n",
    "        \"+_1 -_1\": -0.4482996961016379,\n",
    "        \"+_2 -_2\": -1.2778530061568751,\n",
    "        \"+_3 -_3\": -0.4482996961016379,\n",
    "        \"+_0 +_0 -_0 -_0\": -0.34119476657602105,\n",
    "        \"+_0 +_1 -_1 -_0\": -0.08950028803070331,\n",
    "        \"+_0 +_0 -_1 -_1\": -0.08950028803070328,\n",
    "        \"+_0 +_1 -_0 -_1\": -0.33536638915437944,\n",
    "        \"+_0 +_2 -_0 -_2\": -0.34119476657602105,\n",
    "        \"+_0 +_3 -_1 -_2\": -0.08950028803070331,\n",
    "        \"+_0 +_2 -_1 -_3\": -0.08950028803070328,\n",
    "        \"+_0 +_3 -_0 -_3\": -0.33536638915437944,\n",
    "        \"+_1 +_0 -_1 -_0\": -0.33536638915437944,\n",
    "        \"+_1 +_1 -_0 -_0\": -0.08950028803070331,\n",
    "        \"+_1 +_0 -_0 -_1\": -0.08950028803070328,\n",
    "        \"+_1 +_1 -_1 -_1\": -0.3525528160863921,\n",
    "        \"+_1 +_2 -_1 -_2\": -0.33536638915437944,\n",
    "        \"+_1 +_3 -_0 -_2\": -0.08950028803070331,\n",
    "        \"+_1 +_2 -_0 -_3\": -0.08950028803070328,\n",
    "        \"+_1 +_3 -_1 -_3\": -0.3525528160863921,\n",
    "        \"+_2 +_0 -_2 -_0\": -0.34119476657602105,\n",
    "        \"+_2 +_1 -_3 -_0\": -0.08950028803070331,\n",
    "        \"+_2 +_0 -_3 -_1\": -0.08950028803070328,\n",
    "        \"+_2 +_1 -_2 -_1\": -0.33536638915437944,\n",
    "        \"+_2 +_2 -_2 -_2\": -0.34119476657602105,\n",
    "        \"+_2 +_3 -_3 -_2\": -0.08950028803070331,\n",
    "        \"+_2 +_2 -_3 -_3\": -0.08950028803070328,\n",
    "        \"+_2 +_3 -_2 -_3\": -0.33536638915437944,\n",
    "        \"+_3 +_0 -_3 -_0\": -0.33536638915437944,\n",
    "        \"+_3 +_1 -_2 -_0\": -0.08950028803070331,\n",
    "        \"+_3 +_0 -_2 -_1\": -0.08950028803070328,\n",
    "        \"+_3 +_1 -_3 -_1\": -0.3525528160863921,\n",
    "        \"+_3 +_2 -_3 -_2\": -0.33536638915437944,\n",
    "        \"+_3 +_3 -_2 -_2\": -0.08950028803070331,\n",
    "        \"+_3 +_2 -_2 -_3\": -0.08950028803070328,\n",
    "        \"+_3 +_3 -_3 -_3\": -0.3525528160863921,\n",
    "    },\n",
    "    num_spin_orbitals=4,\n",
    ")\n",
    "mapped = JordanWignerMapper().map(sec_q_op)\n",
    "print(mapped)"
   ]
  },
  {
   "cell_type": "markdown",
   "metadata": {},
   "source": [
    "### Comparing to our impementation:"
   ]
  },
  {
   "cell_type": "code",
   "execution_count": 13,
   "metadata": {},
   "outputs": [
    {
     "name": "stdout",
     "output_type": "stream",
     "text": [
      "SparsePauliOp(['XZY', 'XZX', 'YZY', 'YZX'],\n",
      "              coeffs=[0.  +0.25j, 0.25+0.j  , 0.25+0.j  , 0.  -0.25j])\n",
      "SparsePauliOp(['IXY', 'IXX', 'IYY', 'IYX'],\n",
      "              coeffs=[ 0.  +0.25j, -0.25+0.j  , -0.25+0.j  ,  0.  -0.25j])\n",
      "SparsePauliOp(['XZY', 'YZY', 'XZX', 'YZX'],\n",
      "              coeffs=[0.  -0.25j, 0.25+0.j  , 0.25+0.j  , 0.  +0.25j])\n",
      "SparsePauliOp(['XYI', 'XXI', 'YYI', 'YXI'],\n",
      "              coeffs=[ 0.  +0.25j, -0.25+0.j  , -0.25+0.j  ,  0.  -0.25j])\n",
      "SparsePauliOp(['XYI', 'YYI', 'XXI', 'YXI'],\n",
      "              coeffs=[0.  -0.25j, 0.25+0.j  , 0.25+0.j  , 0.  +0.25j])\n",
      "SparsePauliOp(['XYI', 'YYI', 'XXI', 'YXI'],\n",
      "              coeffs=[ 0.  -0.25j, -0.25+0.j  , -0.25+0.j  ,  0.  +0.25j])\n",
      "SparsePauliOp(['III', 'IZI'],\n",
      "              coeffs=[ 0.5+0.j, -0.5+0.j])\n"
     ]
    }
   ],
   "source": [
    "op_mapped_test = []\n",
    "for op in op_list:\n",
    "    op_mapped_test.append(\n",
    "        JordanWignerMapper().map(FermionicOp(op[0], num_spin_orbitals=op[1]))\n",
    "    )\n",
    "    print(op_mapped_test[-1])"
   ]
  },
  {
   "cell_type": "code",
   "execution_count": 14,
   "metadata": {},
   "outputs": [
    {
     "name": "stdout",
     "output_type": "stream",
     "text": [
      "True\n",
      "True\n",
      "True\n",
      "True\n",
      "True\n",
      "True\n",
      "True\n"
     ]
    }
   ],
   "source": [
    "for o in range(len(op_mapped)):\n",
    "    print(op_mapped[o].sort() == op_mapped_test[o].sort())"
   ]
  },
  {
   "cell_type": "code",
   "execution_count": null,
   "metadata": {},
   "outputs": [],
   "source": []
  }
 ],
 "metadata": {
  "kernelspec": {
   "display_name": "aqa-env",
   "language": "python",
   "name": "python3"
  },
  "language_info": {
   "codemirror_mode": {
    "name": "ipython",
    "version": 3
   },
   "file_extension": ".py",
   "mimetype": "text/x-python",
   "name": "python",
   "nbconvert_exporter": "python",
   "pygments_lexer": "ipython3",
   "version": "3.11.5"
  }
 },
 "nbformat": 4,
 "nbformat_minor": 2
}
