{
 "cells": [
  {
   "cell_type": "code",
   "execution_count": 1,
   "metadata": {},
   "outputs": [],
   "source": [
    "import numpy as np\n",
    "from qiskit import QuantumCircuit\n",
    "from qiskit.quantum_info import Statevector, Operator"
   ]
  },
  {
   "cell_type": "markdown",
   "metadata": {},
   "source": [
    "## 1. Controlled rotational gates\n",
    "\n",
    "Find the circuit decompisition for $CR_x(\\theta)$. You can use the code below to check whether your decomposition is correct (in which case there should be no \"not equal\" prints)."
   ]
  },
  {
   "cell_type": "code",
   "execution_count": 2,
   "metadata": {},
   "outputs": [],
   "source": [
    "a = 0.62"
   ]
  },
  {
   "cell_type": "code",
   "execution_count": 3,
   "metadata": {},
   "outputs": [
    {
     "name": "stdout",
     "output_type": "stream",
     "text": [
      "                                                   \n",
      "q_0: ───────────────■───────────────■──────────────\n",
      "     ┌───────────┐┌─┴─┐┌─────────┐┌─┴─┐┌──────────┐\n",
      "q_1: ┤ Ry(-0.31) ├┤ X ├┤ Rz(π/2) ├┤ X ├┤ Ry(0.31) ├\n",
      "     └───────────┘└───┘└─────────┘└───┘└──────────┘\n",
      "[[0.70710678-0.67340153j 0.        +0.j         0.        -0.21570903j\n",
      "  0.        +0.j        ]\n",
      " [0.        +0.j         0.70710678+0.67340153j 0.        +0.j\n",
      "  0.        +0.21570903j]\n",
      " [0.        -0.21570903j 0.        +0.j         0.70710678+0.67340153j\n",
      "  0.        +0.j        ]\n",
      " [0.        +0.j         0.        +0.21570903j 0.        +0.j\n",
      "  0.70710678-0.67340153j]]\n"
     ]
    },
    {
     "data": {
      "text/latex": [
       "$$(0.7071067812 - 0.6734015252 i) |00\\rangle- 0.2157090305 i |10\\rangle$$"
      ],
      "text/plain": [
       "<IPython.core.display.Latex object>"
      ]
     },
     "execution_count": 3,
     "metadata": {},
     "output_type": "execute_result"
    }
   ],
   "source": [
    "circ1 = QuantumCircuit(2) # your quantum circuit\n",
    "\n",
    "circ1.ry(-a / 2, 1)\n",
    "circ1.cx(0,1)\n",
    "circ1.rz(np.pi / 2, 1)\n",
    "circ1.cx(0,1)\n",
    "circ1.ry(a / 2, 1)\n",
    "\n",
    "print(circ1.draw())\n",
    "print(Operator(circ1).data)\n",
    "\n",
    "state = Statevector(circ1)\n",
    "state.draw('latex')"
   ]
  },
  {
   "cell_type": "code",
   "execution_count": 4,
   "metadata": {},
   "outputs": [
    {
     "name": "stdout",
     "output_type": "stream",
     "text": [
      "                 \n",
      "q_0: ─────■──────\n",
      "     ┌────┴─────┐\n",
      "q_1: ┤ Rx(0.62) ├\n",
      "     └──────────┘\n",
      "[[1.        +0.j         0.        +0.j         0.        +0.j\n",
      "  0.        +0.j        ]\n",
      " [0.        +0.j         0.95233357+0.j         0.        +0.j\n",
      "  0.        -0.30505864j]\n",
      " [0.        +0.j         0.        +0.j         1.        +0.j\n",
      "  0.        +0.j        ]\n",
      " [0.        +0.j         0.        -0.30505864j 0.        +0.j\n",
      "  0.95233357+0.j        ]]\n"
     ]
    }
   ],
   "source": [
    "circ2 = QuantumCircuit(2)\n",
    "circ2.crx(a, 0, 1)\n",
    "print(circ2.draw())\n",
    "\n",
    "print(Operator(circ2).data)"
   ]
  },
  {
   "cell_type": "code",
   "execution_count": 5,
   "metadata": {},
   "outputs": [
    {
     "data": {
      "text/plain": [
       "array([[False,  True, False,  True],\n",
       "       [ True, False,  True, False],\n",
       "       [False,  True, False,  True],\n",
       "       [ True, False,  True, False]])"
      ]
     },
     "execution_count": 5,
     "metadata": {},
     "output_type": "execute_result"
    }
   ],
   "source": [
    "Operator(circ2).data == Operator(circ1).data"
   ]
  },
  {
   "cell_type": "code",
   "execution_count": 6,
   "metadata": {},
   "outputs": [],
   "source": [
    "for i in range(4):\n",
    "    for j in range(4):\n",
    "        if Operator(circ1).data[i][j] - Operator(circ2).data[i][j] > 1e-15:\n",
    "            print(\"not equal\")\n"
   ]
  },
  {
   "cell_type": "markdown",
   "metadata": {},
   "source": [
    "While I have not really found a propper solution, I found one which strangely passes all test cases. \n",
    "\n",
    "I think for a prooper solution I need to represent the X rotation gate using other rotations. \n",
    "\n",
    "The relevant theory is that any untiatry operation $U$ can be decomposed into operators $A$, $B$ and $C$ s.t. $ABC = I$ and $AXBXC = U$."
   ]
  },
  {
   "cell_type": "markdown",
   "metadata": {},
   "source": [
    "## 2. Measuring composite operators\n",
    "\n",
    "Consider the following quantum circuits."
   ]
  },
  {
   "cell_type": "code",
   "execution_count": 7,
   "metadata": {},
   "outputs": [
    {
     "data": {
      "text/html": [
       "<pre style=\"word-wrap: normal;white-space: pre;background: #fff0;line-height: 1.1;font-family: &quot;Courier New&quot;,Courier,monospace\">        ┌───┐        \n",
       "q_0: ───┤ H ├─────■──\n",
       "     ┌──┴───┴──┐┌─┴─┐\n",
       "q_1: ┤ Ry(π/6) ├┤ X ├\n",
       "     └─────────┘└───┘</pre>"
      ],
      "text/plain": [
       "        ┌───┐        \n",
       "q_0: ───┤ H ├─────■──\n",
       "     ┌──┴───┴──┐┌─┴─┐\n",
       "q_1: ┤ Ry(π/6) ├┤ X ├\n",
       "     └─────────┘└───┘"
      ]
     },
     "execution_count": 7,
     "metadata": {},
     "output_type": "execute_result"
    }
   ],
   "source": [
    "from qiskit import QuantumRegister, ClassicalRegister, QuantumCircuit\n",
    "from numpy import pi\n",
    "\n",
    "qreg_q = QuantumRegister(2, 'q')\n",
    "circuit = QuantumCircuit(qreg_q)\n",
    "\n",
    "circuit.h(qreg_q[0])\n",
    "circuit.ry(pi / 6, qreg_q[1])\n",
    "circuit.cx(qreg_q[0], qreg_q[1])\n",
    "\n",
    "circuit.draw()"
   ]
  },
  {
   "cell_type": "markdown",
   "metadata": {},
   "source": [
    "This circuit acts on two qubits and produce a quantum state which is a reasonable ground state approxiamtion of the two-site (ferromagnetic) quantum transverse field Ising Hamiltonian at the critical point, defined as\n",
    "$$H = - Z Z - X I - I X$$"
   ]
  },
  {
   "cell_type": "markdown",
   "metadata": {},
   "source": [
    "1. Find the matrix representation of the Hamiltonian H.\n",
    "\n",
    "$$ Z = \\begin{bmatrix} 1 & 0 \\\\ 0 & -1 \\end{bmatrix} \\quad\n",
    "X = \\begin{bmatrix} 0 & 1 \\\\ 1 & 0 \\end{bmatrix} \\quad\n",
    "I = \\begin{bmatrix} 1 & 0 \\\\ 0 & 1 \\end{bmatrix} \\quad\n",
    "$$\n",
    "\n",
    "$$ ZZ = \\begin{bmatrix} 1 & 0 & 0 & 0 \\\\ 0 & -1 & 0 & 0 \\\\ 0 & 0 & -1 & 0 \\\\ 0 & 0 & 0 & 1 \\end{bmatrix} \\quad\n",
    "XI = \\begin{bmatrix} 0 & 0 & 1 & 0 \\\\ 0 & 0 & 0 & 1 \\\\ 1 & 0 & 0 & 0 \\\\ 0 & 1 & 0 & 0 \\end{bmatrix} \\quad\n",
    "IX = \\begin{bmatrix} 0 & 1 & 0 & 0 \\\\ 1 & 0 & 0 & 0 \\\\ 0 & 0 & 0 & 1 \\\\ 0 & 0 & 1 & 0 \\end{bmatrix} \\quad\n",
    "$$\n"
   ]
  },
  {
   "cell_type": "markdown",
   "metadata": {},
   "source": [
    "thus:\n",
    "\n",
    "$$ H = -ZZ - XI - IX = \\begin{bmatrix} -1 & -1 & -1 & 0 \\\\ -1 & 1 & 0 & -1 \\\\ -1 & 0 & 1 & -1 \\\\ 0 & -1 & -1 & 1 \\end{bmatrix} \\quad $$"
   ]
  },
  {
   "cell_type": "markdown",
   "metadata": {},
   "source": [
    "2. Find the statevector represantion $|\\psi \\rangle$ of the wavefunction generated by the above circuit (acting on the $|00\\rangle$ state)\n",
    "\n",
    "$$ \\begin{bmatrix} 1 \\\\ 0 \\\\ 0 \\\\ 0 \\end{bmatrix} \\times H = \\begin{bmatrix} -1 \\\\ -1 \\\\ -1 \\\\ 0 \\end{bmatrix} \\quad = -|00\\rangle - |01\\rangle - |10\\rangle$$\n",
    "\n"
   ]
  },
  {
   "cell_type": "markdown",
   "metadata": {},
   "source": [
    "3. Compute the expectation value of the energy, exactly: $\\langle \\psi | H | \\psi \\rangle$\n",
    "\n",
    "$$\\hat{H} = \\langle \\psi | H | \\psi \\rangle = \\begin{bmatrix} \\psi_0 & \\psi_1 & \\psi_2 & \\psi_3 \\end{bmatrix}  \\begin{bmatrix} -1 & -1 & -1 & 0 \\\\ -1 & 1 & 0 & -1 \\\\ -1 & 0 & 1 & -1 \\\\ 0 & -1 & -1 & 1 \\end{bmatrix} \\begin{bmatrix} \\psi_0 \\\\ \\psi_1 \\\\ \\psi_2 \\\\ \\psi_3 \\end{bmatrix} $$"
   ]
  },
  {
   "cell_type": "markdown",
   "metadata": {},
   "source": [
    "$$ = (-\\psi_0 -\\psi_1 -\\psi_2) \\psi_0 + (-\\psi_0 +\\psi_1 -\\psi_3) \\psi_1 +(-\\psi_0 +\\psi_2 -\\psi_3) \\psi_2 + (-\\psi_1 -\\psi_2 +\\psi_3) \\psi_3$$"
   ]
  },
  {
   "cell_type": "markdown",
   "metadata": {},
   "source": [
    "4. Find a procedure to compute the expectation value of the energy using the quantum measurements.\n",
    "\n",
    "We can measure each of the operators $ZZ$, $XI$ and $IX$ and then compute the expectation value of the energy as:\n",
    "\n",
    "$$ \\langle \\psi | H | \\psi \\rangle = - \\langle ZZ \\rangle - \\langle XI \\rangle - \\langle IX \\rangle $$\n",
    "\n",
    "In this case $ZZ$ can be measured by measuring the parity of the redout string, as described in the script. \n",
    "\n",
    "$XI$ and $IX$ cannot be measured directly, we need to find an unitary transformation $U$ such that $U^\\dagger P^{diag} U = XI$ ($=XI$ respectively) and then measure the parity of the redout string after applying $U$ to the state."
   ]
  },
  {
   "cell_type": "markdown",
   "metadata": {},
   "source": [
    "For $XI$ we can use $U = H \\otimes I$ and for $IX$ we can use $U = I \\otimes H$.\n",
    "\n",
    "Furthermore we use for $XI$ $P^{diag} = ZI$ and for $IX$ $P^{diag} = IZ$."
   ]
  },
  {
   "cell_type": "markdown",
   "metadata": {},
   "source": [
    "5. bonus: what's the minimal number of circuits needed in this case"
   ]
  }
 ],
 "metadata": {
  "kernelspec": {
   "display_name": "aqa-env",
   "language": "python",
   "name": "python3"
  },
  "language_info": {
   "codemirror_mode": {
    "name": "ipython",
    "version": 3
   },
   "file_extension": ".py",
   "mimetype": "text/x-python",
   "name": "python",
   "nbconvert_exporter": "python",
   "pygments_lexer": "ipython3",
   "version": "3.11.5"
  },
  "orig_nbformat": 4
 },
 "nbformat": 4,
 "nbformat_minor": 2
}
