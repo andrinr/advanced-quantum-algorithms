{
 "cells": [
  {
   "cell_type": "code",
   "execution_count": 2,
   "metadata": {},
   "outputs": [],
   "source": [
    "import numpy as np\n",
    "from scipy.linalg import expm, eig, norm\n",
    "import matplotlib.pyplot as plt"
   ]
  },
  {
   "cell_type": "code",
   "execution_count": 3,
   "metadata": {},
   "outputs": [],
   "source": [
    "# We define Pauli matices and a helper function for tensor products of Paulis for convenience to use later.\n",
    "ident = np.array([[1, 0], [0, 1]])\n",
    "pauli_x = np.array([[0, 1], [1, 0]])\n",
    "pauli_y = np.array([[0, -1j], [1j, 0]])\n",
    "pauli_z = np.array([[1, 0], [0, -1]])\n",
    "\n",
    "def pauli_product(pauli_string):\n",
    "    \"\"\"Helper method to compute kronecker product of Paulis\"\"\"\n",
    "\n",
    "    prod = 1\n",
    "    for p in pauli_string:\n",
    "        if p == \"I\":\n",
    "            prod = np.kron(prod, ident)\n",
    "        elif p == \"X\":\n",
    "            prod = np.kron(prod, pauli_x)\n",
    "        elif p == \"Y\":\n",
    "            prod = np.kron(prod, pauli_y)\n",
    "        elif p == \"Z\":\n",
    "            prod = np.kron(prod, pauli_z)\n",
    "\n",
    "    return prod\n",
    "\n",
    "def sortES(eigVals, eigVecs):\n",
    "    \"\"\"\n",
    "    simple routine to sort eigenvectors given the eigenvalues\n",
    "    \"\"\"\n",
    "\n",
    "    # Zip the associated eigenvalues and eigenvectors together and sort by eigenvalue\n",
    "    eigSystem = sorted(zip(eigVals, np.transpose(eigVecs)), key = lambda x: x[0])\n",
    "    eigValsOut = [eVal for eVal, _ in eigSystem]\n",
    "    eigVecsOut = [eVec for _, eVec in eigSystem]\n",
    "\n",
    "    return eigValsOut,eigVecsOut\n",
    "\n",
    "def printstate(v, L, cutoff):\n",
    "    \"\"\"\n",
    "    routine to print quantum states in human readable format.\n",
    "    cutoff value will skip entries with small amplitudes\n",
    "    \"\"\"\n",
    "    for i in range(1<<L):\n",
    "        # index, binary repr, amplitudes, amplitudes squared\n",
    "        if v[i] * np.conj(v[i]) > cutoff:\n",
    "            print(f\"{i}  -  {np.binary_repr(i, width=L)}  -  {v[i]}  -  {v[i]*np.conj(v[i])}\")\n",
    "\n",
    "def diag_H(H):\n",
    "    eigVals,eigVecs = eig(H)\n",
    "    eigVals,eigVecs = sortES(eigVals, eigVecs)\n",
    "    en_exact = eigVals[0]\n",
    "\n",
    "    print(\"\\nGround state energy exact\")\n",
    "    print(np.real(en_exact))\n",
    "\n",
    "    print(f\"\\nGap (Delta): {np.real(eigVals[1] - eigVals[0])}\")"
   ]
  },
  {
   "cell_type": "markdown",
   "metadata": {},
   "source": [
    "## 1. L qubit Hamiltonain\n",
    "\n",
    "- Generalize the 2-qubit case and devise a method to construct an arbitrary $L$-qubit transverse field Ising Hamiltonian $H = - J \\sum_i Z_i Z_{i+1} - h \\sum_i Z_i - \\Gamma \\sum_i X_i$\n",
    "- What is the ground state energy of an 8-qubit Hamiltonian, with\n",
    "    - $J = 1$\n",
    "    - $\\Gamma = 1$\n",
    "    - keeping as the local magnetic field strenght $h = 0.1$, i.e., adding an additional term $h \\sum_i Z_i$\n",
    "    - periodic boudary conditions"
   ]
  },
  {
   "cell_type": "code",
   "execution_count": 4,
   "metadata": {},
   "outputs": [],
   "source": [
    "def gen_H(L : int, h : float, gamma : float, J : float):\n",
    "    ### Generate Ising Hamiltonian\n",
    "    # \n",
    "    # params:\n",
    "    # - L : number of qubits\n",
    "    # - h : local magnetic field strength\n",
    "    # - J  \n",
    "    ###\n",
    "\n",
    "    if L < 2:\n",
    "        raise ValueError()\n",
    "    \n",
    "    term1 = pauli_product('I' * L)\n",
    "    term2 = term1.copy()\n",
    "    term3 = term1.copy()\n",
    "\n",
    "    for i in range(L-1):\n",
    "        term1 += pauli_product('I' * i + 'ZZ' + 'I' * (L-2-i))\n",
    "        term2 += pauli_product('I' * i + 'Z' + 'I' * (L-1-i))\n",
    "        term3 += pauli_product('I' * i + 'X' + 'I' * (L-1-i))\n",
    "\n",
    "    H_P = - J * term1\n",
    "    H_Q = - h * term2 - gamma * term3\n",
    "\n",
    "    return H_P, H_Q\n",
    "    "
   ]
  },
  {
   "cell_type": "code",
   "execution_count": 5,
   "metadata": {},
   "outputs": [
    {
     "name": "stdout",
     "output_type": "stream",
     "text": [
      "Spectrum exact\n",
      "[-11.75309767 -11.01530012 -10.47192151 -10.41531116  -9.75940567\n",
      "  -9.73932888  -9.13253982  -9.09596427  -8.90422835  -8.88760674\n",
      "  -8.55628629  -8.47307323  -8.27075921  -8.17059776  -8.06040077\n",
      "  -7.95735947  -7.74197444  -7.66043103  -7.64302659  -7.56139427\n",
      "  -7.47295684  -7.44112945  -7.37550376  -7.23837617  -7.23406926\n",
      "  -7.04193015  -6.94685315  -6.8874657   -6.82225451  -6.78453191\n",
      "  -6.72491821  -6.66981672  -6.65965461  -6.49209473  -6.4093629\n",
      "  -6.32012826  -6.20900599  -6.17814186  -6.15965447  -6.14903894\n",
      "  -6.04818397  -5.96493365  -5.94643666  -5.7607634   -5.7333439\n",
      "  -5.64428705  -5.63303215  -5.57547112  -5.46891856  -5.42413758\n",
      "  -5.41631092  -5.29643855  -5.29104416  -5.28857448  -5.1755183\n",
      "  -5.11320721  -5.07249982  -5.06940449  -4.98137591  -4.95961907\n",
      "  -4.94456792  -4.88982743  -4.77086656  -4.74329967  -4.66573023\n",
      "  -4.66094445  -4.61975639  -4.59188608  -4.50915384  -4.42958952\n",
      "  -4.3669114   -4.34615651  -4.33156247  -4.29601087  -4.24141283\n",
      "  -4.17877449  -4.17726823  -4.13265401  -4.11184426  -4.01065652\n",
      "  -3.91796715  -3.91654993  -3.88578722  -3.85683386  -3.84061875\n",
      "  -3.79380487  -3.71946758  -3.71862982  -3.65693282  -3.62148175\n",
      "  -3.61470561  -3.58470989  -3.56347461  -3.51951841  -3.42834816\n",
      "  -3.4208094   -3.37754311  -3.36254272  -3.28738198  -3.24063143\n",
      "  -3.18017205  -3.13386161  -3.03025043  -3.01745977  -3.00626474\n",
      "  -2.95847599  -2.93190482  -2.8805632   -2.85481653  -2.83598159\n",
      "  -2.81119297  -2.80432823  -2.76046943  -2.7540195   -2.68073456\n",
      "  -2.65423857  -2.58139562  -2.51020537  -2.46335482  -2.4373707\n",
      "  -2.42137795  -2.38956652  -2.31511075  -2.25763979  -2.2029392\n",
      "  -2.17269184  -2.15194373  -2.11561029  -2.1060638   -2.06888495\n",
      "  -1.99695045  -1.97307423  -1.95054433  -1.87324627  -1.7988343\n",
      "  -1.77325701  -1.73111258  -1.72202203  -1.71086157  -1.63977919\n",
      "  -1.50785537  -1.49566827  -1.4739631   -1.43007827  -1.40082022\n",
      "  -1.3786941   -1.35698514  -1.32377358  -1.31595876  -1.25149961\n",
      "  -1.23950275  -1.19888113  -1.19255481  -1.15756344  -1.01935947\n",
      "  -0.99203775  -0.95990326  -0.95572954  -0.80515567  -0.77513115\n",
      "  -0.77414122  -0.72476067  -0.67426767  -0.66790987  -0.61699684\n",
      "  -0.60473102  -0.56794064  -0.5084922   -0.4812076   -0.45783025\n",
      "  -0.40493154  -0.37832015  -0.29814708  -0.25956196  -0.2585817\n",
      "  -0.25297984  -0.22654001  -0.12683661  -0.06035362  -0.03709887\n",
      "   0.01667073   0.05654075   0.10173126   0.11469921   0.14664949\n",
      "   0.17373377   0.24699081   0.34384454   0.36474954   0.38018593\n",
      "   0.4660207    0.47906154   0.5046617    0.59321056   0.70404141\n",
      "   0.74339342   0.78810521   0.84298529   0.84477547   0.89530725\n",
      "   0.94361885   0.9810119    1.02661358   1.08298268   1.09535662\n",
      "   1.16411277   1.24435631   1.24924798   1.38673134   1.45791587\n",
      "   1.47099187   1.55081432   1.55633154   1.66291847   1.77718061\n",
      "   1.85453425   1.92500864   1.94689761   2.01045328   2.02221784\n",
      "   2.15206312   2.25985607   2.3003594    2.41061212   2.49712119\n",
      "   2.5378934    2.5404274    2.63627827   2.67961259   2.74214413\n",
      "   2.89643163   3.00211751   3.09939558   3.16055859   3.27768747\n",
      "   3.33091673   3.35340226   3.39449768   3.40672233   3.49436265\n",
      "   3.69960994   3.76924134   4.02474232   4.09910664   4.20903211\n",
      "   4.25536323   4.70006241   4.80032954   4.82039699   4.86297316\n",
      "   5.50463302   5.55607288   6.25071777   6.30749282   7.00181593\n",
      "   7.11761945]\n",
      "\n",
      "Ground state energy exact\n",
      "-11.753097668968561\n",
      "\n",
      "Ground state wf exact\n",
      "0  -  00000000  -  -0.7137510877761687  -  0.5094406153016641\n",
      "2  -  00000010  -  -0.1688418123275798  -  0.02850755759006168\n",
      "4  -  00000100  -  -0.17710969947659097  -  0.031367845648688365\n",
      "6  -  00000110  -  -0.07558393535632374  -  0.005712931283948926\n",
      "8  -  00001000  -  -0.17879412486301835  -  0.0319673390855326\n",
      "10  -  00001010  -  -0.043697912177984695  -  0.001909507528714863\n",
      "12  -  00001100  -  -0.08255145874267174  -  0.006814743340543034\n",
      "14  -  00001110  -  -0.040649111872863165  -  0.0016523502960525452\n",
      "16  -  00010000  -  -0.1799188084475343  -  0.03237077763318054\n",
      "18  -  00010010  -  -0.04273488081050071  -  0.001826270037887702\n",
      "20  -  00010100  -  -0.046434718320308696  -  0.002156183065486412\n",
      "24  -  00011000  -  -0.0847640283358746  -  0.007184940499724951\n",
      "28  -  00011100  -  -0.04596550984765426  -  0.002112828095554801\n",
      "32  -  00100000  -  -0.18262399214166541  -  0.03335152250575907\n",
      "34  -  00100010  -  -0.043237726241183654  -  0.0018695009705075416\n",
      "36  -  00100100  -  -0.0455802535674358  -  0.002077559515271744\n",
      "40  -  00101000  -  -0.04780772422035803  -  0.002285578495129808\n",
      "48  -  00110000  -  -0.08783872940071263  -  0.007715642382731618\n",
      "56  -  00111000  -  -0.049181209369136406  -  0.0024187913550108306\n",
      "64  -  01000000  -  -0.19426500774464622  -  0.03773889323402746\n",
      "66  -  01000010  -  -0.04596791200724065  -  0.0021130489343054192\n",
      "68  -  01000100  -  -0.04828352942067537  -  0.002331299213317224\n",
      "72  -  01001000  -  -0.04906924815703341  -  0.002407791114696527\n",
      "80  -  01010000  -  -0.051726103797982925  -  0.0026755898141197034\n",
      "96  -  01100000  -  -0.09893245095318369  -  0.009787629851604097\n",
      "112  -  01110000  -  -0.057834639635689335  -  0.0033448455417900477\n",
      "120  -  01111000  -  -0.035209792476261124  -  0.0012397294862213745\n",
      "128  -  10000000  -  -0.31247214075830376  -  0.0976388387500772\n",
      "130  -  10000010  -  -0.07392670748784128  -  0.005465158079992847\n",
      "132  -  10000100  -  -0.07758829581753277  -  0.006019943647868973\n",
      "134  -  10000110  -  -0.03313234803867274  -  0.0010977524865557412\n",
      "136  -  10001000  -  -0.078496253509802  -  0.006161661815075102\n",
      "140  -  10001100  -  -0.03635050458060393  -  0.0013213591832645073\n",
      "144  -  10010000  -  -0.07980845242055881  -  0.0063693890777646\n",
      "152  -  10011000  -  -0.038085825647044304  -  0.0014505301152170577\n",
      "160  -  10100000  -  -0.08655528818555502  -  0.007491817912884481\n",
      "176  -  10110000  -  -0.04419395543403208  -  0.0019531056969052138\n",
      "192  -  11000000  -  -0.18760123420343813  -  0.035194223074653246\n",
      "194  -  11000010  -  -0.04440833107754144  -  0.001972099869092533\n",
      "196  -  11000100  -  -0.046722920398710927  -  0.0021830312905842778\n",
      "200  -  11001000  -  -0.04782874458974495  -  0.0022875888090310567\n",
      "208  -  11010000  -  -0.05235602588242287  -  0.0027411534462009335\n",
      "224  -  11100000  -  -0.11859332485522389  -  0.014064376700216664\n",
      "232  -  11101000  -  -0.03303394418936043  -  0.0010912414687057799\n",
      "240  -  11110000  -  -0.07576150773463389  -  0.00573980605422499\n",
      "248  -  11111000  -  -0.048152755547140665  -  0.0023186878667826863\n",
      "\n",
      "Gap (Delta): 0.7377975505950953\n"
     ]
    }
   ],
   "source": [
    "L = 8\n",
    "H_P, H_Q = gen_H(L, 0.1, 1, 1)\n",
    "\n",
    "H = H_P + H_Q\n",
    "\n",
    "eigVals,eigVecs = eig(H)\n",
    "eigVals,eigVecs = sortES(eigVals, eigVecs)\n",
    "en_exact = eigVals[0]\n",
    "\n",
    "print(\"Spectrum exact\")\n",
    "print(np.real(eigVals[:1<<L]))\n",
    "print(\"\\nGround state energy exact\")\n",
    "print(np.real(en_exact))\n",
    "\n",
    "print(\"\\nGround state wf exact\")\n",
    "printstate(eigVecs[0], L, 0.001)\n",
    "\n",
    "print(f\"\\nGap (Delta): {np.real(eigVals[1] - eigVals[0])}\")"
   ]
  },
  {
   "cell_type": "markdown",
   "metadata": {},
   "source": [
    "## 2. Time to solution (TTS)\n",
    "\n",
    "- Define an Ising model with\n",
    "    - $L = 8\n",
    "    - $J = 1$\n",
    "    - $\\Gamma = 1$\n",
    "    - keeping as the local magnetic field strenght $h = 0.1$, i.e., adding an additional term $h \\sum_i Z_i$\n",
    "    - periodic boudary conditions\n",
    "- Compute the exact ground state of $H_P = - J \\sum_i Z_i Z_{i+1} - h \\sum_i Z_i$"
   ]
  },
  {
   "cell_type": "code",
   "execution_count": 6,
   "metadata": {},
   "outputs": [
    {
     "name": "stdout",
     "output_type": "stream",
     "text": [
      "\n",
      "Ground state wf exact\n",
      "0  -  00000000  -  1.0  -  1.0\n"
     ]
    }
   ],
   "source": [
    "L = 8\n",
    "\n",
    "H_P, H_Q = gen_H(L, 0.1, 1.0, 1)\n",
    "\n",
    "eigVals,eigVecs = eig(H_P)\n",
    "eigVals,eigVecs = sortES(eigVals, eigVecs)\n",
    "\n",
    "ground_state_exact = eigVecs[0]\n",
    "\n",
    "print(\"\\nGround state wf exact\")\n",
    "printstate(ground_state_exact, L, 0.001)"
   ]
  },
  {
   "cell_type": "markdown",
   "metadata": {},
   "source": [
    "- Compute the ground state of $H_P$ via quantum annealing for a range of annealing times $t_{\\rm total} \\in \\{ 1, 1.1, \\ldots, 10 \\}$ with increments of 0.1 and a step size of $\\Delta t = 0.1$\n",
    "- Compute the success probability $p_\\mathrm{success}$ at the end of the anneal\n",
    "- Compute the time to solution (TTS) of each anneal as a function of $t_\\mathrm{total}$\n",
    "- Plot both $p_\\mathrm{success}$ and TTS"
   ]
  },
  {
   "cell_type": "code",
   "execution_count": 7,
   "metadata": {},
   "outputs": [],
   "source": [
    "L = 8\n",
    "\n",
    "init_psi = np.ones(1<<L, dtype=complex)\n",
    "init_psi /= norm(init_psi, 2)"
   ]
  },
  {
   "cell_type": "code",
   "execution_count": 8,
   "metadata": {},
   "outputs": [],
   "source": [
    "def adiabatic_evolution(t, dt, H_P, H_Q):\n",
    "    s = t / dt\n",
    "    H_instant = (1.0 - s) * H_Q + s * H_P\n",
    "    \n",
    "    return expm(-1.j * t * H_instant)"
   ]
  },
  {
   "cell_type": "code",
   "execution_count": 10,
   "metadata": {},
   "outputs": [
    {
     "name": "stderr",
     "output_type": "stream",
     "text": [
      "  0%|          | 0/90 [00:00<?, ?it/s]"
     ]
    },
    {
     "name": "stderr",
     "output_type": "stream",
     "text": [
      "/tmp/ipykernel_905/2198707318.py:28: ComplexWarning: Casting complex values to real discards the imaginary part\n",
      "  p_success[index] = psi_temp[0]*np.conj(psi_temp[0])\n",
      "100%|██████████| 90/90 [00:08<00:00, 11.05it/s]\n"
     ]
    }
   ],
   "source": [
    "# approximate adiabatic evolution changing the hamiltonian at each dt timestep\n",
    "from tqdm import tqdm\n",
    "H_P, H_Q = gen_H(L, 0.1, 1, 1)\n",
    "\n",
    "taus = np.arange(1.0, 10.0, 0.1)\n",
    "tts = np.zeros_like(taus)\n",
    "p_success = np.zeros_like(taus)\n",
    "\n",
    "p_target = 0.99\n",
    "margin_of_error = 0.1\n",
    "\n",
    "psi_temp = init_psi.copy()\n",
    "\n",
    "time = 0.0\n",
    "dt = 0.1\n",
    "index = 0\n",
    "for tau in tqdm(taus):\n",
    "    n_dtpoints = int(tau / 0.1)\n",
    "    t_array = np.linspace(0, tau, num=n_dtpoints, endpoint=False)\n",
    "\n",
    "    while time < tau:\n",
    "        U = adiabatic_evolution(time, tau, H_P, H_Q)\n",
    "        psi_temp = np.matmul(U, psi_temp)\n",
    "        time += dt\n",
    "\n",
    "\n",
    "    # I think I am doing something wrong here\n",
    "    p_success[index] = psi_temp[0]*np.conj(psi_temp[0])\n",
    "    R_target = np.log(1 - p_target) / np.log(1 - p_success[index])\n",
    "\n",
    "    tts[index] = tau * R_target\n",
    "    index += 1"
   ]
  },
  {
   "cell_type": "code",
   "execution_count": 11,
   "metadata": {},
   "outputs": [
    {
     "data": {
      "image/png": "[encoded data removed]",
      "text/plain": [
       "<Figure size 640x480 with 1 Axes>"
      ]
     },
     "metadata": {},
     "output_type": "display_data"
    },
    {
     "data": {
      "image/png": "[encoded data removed]",
      "text/plain": [
       "<Figure size 640x480 with 1 Axes>"
      ]
     },
     "metadata": {},
     "output_type": "display_data"
    }
   ],
   "source": [
    "# plot results\n",
    "plt.plot(taus, tts)\n",
    "plt.xlabel(r'$\\tau$')\n",
    "plt.ylabel(r'$t_{\\mathrm{tot}}$')\n",
    "plt.show()\n",
    "\n",
    "plt.plot(taus, p_success)\n",
    "plt.xlabel(r'$\\tau$')\n",
    "plt.ylabel(r'$p_{\\mathrm{success}}$')\n",
    "plt.show()\n"
   ]
  },
  {
   "cell_type": "code",
   "execution_count": null,
   "metadata": {},
   "outputs": [],
   "source": []
  }
 ],
 "metadata": {
  "kernelspec": {
   "display_name": "aqa-env",
   "language": "python",
   "name": "python3"
  },
  "language_info": {
   "codemirror_mode": {
    "name": "ipython",
    "version": 3
   },
   "file_extension": ".py",
   "mimetype": "text/x-python",
   "name": "python",
   "nbconvert_exporter": "python",
   "pygments_lexer": "ipython3",
   "version": "3.11.5"
  },
  "orig_nbformat": 4
 },
 "nbformat": 4,
 "nbformat_minor": 2
}
