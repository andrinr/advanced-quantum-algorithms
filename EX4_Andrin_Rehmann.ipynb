{
 "cells": [
  {
   "cell_type": "code",
   "execution_count": 1,
   "metadata": {},
   "outputs": [],
   "source": [
    "import numpy as np\n",
    "from scipy.linalg import norm\n",
    "from scipy.sparse.linalg import expm_multiply, expm\n",
    "import matplotlib.pyplot as plt\n",
    "\n",
    "from qiskit import QuantumCircuit, QuantumRegister\n",
    "from qiskit.quantum_info import SparsePauliOp, Operator, Statevector"
   ]
  },
  {
   "cell_type": "markdown",
   "metadata": {},
   "source": [
    "# Exercise\n",
    "We have seen how to time evolve an Ising Hamiltonian. In this exercise we ask you to time-evolve a Heisenberg Hamiltonian with transverse field,\n",
    "$$ H = J \\sum_i X_i X_{i+1} + Y_i Y_{i+1} + Z_i Z_{i+1} + h \\sum_i X_i$$\n",
    "for $N=4$ sites with $J = 1, h = 0.5$, periodic boundary conditions (PBC).\n",
    "1. Modify the `get_H_op` function suitably to print out all the Pauli terms of the hamiltonian.\n",
    "    - How many are there for a 4 site model with periodic boundary conditions (PBC).\n",
    "2. Implement a method `heisenberg_trotter_circ` to obtain the circuit for Trotter evolution. (This should be the equivalent function to `ising_trotter_circ` from the tutorial.)\n",
    "    - Print the Trotter circuit for 1 Trotter step with a steps size of $\\delta t = 0.25$.\n",
    "3. Compare the exact time evolution with your Trotter implementation up to $t = 10$ with a Trotter time step of $\\delta t = 0.1$\n",
    "    - compute the same observables as in the tutorial; the average magnetization $M_z = \\frac{1}{N} \\sum_i Z_i$ and the initial state revival $|\\langle \\psi_{\\rm init} | \\psi(t) \\rangle|^2$.\n",
    "    - plot both quantities as a function of time for both the exact and the Trotter evolution\n",
    "    - print the final value (at time $t = 10$) of magnetization and initial state revival for exact and Trotter evolution."
   ]
  },
  {
   "cell_type": "markdown",
   "metadata": {},
   "source": [
    "# Solution\n",
    "### 1. Modify the `get_H_op` function suitably to print out all the Pauli terms of the hamiltonian.\n",
    "- How many are there for a 4 site model with periodic boundary conditions (PBC)?"
   ]
  },
  {
   "cell_type": "code",
   "execution_count": 1,
   "metadata": {},
   "outputs": [],
   "source": [
    "def get_H_op(N, Jx, Jy, Jz, h, pbc):\n",
    "    \"\"\"Define the non-commuting parts of the Hamiltonian separately.\"\"\"\n",
    "\n",
    "    zz_ops = []\n",
    "    yy_ops = []\n",
    "    xx_ops = []\n",
    "    x_ops = []\n",
    "\n",
    "    for i in range(N - 1):\n",
    "        zz_ops.append((N - 2 - i) * \"I\" + \"ZZ\" + i * \"I\")\n",
    "        yy_ops.append((N - 2 - i) * \"I\" + \"YY\" + i * \"I\")\n",
    "        xx_ops.append((N - 2 - i) * \"I\" + \"XX\" + i * \"I\")\n",
    "        x_ops.append((N - 1 - i) * \"I\" + \"X\" + i * \"I\")\n",
    "\n",
    "    x_ops.append(\"X\" + (N - 1) * \"I\")\n",
    "\n",
    "    # Add periodic boundary conditions\n",
    "    if pbc and N > 2:\n",
    "        zz_ops.append(\"Z\" + (N - 2) * \"I\" + \"Z\")\n",
    "        yy_ops.append(\"Y\" + (N - 2) * \"I\" + \"Y\")\n",
    "        xx_ops.append(\"X\" + (N - 2) * \"I\" + \"X\")\n",
    "\n",
    "    zz_ops = SparsePauliOp(data=zz_ops, coeffs=[Jx] * (N if (pbc and N > 2) else N - 1))\n",
    "    yy_ops = SparsePauliOp(data=yy_ops, coeffs=[Jy] * (N if (pbc and N > 2) else N - 1))\n",
    "    xx_ops = SparsePauliOp(data=xx_ops, coeffs=[Jz] * (N if (pbc and N > 2) else N - 1))\n",
    "    x_ops = SparsePauliOp(data=x_ops, coeffs=[h] * N)\n",
    "\n",
    "    return xx_ops, yy_ops, zz_ops, x_ops"
   ]
  },
  {
   "cell_type": "markdown",
   "metadata": {},
   "source": [
    "### 2. Implement a method `heisenberg_trotter_circ` to obtain the circuit for Trotter evolution.\n",
    "- Print the Trotter circuit for 1 Trotter step with a steps size of $\\delta t = 0.25$.\n"
   ]
  },
  {
   "cell_type": "code",
   "execution_count": 3,
   "metadata": {},
   "outputs": [],
   "source": [
    "def heisenberg_trotter_circ(H_list, N, t_final, dt, init_circ=None):\n",
    "    \"\"\"This method implements a Trotter circuit for the time evolution of the transverse field Ising model.\"\"\"\n",
    "    Nt = int(np.round(t_final / dt))\n",
    "\n",
    "    # Fill here\n",
    "    XX_ops = H_list[0]\n",
    "    YY_ops = H_list[1]\n",
    "    ZZ_ops = H_list[2]\n",
    "    X_ops = H_list[3]\n",
    "\n",
    "    XX_circ = QuantumCircuit(N)\n",
    "    YY_circ = QuantumCircuit(N)\n",
    "    ZZ_circ = QuantumCircuit(N)\n",
    "    X_circ = QuantumCircuit(N)\n",
    "\n",
    "    # XX terms\n",
    "    for i, coeff in enumerate(XX_ops.coeffs):\n",
    "        # indices of qubits acted on by Rxx gate, keeping in mind periodic boundaty conditions\n",
    "        if not i == N - 1:\n",
    "            n, m = i, i + 1\n",
    "        else:\n",
    "            n, m = N - 1, 0\n",
    "\n",
    "        XX_circ.h(n)\n",
    "        XX_circ.h(m)\n",
    "        XX_circ.cx(n, m)\n",
    "        XX_circ.rz(2 * float(coeff) * dt, m)\n",
    "        XX_circ.cx(n, m)\n",
    "        XX_circ.h(n)\n",
    "        XX_circ.h(m)\n",
    "\n",
    "    # YY terms, I was not sure how to do this, unsure about the K gate\n",
    "    for i, coeff in enumerate(YY_ops.coeffs):\n",
    "        # indices of qubits acted on by Ryy gate, keeping in mind periodic boundaty conditions\n",
    "        if not i == N - 1:\n",
    "            n, m = i, i + 1\n",
    "        else:\n",
    "            n, m = N - 1, 0\n",
    "\n",
    "        YY_circ.sdg(n)\n",
    "        YY_circ.sdg(m)\n",
    "        YY_circ.h(n)\n",
    "        YY_circ.h(m)\n",
    "        YY_circ.cx(n, m)\n",
    "        YY_circ.rz(2 * float(coeff) * dt, m)\n",
    "        YY_circ.cx(n, m)\n",
    "        YY_circ.h(n)\n",
    "        YY_circ.h(m)\n",
    "        YY_circ.s(n)\n",
    "        YY_circ.s(m)\n",
    "\n",
    "    # ZZ terms\n",
    "    for i, coeff in enumerate(ZZ_ops.coeffs):\n",
    "        # indices of qubits acted on by Rzz gate, keeping in mind periodic boundaty conditions\n",
    "        if not i == N - 1:\n",
    "            n, m = i, i + 1\n",
    "        else:\n",
    "            n, m = N - 1, 0\n",
    "\n",
    "        ZZ_circ.cx(n, m)\n",
    "        ZZ_circ.rz(2 * float(coeff) * dt, m)\n",
    "        ZZ_circ.cx(n, m)\n",
    "\n",
    "    # X terms\n",
    "    for i, coeff in enumerate(X_ops.coeffs):\n",
    "        # need to account for the factor of 2 again\n",
    "        X_circ.rx(2 * float(coeff) * dt, i)\n",
    "    \n",
    "    qreg = QuantumRegister(N)\n",
    "    evo_circ = QuantumCircuit(qreg)\n",
    "\n",
    "    # Fill here\n",
    "    if init_circ is not None:\n",
    "        evo_circ.append(init_circ, qreg)\n",
    "    for _ in range(Nt):\n",
    "        evo_circ.append(XX_circ, qreg)\n",
    "        evo_circ.append(YY_circ, qreg)\n",
    "        evo_circ.append(ZZ_circ, qreg)\n",
    "        evo_circ.append(X_circ, qreg)\n",
    "        evo_circ.barrier()\n",
    "        \n",
    "        \n",
    "    return evo_circ\n",
    "\n"
   ]
  },
  {
   "cell_type": "markdown",
   "metadata": {},
   "source": [
    "### 3. Compare the exact time evolution with your Trotter implementation up to t = ?\n",
    "- compute the same observables as in the tutorial; the average magnetization $M_z = \\frac{1}{N} \\sum_i Z_i$ and the initial state revival $|\\langle \\psi_{\\rm init} | \\psi(t) \\rangle|^2$.\n",
    "- plot both quantities as a function of time for both the exact and the Trotter evolution\n",
    "- print the final value (at time $t = 10$) of magnetization and initial state revival for exact and Trotter evolution."
   ]
  },
  {
   "cell_type": "code",
   "execution_count": 4,
   "metadata": {},
   "outputs": [],
   "source": [
    "def init_state(N):\n",
    "    init_circ = QuantumCircuit(N)\n",
    "    return init_circ\n",
    "\n",
    "def exact_evo(N, H, t_eval, obs):\n",
    "    # get initial state\n",
    "    psi_init = Statevector(init_state(N)).data\n",
    "    # intitialize array to store expectation values at every time step\n",
    "    expect_vals = []\n",
    "    init_state_revival = []\n",
    "    # loop through time values up to final time\n",
    "    for t in t_eval:\n",
    "        # evolve statevector for each time step.\n",
    "        # NOTE: this is exact since we have access to the exponential of the FULL Hamiltonain matrix\n",
    "        # and do not need to decompose into exponentials of individual summands\n",
    "        psi = expm_multiply(-1j * t * H, psi_init)\n",
    "        # compute expectation value at every time step\n",
    "        # NOTE: we have the full statevector here, so we can evaluate the expectation value exactly\n",
    "        # by simple matrix-vector-multiplication\n",
    "        expect_vals.append(np.real(np.conj(psi).dot(obs).dot(psi)))\n",
    "        overlap = np.conj(psi_init).dot(psi)\n",
    "        init_state_revival.append(overlap.real**2 + overlap.imag**2)\n",
    "\n",
    "    return expect_vals, init_state_revival"
   ]
  },
  {
   "cell_type": "markdown",
   "metadata": {},
   "source": [
    "Define observable $M_z = \\frac{1}{N} \\sum_i Z_i$"
   ]
  },
  {
   "cell_type": "code",
   "execution_count": 5,
   "metadata": {},
   "outputs": [
    {
     "name": "stdout",
     "output_type": "stream",
     "text": [
      "M_average =\n",
      "SparsePauliOp(['IIIZ', 'IIZI', 'IZII', 'ZIII'],\n",
      "              coeffs=[0.25+0.j, 0.25+0.j, 0.25+0.j, 0.25+0.j])\n"
     ]
    }
   ],
   "source": [
    "N = 4\n",
    "Jx = 1\n",
    "Jy = Jx\n",
    "Jz = Jy\n",
    "\n",
    "XX_ops, YY_ops, ZZ_ops, X_ops = get_H_op(N, Jx, Jy, Jz, 0, True)\n",
    "H_op = XX_ops + YY_ops + ZZ_ops + X_ops\n",
    "\n",
    "mag_ave = SparsePauliOp(data=[((N - 1 - i)*\"I\" + \"Z\" + i*\"I\")\n",
    "                        for i in range(N)], coeffs=[1 / N] * N)\n",
    "print(f\"M_average =\\n{mag_ave}\")\n",
    "\n",
    "mag_ave = mag_ave.to_matrix()"
   ]
  },
  {
   "cell_type": "markdown",
   "metadata": {},
   "source": [
    "Exact evolution"
   ]
  },
  {
   "cell_type": "code",
   "execution_count": 6,
   "metadata": {},
   "outputs": [],
   "source": [
    "t_final = 10 * np.abs(Jz)\n",
    "dt = 0.01\n",
    "Nt = int(t_final / dt)\n",
    "t_eval = np.linspace(0, t_final, Nt + 1)\n",
    "\n",
    "exact_mag, init_state_revival = exact_evo(N, H_op.to_matrix(sparse=True), t_eval, mag_ave)"
   ]
  },
  {
   "cell_type": "markdown",
   "metadata": {},
   "source": [
    "Trotter evolution"
   ]
  },
  {
   "cell_type": "code",
   "execution_count": 13,
   "metadata": {},
   "outputs": [
    {
     "name": "stderr",
     "output_type": "stream",
     "text": [
      "/tmp/ipykernel_397/2563012414.py:27: ComplexWarning: Casting complex values to real discards the imaginary part\n",
      "  XX_circ.rz(2 * float(coeff) * dt, m)\n",
      "/tmp/ipykernel_397/2563012414.py:45: ComplexWarning: Casting complex values to real discards the imaginary part\n",
      "  YY_circ.rz(2 * float(coeff) * dt, m)\n",
      "/tmp/ipykernel_397/2563012414.py:61: ComplexWarning: Casting complex values to real discards the imaginary part\n",
      "  ZZ_circ.rz(2 * float(coeff) * dt, m)\n",
      "/tmp/ipykernel_397/2563012414.py:67: ComplexWarning: Casting complex values to real discards the imaginary part\n",
      "  X_circ.rx(2 * float(coeff) * dt, i)\n"
     ]
    },
    {
     "name": "stdout",
     "output_type": "stream",
     "text": [
      "Final magnetization exact: 0.9999999999999944\n",
      "Final magnetization Trotter: 1.0\n",
      "Final initial state overlap exact: 0.9999999999999944\n",
      "Final initial state overlap Trotter: 0.45754976623719096\n"
     ]
    }
   ],
   "source": [
    "init_circ = QuantumCircuit(N)\n",
    "psi_init = Statevector(init_circ).data\n",
    "\n",
    "t_final = 10 * np.abs(Jx)\n",
    "dt = 0.2\n",
    "Nt = int(t_final / dt)\n",
    "t_eval_trotter = np.linspace(0, t_final, Nt + 1)\n",
    "\n",
    "trotter_circ_res = []\n",
    "trotter_circ_init_state_rev = []\n",
    "trotter_circ_mag = []\n",
    "for t in t_eval_trotter:\n",
    "    circ = heisenberg_trotter_circ([XX_ops, YY_ops, ZZ_ops, X_ops], N, t, dt, init_circ)\n",
    "    trotter_circ_mag.append(np.real(np.conj(psi_init).dot(mag_ave).dot(psi_init)))\n",
    "    psi = Statevector(circ).data\n",
    "\n",
    "    trotter_circ_res.append(np.real(np.conj(psi).dot(mag_ave).dot(psi)))\n",
    "    overlap = np.conj(psi_init).dot(psi)\n",
    "    trotter_circ_init_state_rev.append(overlap.real**2 + overlap.imag**2)\n",
    "    \n",
    "print(f\"Final magnetization exact: {exact_mag[-1]}\")\n",
    "print(f\"Final magnetization Trotter: {trotter_circ_mag[-1]}\")\n",
    "print(f\"Final initial state overlap exact: {init_state_revival[-1]}\")\n",
    "print(f\"Final initial state overlap Trotter: {trotter_circ_init_state_rev[-1]}\")"
   ]
  },
  {
   "cell_type": "markdown",
   "metadata": {},
   "source": [
    "Plotting the solution"
   ]
  },
  {
   "cell_type": "code",
   "execution_count": 14,
   "metadata": {},
   "outputs": [
    {
     "data": {
      "image/png": "[encoded data removed]",
      "text/plain": [
       "<Figure size 1000x400 with 2 Axes>"
      ]
     },
     "metadata": {},
     "output_type": "display_data"
    }
   ],
   "source": [
    "fig, axs = plt.subplots(1, 2, figsize=(10, 4), sharex=True)\n",
    "axs[0].plot(t_eval, exact_mag, label=\"exact\")\n",
    "axs[0].plot(t_eval_trotter, trotter_circ_mag, label=\"circuit Trotter\")\n",
    "axs[0].set_xlabel(rf\"$t$\")\n",
    "axs[0].set_ylabel(rf\"$M_z$\")\n",
    "\n",
    "axs[1].plot(t_eval, init_state_revival)\n",
    "axs[1].plot(t_eval_trotter, trotter_circ_init_state_rev)\n",
    "axs[1].set_xlabel(rf\"$t$\")\n",
    "axs[1].set_ylabel(rf\"$\\langle \\psi_{{\\rm init}} | \\psi(t) \\rangle$\")\n",
    "\n",
    "axs[0].legend()\n",
    "\n",
    "plt.show()"
   ]
  },
  {
   "cell_type": "code",
   "execution_count": null,
   "metadata": {},
   "outputs": [],
   "source": []
  }
 ],
 "metadata": {
  "kernelspec": {
   "display_name": "aqa-env",
   "language": "python",
   "name": "python3"
  },
  "language_info": {
   "codemirror_mode": {
    "name": "ipython",
    "version": 3
   },
   "file_extension": ".py",
   "mimetype": "text/x-python",
   "name": "python",
   "nbconvert_exporter": "python",
   "pygments_lexer": "ipython3",
   "version": "3.11.5"
  },
  "orig_nbformat": 4
 },
 "nbformat": 4,
 "nbformat_minor": 2
}
