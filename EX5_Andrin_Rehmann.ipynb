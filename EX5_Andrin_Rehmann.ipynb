{
 "cells": [
  {
   "cell_type": "code",
   "execution_count": 2,
   "metadata": {},
   "outputs": [],
   "source": [
    "import numpy as np\n",
    "from scipy.linalg import norm\n",
    "from scipy.sparse.linalg import expm_multiply, expm\n",
    "import matplotlib.pyplot as plt\n",
    "\n",
    "from qiskit import QuantumCircuit, QuantumRegister\n",
    "from qiskit.circuit.library import PauliEvolutionGate\n",
    "from qiskit.quantum_info import SparsePauliOp, Operator, Statevector"
   ]
  },
  {
   "cell_type": "markdown",
   "metadata": {},
   "source": [
    "# Exercise\n",
    "Trotter evolution is the first order approximation in a class of algorithms called product formulas. Higher orders are simply called product formulas of order $2k$ (they are defined only for even orders as they are symmetric). The second order product formula ($k=1$) for time $t$ and $L$ non-commuting Hamiltonian terms reads\n",
    "$$\n",
    "S_1(t) = \\prod_{n=1}^L e^{-i H_n t/2} \\prod_{n=L}^1 e^{-i H_n t/2} \\ .\n",
    "$$\n",
    "For $N$ time steps, the time evolution operator is then apprixmated by\n",
    "$$\n",
    "U(t) \\approx \\bigl[ S_1(t/N) \\bigr]^N\n",
    "$$\n",
    "\n",
    "We have seen how to time evolve an Ising and a Heisenberg Hamiltonian using first order Trotter evolution. In this exercise, we will study the algorithmic error of product formulas in more detail.\n",
    "We will use a transverse field Ising model to do so.\n",
    "$$ H = J \\sum_i Z_i Z_{i+1} + h \\sum_i X_i$$\n",
    "for $N=4$ sites with $J = 1, h = 0.5$, periodic boundary conditions (PBC)."
   ]
  },
  {
   "cell_type": "code",
   "execution_count": 4,
   "metadata": {},
   "outputs": [],
   "source": [
    "def get_H_op(N, J, h, pbc):\n",
    "    \"\"\"Define the two non-commuting parts of the Hamiltonian separately.\"\"\"\n",
    "    \n",
    "    z_op_strings = []\n",
    "    for i in range(N - 1):\n",
    "        z_op_strings.append((N - 2 - i)*\"I\" + \"Z\" + \"Z\" + i*\"I\")\n",
    "    # last term for periodic BC\n",
    "    if pbc and N > 2:\n",
    "        z_op_strings.append(\"Z\" + (N - 2)*\"I\" + \"Z\")\n",
    "    \n",
    "    x_op_strings = []\n",
    "    for i in range(N):\n",
    "        x_op_strings.append(((N - 1 - i)*\"I\" + \"X\" + i*\"I\"))\n",
    "\n",
    "    z_ops = SparsePauliOp(data=z_op_strings, coeffs=[J] * (N if (pbc and N > 2) else N - 1))\n",
    "    x_ops = SparsePauliOp(data=x_op_strings, coeffs=[h] * N)\n",
    "    \n",
    "    return z_ops, x_ops"
   ]
  },
  {
   "cell_type": "code",
   "execution_count": 5,
   "metadata": {},
   "outputs": [],
   "source": [
    "# define basic parameters\n",
    "N = 4\n",
    "J = 1\n",
    "h = 0.5\n",
    "pbc = True"
   ]
  },
  {
   "cell_type": "code",
   "execution_count": 6,
   "metadata": {},
   "outputs": [
    {
     "name": "stdout",
     "output_type": "stream",
     "text": [
      "H_Z =\n",
      "SparsePauliOp(['IIZZ', 'IZZI', 'ZZII', 'ZIIZ'],\n",
      "              coeffs=[1.+0.j, 1.+0.j, 1.+0.j, 1.+0.j])\n",
      "H_X =\n",
      "SparsePauliOp(['IIIX', 'IIXI', 'IXII', 'XIII'],\n",
      "              coeffs=[0.5+0.j, 0.5+0.j, 0.5+0.j, 0.5+0.j])\n",
      "H_ising =\n",
      "SparsePauliOp(['IIZZ', 'IZZI', 'ZZII', 'ZIIZ', 'IIIX', 'IIXI', 'IXII', 'XIII'],\n",
      "              coeffs=[1. +0.j, 1. +0.j, 1. +0.j, 1. +0.j, 0.5+0.j, 0.5+0.j, 0.5+0.j, 0.5+0.j])\n",
      "M_average =\n",
      "SparsePauliOp(['IIIZ', 'IIZI', 'IZII', 'ZIII'],\n",
      "              coeffs=[0.25+0.j, 0.25+0.j, 0.25+0.j, 0.25+0.j])\n"
     ]
    }
   ],
   "source": [
    "z_ops, x_ops = get_H_op(N, J, h, pbc)\n",
    "H_op = z_ops + x_ops\n",
    "H_mat = H_op.to_matrix()\n",
    "\n",
    "mag_ave = SparsePauliOp(data=[((N - 1 - i)*\"I\" + \"Z\" + i*\"I\")\n",
    "                        for i in range(N)], coeffs=[1 / N] * N)\n",
    "                        \n",
    "print(f\"H_Z =\\n{z_ops}\")\n",
    "print(f\"H_X =\\n{x_ops}\")\n",
    "print(f\"H_ising =\\n{H_op}\")\n",
    "print(f\"M_average =\\n{mag_ave}\")\n",
    "\n",
    "mag_ave = mag_ave.to_matrix()"
   ]
  },
  {
   "cell_type": "markdown",
   "metadata": {},
   "source": [
    "1. Implement both first and second-order product formula using the `PauliEvolutionGate`\n",
    "    - print the Trotter circuits for two Trotter steps ($t = 1$, $\\delta t = 0.5$) in terms of $R_x$ and $R_{zz}$ gates (you can use `QuantumCircuit.decompose().decompose()` to decompose it from the high-level `PauliEvolutionGate` into single- and two-qubit gates)."
   ]
  },
  {
   "cell_type": "code",
   "execution_count": 33,
   "metadata": {},
   "outputs": [
    {
     "name": "stdout",
     "output_type": "stream",
     "text": [
      "SparsePauliOp(['IIZZ', 'IZZI', 'ZZII', 'ZIIZ', 'IIIX', 'IIXI', 'IXII', 'XIII'],\n",
      "              coeffs=[1. +0.j, 1. +0.j, 1. +0.j, 1. +0.j, 0.5+0.j, 0.5+0.j, 0.5+0.j, 0.5+0.j])\n"
     ]
    },
    {
     "data": {
      "text/html": [
       "<pre style=\"word-wrap: normal;white-space: pre;background: #fff0;line-height: 1.1;font-family: &quot;Courier New&quot;,Courier,monospace\">                                      ┌───────┐\n",
       "q_0: ─■────────────────────────■──────┤ Rx(1) ├\n",
       "      │ZZ(2)         ┌───────┐ │      └───────┘\n",
       "q_1: ─■───────■──────┤ Rx(1) ├─┼───────────────\n",
       "              │ZZ(2) └───────┘ │      ┌───────┐\n",
       "q_2: ─────────■────────■───────┼──────┤ Rx(1) ├\n",
       "                       │ZZ(2)  │ZZ(2) ├───────┤\n",
       "q_3: ──────────────────■───────■──────┤ Rx(1) ├\n",
       "                                      └───────┘</pre>"
      ],
      "text/plain": [
       "                                      ┌───────┐\n",
       "q_0: ─■────────────────────────■──────┤ Rx(1) ├\n",
       "      │ZZ(2)         ┌───────┐ │      └───────┘\n",
       "q_1: ─■───────■──────┤ Rx(1) ├─┼───────────────\n",
       "              │ZZ(2) └───────┘ │      ┌───────┐\n",
       "q_2: ─────────■────────■───────┼──────┤ Rx(1) ├\n",
       "                       │ZZ(2)  │ZZ(2) ├───────┤\n",
       "q_3: ──────────────────■───────■──────┤ Rx(1) ├\n",
       "                                      └───────┘"
      ]
     },
     "execution_count": 33,
     "metadata": {},
     "output_type": "execute_result"
    }
   ],
   "source": [
    "# # pauli string of 4 qbit ising \n",
    "# pauli_string = ''\n",
    "\n",
    "# # iterate over ops of Sparse Pauli list\n",
    "# for index, op in enumerate(H_op.label_iter()):\n",
    "#     # get pauli string of op\n",
    "#     pauli_string += op[0]\n",
    "    \n",
    "#     if index < len(H_op.label_iter()) - 1:\n",
    "#         # add plus sign if not last op\n",
    "#         pauli_string += ' + '\n",
    "\n",
    "# print(f'pauli string:\\n{pauli_string}')\n",
    "\n",
    "N = 4\n",
    "pauli_gate = PauliEvolutionGate(H_op)\n",
    "\n",
    "print(H_op)\n",
    "                                \n",
    "qc_pauli_gate = QuantumCircuit(4)\n",
    "qc_pauli_gate.append(pauli_gate, qc_pauli_gate.qubits)\n",
    "qc_pauli_gate.decompose().decompose().draw()"
   ]
  },
  {
   "cell_type": "markdown",
   "metadata": {},
   "source": [
    "2. Do the time evolution with both the first and the second order product formula for\n",
    "    - up to $t = 4$\n",
    "    - for $N_t \\in \\{ 5, 10, 20, 50, 100 \\}$ time steps.\n",
    "3. Compute the **infidelity** $1 - |\\langle \\psi_{\\rm exact}(t) | \\psi_{\\rm trotter}(t) \\rangle|^2$ between the exact state at $t = 4$ and the approximate state evolved with the respective product formula.\n",
    "    - print the final infidelities for each $N_t$ and both for the first and the second order product formula\n",
    "    - plot the infidelities vs $N_t$ with logarithmic y-scale"
   ]
  },
  {
   "cell_type": "code",
   "execution_count": null,
   "metadata": {},
   "outputs": [],
   "source": []
  }
 ],
 "metadata": {
  "kernelspec": {
   "display_name": "aqa-env",
   "language": "python",
   "name": "python3"
  },
  "language_info": {
   "codemirror_mode": {
    "name": "ipython",
    "version": 3
   },
   "file_extension": ".py",
   "mimetype": "text/x-python",
   "name": "python",
   "nbconvert_exporter": "python",
   "pygments_lexer": "ipython3",
   "version": "3.11.5"
  },
  "orig_nbformat": 4
 },
 "nbformat": 4,
 "nbformat_minor": 2
}
