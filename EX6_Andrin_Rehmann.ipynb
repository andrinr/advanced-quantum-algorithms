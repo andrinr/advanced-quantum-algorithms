{
 "cells": [
  {
   "cell_type": "code",
   "execution_count": 2,
   "metadata": {},
   "outputs": [],
   "source": [
    "import numpy as np\n",
    "\n",
    "from qiskit import QuantumCircuit, QuantumRegister, transpile\n",
    "from qiskit.quantum_info import Statevector, Operator\n",
    "from qiskit_aer import AerSimulator\n",
    "from qiskit.visualization import plot_histogram"
   ]
  },
  {
   "cell_type": "markdown",
   "metadata": {},
   "source": [
    "### Exercise $A=Y, B=2Z$\n",
    "\n",
    "Implement a quantum circuit that performs the operation $W = Y + 2Z = \\begin{pmatrix}\n",
    "2 & -i \\\\\n",
    "i & -2\n",
    "\\end{pmatrix}$ resulting in\n",
    "$W |0\\rangle = 2 |0\\rangle + i |1\\rangle$ with $\\lambda = 3$.\n",
    "If correctly implemented, when measuring the ancilla at the end of the circuit in the state 0, we performed the operation $W/\\lambda = \\frac{1}{3} \\begin{pmatrix}\n",
    "2 & -i \\\\\n",
    "i & -2\n",
    "\\end{pmatrix}$.\n",
    "\n",
    "- Print the circuit for implementing the LCU\n",
    "- Print the output statevector of the circuit -- does it correctly implement $W$?\n",
    "- Print the probability of success for correctly implementing the operation $W$\n",
    "- Simulate measureming the circuit using the `AerSimulator` from the previous exercises / tutorials"
   ]
  },
  {
   "cell_type": "markdown",
   "metadata": {},
   "source": [
    "### Solution"
   ]
  },
  {
   "cell_type": "markdown",
   "metadata": {},
   "source": [
    "Construct the PREPARE circuit\n",
    "\n",
    "In theory we have to construct the prepare circuit s.t. we have:\n",
    "\n",
    "$$ PREP | 0 \\rangle = \\sqrt{\\frac{2}{3}} | 0 \\rangle - \\sqrt{\\frac{1}{3}} | 1 \\rangle $$\n",
    "\n",
    "In this case I tried to use a ry gate, the hadamard gate for a 0 vector can also be represented using a single y rotation. I then tried to evaluate the approptiate rotation angle for the y gate.\n"
   ]
  },
  {
   "cell_type": "code",
   "execution_count": 3,
   "metadata": {},
   "outputs": [],
   "source": [
    "prep = QuantumCircuit(1, name=\"prep\")\n",
    "\n",
    "angle = np.arccos(1 / np.sqrt(3)) * 2\n",
    "\n",
    "prep.ry(angle, 0)\n",
    "\n",
    "prep = prep.to_instruction()"
   ]
  },
  {
   "cell_type": "markdown",
   "metadata": {},
   "source": [
    "Construct the SELECT circuit"
   ]
  },
  {
   "cell_type": "code",
   "execution_count": 4,
   "metadata": {},
   "outputs": [],
   "source": [
    "select = QuantumCircuit(2, name=\"select\")\n",
    "\n",
    "# YOUR CODE\n",
    "select.x(0)\n",
    "select.cy(0, 1)\n",
    "select.x(0)\n",
    "\n",
    "select.cz(0, 1)\n",
    "\n",
    "select = select.to_instruction()"
   ]
  },
  {
   "cell_type": "code",
   "execution_count": 5,
   "metadata": {},
   "outputs": [
    {
     "data": {
      "text/plain": [
       "<qiskit.circuit.instructionset.InstructionSet at 0x7f2753e593c0>"
      ]
     },
     "execution_count": 5,
     "metadata": {},
     "output_type": "execute_result"
    }
   ],
   "source": [
    "q = QuantumRegister(2,'q')\n",
    "qc = QuantumCircuit(q)\n",
    "\n",
    "#qc.x(1)  #optional to create an initial state which is |1> \n",
    "qc.append(prep, [0])\n",
    "qc.barrier()\n",
    "\n",
    "qc.append(select, [0, 1])\n",
    "\n",
    "qc.barrier()\n",
    "qc.append(prep.inverse(), [0]) # note the adjoint / dagger (`inverse()`)"
   ]
  },
  {
   "cell_type": "code",
   "execution_count": 6,
   "metadata": {},
   "outputs": [
    {
     "name": "stdout",
     "output_type": "stream",
     "text": [
      "     ┌──────┐ ░ ┌─────────┐ ░ ┌─────────┐\n",
      "q_0: ┤ prep ├─░─┤0        ├─░─┤ prep_dg ├\n",
      "     └──────┘ ░ │  select │ ░ └─────────┘\n",
      "q_1: ─────────░─┤1        ├─░────────────\n",
      "              ░ └─────────┘ ░             \n",
      "\n",
      "\n",
      "     ┌────────────┐ ░ ┌───┐     ┌───┐    ░ ┌─────────────┐\n",
      "q_0: ┤ Ry(1.9106) ├─░─┤ X ├──■──┤ X ├─■──░─┤ Ry(-1.9106) ├\n",
      "     └────────────┘ ░ └───┘┌─┴─┐└───┘ │  ░ └─────────────┘\n",
      "q_1: ───────────────░──────┤ Y ├──────■──░────────────────\n",
      "                    ░      └───┘         ░                \n"
     ]
    }
   ],
   "source": [
    "print(qc.draw(), \"\\n\\n\")\n",
    "\n",
    "print(qc.decompose().draw())"
   ]
  },
  {
   "cell_type": "code",
   "execution_count": 7,
   "metadata": {},
   "outputs": [
    {
     "name": "stdout",
     "output_type": "stream",
     "text": [
      "[0.66666667+0.j         0.47140452+0.j         0.        +0.33333333j\n",
      " 0.        -0.47140452j]\n"
     ]
    },
    {
     "data": {
      "text/latex": [
       "$$\\frac{2}{3} |00\\rangle+\\frac{\\sqrt{2}}{3} |01\\rangle+\\frac{i}{3} |10\\rangle- \\frac{\\sqrt{2} i}{3} |11\\rangle$$"
      ],
      "text/plain": [
       "<IPython.core.display.Latex object>"
      ]
     },
     "execution_count": 7,
     "metadata": {},
     "output_type": "execute_result"
    }
   ],
   "source": [
    "psi = Statevector(qc)\n",
    "print(psi.data)\n",
    "psi.draw('latex')"
   ]
  },
  {
   "cell_type": "code",
   "execution_count": 8,
   "metadata": {},
   "outputs": [
    {
     "name": "stdout",
     "output_type": "stream",
     "text": [
      "        ┌──────┐ ░ ┌─────────┐ ░ ┌─────────┐ ░ ┌─┐   \n",
      "   q_0: ┤ prep ├─░─┤0        ├─░─┤ prep_dg ├─░─┤M├───\n",
      "        └──────┘ ░ │  select │ ░ └─────────┘ ░ └╥┘┌─┐\n",
      "   q_1: ─────────░─┤1        ├─░─────────────░──╫─┤M├\n",
      "                 ░ └─────────┘ ░             ░  ║ └╥┘\n",
      "meas: 2/════════════════════════════════════════╩══╩═\n",
      "                                                0  1 \n"
     ]
    }
   ],
   "source": [
    "qc.measure_all()\n",
    "print(qc.draw())"
   ]
  },
  {
   "cell_type": "code",
   "execution_count": 9,
   "metadata": {},
   "outputs": [
    {
     "name": "stdout",
     "output_type": "stream",
     "text": [
      "{'10': 1087, '00': 4453, '11': 2243, '01': 2217}\n"
     ]
    },
    {
     "data": {
      "image/png": "[encoded data removed]",
      "text/plain": [
       "<Figure size 700x500 with 1 Axes>"
      ]
     },
     "execution_count": 9,
     "metadata": {},
     "output_type": "execute_result"
    }
   ],
   "source": [
    "shots=10000\n",
    "\n",
    "aer_sim = AerSimulator()\n",
    "qc = transpile(qc, aer_sim)\n",
    "\n",
    "result = aer_sim.run(circuits=qc, shots=shots).result()\n",
    "counts = result.get_counts()\n",
    "print(counts)\n",
    "\n",
    "plot_histogram(counts)"
   ]
  },
  {
   "cell_type": "code",
   "execution_count": null,
   "metadata": {},
   "outputs": [],
   "source": []
  }
 ],
 "metadata": {
  "kernelspec": {
   "display_name": "aqa-env",
   "language": "python",
   "name": "python3"
  },
  "language_info": {
   "codemirror_mode": {
    "name": "ipython",
    "version": 3
   },
   "file_extension": ".py",
   "mimetype": "text/x-python",
   "name": "python",
   "nbconvert_exporter": "python",
   "pygments_lexer": "ipython3",
   "version": "3.11.5"
  }
 },
 "nbformat": 4,
 "nbformat_minor": 2
}
