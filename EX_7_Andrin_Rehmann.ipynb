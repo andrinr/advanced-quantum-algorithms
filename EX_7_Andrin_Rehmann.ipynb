{
 "cells": [
  {
   "cell_type": "code",
   "execution_count": 2,
   "metadata": {},
   "outputs": [],
   "source": [
    "import numpy as np\n",
    "\n",
    "from qiskit import Aer, transpile\n",
    "from qiskit import QuantumCircuit, ClassicalRegister, QuantumRegister\n",
    "\n",
    "from qiskit.visualization import plot_histogram\n",
    "from qiskit.circuit.library import QFT\n",
    "from qiskit.extensions import UnitaryGate\n",
    "\n",
    "import numpy as np\n",
    "from scipy.linalg import expm, eig\n",
    "import matplotlib.pyplot as plt"
   ]
  },
  {
   "cell_type": "markdown",
   "metadata": {},
   "source": [
    "## Exercise\n",
    "Perform quantum phase estimation (QPE) to find the ground state energy of the Hamiltonian provided below. We provide you with the Hamiltonian of a 2-site transverse field Ising model that we have seen in previous exercises. We added a diagonal offset to the Hamiltonian for convenience, shifting its spectrum so that all eigenvalues are positive.\n",
    "\n",
    "Your task is to set the total evolution time of the unitary time evolution operator needed for QPE or, equivalently, an energy normalization such that the Hamiltonian's spectrum is rescaled to within the range [0, 2pi].\n",
    "- State your choice of t and the rescaling of the energy. You can try different values but you should clearly state which one you think is best and why.\n",
    "- Perform the QPE using the `AerSimulator` (simulated measurements) with different number of ancillas, $r \\in \\{2, \\ldots, 10\\}$ ($r=10$ ancillas should still be pretty fast to simulate. However, if your machine is not able to handle it, go up to the value maximum possible number of ancillas and cleanly print the results.)\n",
    "- For each ancilla value, extract the energy first reading out the binary string and then apply the suitable conversion to a decimal representation.\n",
    "- Plot the value of the energy extracted using the QPE as a function of $r$ and plot the error with the exact ground state. (In addition, you can plot the energy and error corresponding to the second most likely bit string)\n",
    "- Check if the QPE energies are consistent with the exact value obtained through exact diagonalization"
   ]
  },
  {
   "cell_type": "code",
   "execution_count": 3,
   "metadata": {},
   "outputs": [],
   "source": [
    "H_ising = np.array(\n",
    "    [[-1, -1, -1,  0],\n",
    "    [-1,  1,  0, -1],\n",
    "    [-1,  0,  1, -1],\n",
    "    [ 0, -1, -1, -1]], dtype='complex'\n",
    ")\n",
    "\n",
    "system_qubits = 2\n",
    "\n",
    "diag_offset = np.array(\n",
    "    [[1, 0, 0,  0],\n",
    "    [0,  1,  0, 0],\n",
    "    [0,  0,  1, 0],\n",
    "    [ 0, 0, 0, 1]], dtype='complex'\n",
    ")\n",
    "\n",
    "H = (H_ising + 3*diag_offset)"
   ]
  },
  {
   "cell_type": "code",
   "execution_count": 4,
   "metadata": {},
   "outputs": [
    {
     "name": "stdout",
     "output_type": "stream",
     "text": [
      "eigen values:\n",
      "[5.23606798+0.j 4.        +0.j 2.        +0.j 0.76393202+0.j]\n",
      "\n",
      "eigen vectors:\n",
      "[[-3.71748034e-01+0.j  7.07106781e-01+0.j  6.01500955e-01+0.j\n",
      "  -2.22044605e-16-0.j]\n",
      " [ 6.01500955e-01+0.j -1.34163951e-16-0.j  3.71748034e-01+0.j\n",
      "   7.07106781e-01+0.j]\n",
      " [ 6.01500955e-01+0.j -2.22634849e-16-0.j  3.71748034e-01+0.j\n",
      "  -7.07106781e-01-0.j]\n",
      " [-3.71748034e-01+0.j -7.07106781e-01-0.j  6.01500955e-01+0.j\n",
      "  -4.44089210e-16-0.j]]\n",
      "\n",
      "max eigenvalue: (5.236067977499785+0j)\n",
      "min eigenvalue: (0.7639320225002101+0j)\n"
     ]
    }
   ],
   "source": [
    "eigVals, eigVecs = eig(H)\n",
    "idx = eigVals.argsort()[::-1]   \n",
    "eigVals = eigVals[idx]\n",
    "eigenVectors = eigVecs[:,idx]\n",
    "gs_exact = min(eigVals)\n",
    "print(f\"eigen values:\\n{eigVals}\\n\")\n",
    "print(f\"eigen vectors:\\n{eigVecs}\\n\")\n",
    "\n",
    "print(f\"max eigenvalue: {np.max(eigVals)}\")\n",
    "print(f\"min eigenvalue: {gs_exact}\")"
   ]
  },
  {
   "cell_type": "markdown",
   "metadata": {},
   "source": [
    "We define the \"evolution time\" (note that we are not really doing time evolution here, it's just a parameter) and the controlled unitary gate. In practice, we would need an approximate algorithm to implement this unitary (such as Trotterization). Here, we simply turn the matrix into a gate."
   ]
  },
  {
   "cell_type": "code",
   "execution_count": 8,
   "metadata": {},
   "outputs": [
    {
     "name": "stdout",
     "output_type": "stream",
     "text": [
      "t: (1.4049629462081465+0j)\n"
     ]
    }
   ],
   "source": [
    "# We determine the E_{max} by finding the maximum eigenvalue of the Hamiltonian\n",
    "E_max = np.max(eigVals)\n",
    "\n",
    "# And the same for the min\n",
    "E_min = np.min(eigVals)\n",
    "\n",
    "# We can determine t using the formula from the notes\n",
    "t = 2 * np.pi / (E_max - E_min)\n",
    "\n",
    "print(f\"t: {t}\")"
   ]
  },
  {
   "cell_type": "code",
   "execution_count": 9,
   "metadata": {},
   "outputs": [
    {
     "name": "stdout",
     "output_type": "stream",
     "text": [
      "True \n",
      "\n",
      "unitary gate from matrix in terms of rotational and two-qubit gates\n",
      "global phase: 1.8061\n",
      "     ┌─────────────────────┐         ┌──────────────────┐         »\n",
      "q_0: ┤ U(0,-3.0437,1.4729) ├──■──────┤ U(1.7366,-π,π/2) ├──────■──»\n",
      "     └─┬──────────────────┬┘┌─┴─┐┌───┴──────────────────┴───┐┌─┴─┐»\n",
      "q_1: ──┤ U(0.40375,π/2,0) ├─┤ X ├┤ U(1.2644,-1.1523,2.8282) ├┤ X ├»\n",
      "       └──────────────────┘ └───┘└──────────────────────────┘└───┘»\n",
      "«     ┌─────────────────────┐\n",
      "«q_0: ┤ U(0,-1.8708,1.8708) ├\n",
      "«     └─┬──────────────────┬┘\n",
      "«q_1: ──┤ U(1.167,-π,-π/2) ├─\n",
      "«       └──────────────────┘  \n",
      "\n",
      "controlled version of that unitary gate (note, this is NOT the Trotter circuit)\n",
      "                                                                               »\n",
      "q_0: ────────────■──────────────────────■─────────────■────────────■───────────»\n",
      "     ┌───────────┴───────────┐          │             │  ┌─────────┴──────────┐»\n",
      "q_1: ┤ U(0,-3.0437,1.4729,0) ├──────────┼─────────────■──┤ U(1.7366,-π,π/2,0) ├»\n",
      "     └───────────────────────┘┌─────────┴──────────┐┌─┴─┐└────────────────────┘»\n",
      "q_2: ─────────────────────────┤ U(0.40375,π/2,0,0) ├┤ X ├──────────────────────»\n",
      "                              └────────────────────┘└───┘                      »\n",
      "«                                                                 »\n",
      "«q_0: ──────────────■─────────────────■──────────────■────────────»\n",
      "«                   │                 │  ┌───────────┴───────────┐»\n",
      "«q_1: ──────────────┼─────────────────■──┤ U(0,-1.8708,1.8708,0) ├»\n",
      "«     ┌─────────────┴──────────────┐┌─┴─┐└───────────────────────┘»\n",
      "«q_2: ┤ U(1.2644,-1.1523,2.8282,0) ├┤ X ├─────────────────────────»\n",
      "«     └────────────────────────────┘└───┘                         »\n",
      "«                           ┌───────────┐\n",
      "«q_0: ──────────■───────────┤ P(1.8061) ├\n",
      "«               │           └───────────┘\n",
      "«q_1: ──────────┼────────────────────────\n",
      "«     ┌─────────┴──────────┐             \n",
      "«q_2: ┤ U(1.167,-π,-π/2,0) ├─────────────\n",
      "«     └────────────────────┘             \n"
     ]
    }
   ],
   "source": [
    "U = expm(1.j * t * H)\n",
    "\n",
    "Ugate = UnitaryGate(U)\n",
    "print(np.allclose(U, Ugate.params[0]), \"\\n\")\n",
    "\n",
    "qc = QuantumCircuit(system_qubits, name=\"exp(iHt)\")\n",
    "qc.append(Ugate, [0, 1])\n",
    "\n",
    "print(f\"unitary gate from matrix in terms of rotational and two-qubit gates\")\n",
    "print(qc.decompose(), \"\\n\")\n",
    "\n",
    "CUgate = qc.to_gate().control(1)\n",
    "\n",
    "print(f\"controlled version of that unitary gate (note, this is NOT the Trotter circuit)\")\n",
    "qc = QuantumCircuit(3)\n",
    "qc.append(CUgate, [0,1, 2])\n",
    "print(qc.decompose())\n"
   ]
  },
  {
   "cell_type": "markdown",
   "metadata": {},
   "source": [
    "We define a method to get the QPE circuit (as in the tutorial) as well as a method to transform the binary phase into a decimal phase."
   ]
  },
  {
   "cell_type": "code",
   "execution_count": 10,
   "metadata": {},
   "outputs": [],
   "source": [
    "def get_qpe_circ(ancilla_reg, system_reg, classical_reg, init_circ):\n",
    "    num_ancillas = ancilla_reg.size\n",
    "    \n",
    "    qpe_circ = QuantumCircuit(\n",
    "        ancilla_reg, system_reg,\n",
    "        classical_reg\n",
    "    )\n",
    "\n",
    "    # initialize system in approx eigenstate |psi>:\n",
    "    qpe_circ.append(init_circ, system_reg)\n",
    "    qpe_circ.barrier()\n",
    "\n",
    "    # initialize num_ancillas in equal superposition\n",
    "    for qubit in range(num_ancillas):\n",
    "        qpe_circ.h(qubit)\n",
    "\n",
    "    qpe_circ.barrier()\n",
    "\n",
    "    # controlled unitaries\n",
    "    reps = 1\n",
    "    for a in range(num_ancillas):\n",
    "        for _ in range(reps):\n",
    "            qpe_circ.append(CUgate, [ancilla_reg[a], system_reg[0], system_reg[1]])\n",
    "        reps *= 2\n",
    "        qpe_circ.barrier()\n",
    "\n",
    "    # inverse Quantum Fourier transform\n",
    "    qpe_circ.append(QFT(num_ancillas, inverse=True), ancilla_reg)\n",
    "\n",
    "    return qpe_circ\n"
   ]
  },
  {
   "cell_type": "code",
   "execution_count": 11,
   "metadata": {},
   "outputs": [],
   "source": [
    "def phase_bin_to_dec(bitstring):\n",
    "\n",
    "    dec = 0\n",
    "\n",
    "    for i in range(len(bitstring)):\n",
    "        dec += int(bitstring[i]) * 2**-(i+1)\n",
    "    \n",
    "    return dec"
   ]
  },
  {
   "cell_type": "markdown",
   "metadata": {},
   "source": [
    "We can check the circuit for 2 ancillas"
   ]
  },
  {
   "cell_type": "code",
   "execution_count": 12,
   "metadata": {},
   "outputs": [],
   "source": [
    "# Create and set up circuit\n",
    "ancillas = 2\n",
    "\n",
    "anc_reg = QuantumRegister(ancillas, \"anc\")\n",
    "sys_reg = QuantumRegister(system_qubits, \"sys\")\n",
    "creg = ClassicalRegister(ancillas, \"c\")\n",
    "\n",
    "init_circ = QuantumCircuit(sys_reg, name=\"init\")\n",
    "init_circ.h(sys_reg[0])\n",
    "init_circ.ry(np.pi / 6, sys_reg[1])\n",
    "init_circ.cx(sys_reg[0], sys_reg[1])\n",
    "\n",
    "qpe_circ = get_qpe_circ(anc_reg, sys_reg, creg, init_circ)"
   ]
  },
  {
   "cell_type": "code",
   "execution_count": 13,
   "metadata": {},
   "outputs": [
    {
     "data": {
      "text/plain": [
       "<qiskit.circuit.instructionset.InstructionSet at 0x7f1e3b53bfd0>"
      ]
     },
     "execution_count": 13,
     "metadata": {},
     "output_type": "execute_result"
    }
   ],
   "source": [
    "qpe_circ.measure(anc_reg, creg)"
   ]
  },
  {
   "cell_type": "markdown",
   "metadata": {},
   "source": [
    "### The actual simulation\n",
    "Now we run QPE for the desired numbers of ancillas, simulate the circuit measurements and store the resulting count dictionaries."
   ]
  },
  {
   "cell_type": "code",
   "execution_count": 14,
   "metadata": {},
   "outputs": [
    {
     "name": "stdout",
     "output_type": "stream",
     "text": [
      "simulating 2 ancillas\n",
      "simulating 3 ancillas\n",
      "simulating 4 ancillas\n",
      "simulating 5 ancillas\n",
      "simulating 6 ancillas\n",
      "simulating 7 ancillas\n",
      "simulating 8 ancillas\n",
      "simulating 9 ancillas\n",
      "simulating 10 ancillas\n"
     ]
    }
   ],
   "source": [
    "aer_sim = Aer.get_backend('aer_simulator')\n",
    "shots = 4096\n",
    "\n",
    "ancillas_list = list(range(2, 10 + 1))\n",
    "counts = {}\n",
    "for ancillas in ancillas_list:\n",
    "    print(f\"simulating {ancillas} ancillas\")\n",
    "    anc_reg = QuantumRegister(ancillas, \"anc\")\n",
    "    sys_reg = QuantumRegister(system_qubits, \"sys\")\n",
    "    creg = ClassicalRegister(ancillas, \"c\")\n",
    "\n",
    "    init_circ = QuantumCircuit(sys_reg, name=\"init\")\n",
    "    init_circ.h(sys_reg[0])\n",
    "    init_circ.ry(np.pi / 6, sys_reg[1])\n",
    "    init_circ.cx(sys_reg[0], sys_reg[1])\n",
    "\n",
    "    qpe_circ = get_qpe_circ(anc_reg, sys_reg, creg, init_circ)\n",
    "\n",
    "    qpe_circ.measure(anc_reg, creg)\n",
    "\n",
    "    t_qc = transpile(qpe_circ, aer_sim)\n",
    "    results = aer_sim.run(t_qc, shots=shots).result()\n",
    "    counts[ancillas] = results.get_counts()"
   ]
  },
  {
   "cell_type": "markdown",
   "metadata": {},
   "source": [
    "### Computing the decimal representation of the most probable phases from the counts"
   ]
  },
  {
   "cell_type": "code",
   "execution_count": 15,
   "metadata": {},
   "outputs": [],
   "source": [
    "# YOUR CODE:\n",
    "# Compute the correct phases from your measured bit strings\n",
    "phase_dec = []\n",
    "second_phase_dec = []\n",
    "\n",
    "for ancillas in ancillas_list:\n",
    "    phase_dec.append(phase_bin_to_dec(list(counts[ancillas].keys())[0]))\n",
    "    second_phase_dec.append(phase_bin_to_dec(list(counts[ancillas].keys())[1]))"
   ]
  },
  {
   "cell_type": "markdown",
   "metadata": {},
   "source": [
    "Finally, we plot the results"
   ]
  },
  {
   "cell_type": "code",
   "execution_count": 16,
   "metadata": {},
   "outputs": [
    {
     "name": "stderr",
     "output_type": "stream",
     "text": [
      "/home/ar/miniconda3/envs/aqa/lib/python3.11/site-packages/matplotlib/cbook.py:1699: ComplexWarning: Casting complex values to real discards the imaginary part\n",
      "  return math.isfinite(val)\n",
      "/home/ar/miniconda3/envs/aqa/lib/python3.11/site-packages/matplotlib/cbook.py:1345: ComplexWarning: Casting complex values to real discards the imaginary part\n",
      "  return np.asarray(x, float)\n"
     ]
    },
    {
     "data": {
      "image/png": "[encoded data removed]",
      "text/plain": [
       "<Figure size 1000x400 with 2 Axes>"
      ]
     },
     "metadata": {},
     "output_type": "display_data"
    }
   ],
   "source": [
    "fig, axs = plt.subplots(1, 2, figsize=(10, 4), sharex=True)\n",
    "axs[0].plot(ancillas_list, phase_dec, marker=\"o\", label=\"most probable\")\n",
    "axs[0].plot(ancillas_list, second_phase_dec, marker=\"o\", label=\"second most probable\")\n",
    "axs[0].set_xlabel(rf\"$r$ (ancillas)\")\n",
    "axs[0].set_ylabel(rf\"energy (decimal)\")\n",
    "axs[0].set_xlim(1.9, 10.1)\n",
    "# axs[0].set_ylim() # NOTE depending on your results\n",
    "axs[0].legend()\n",
    "\n",
    "axs[0].plot([-1, 20], [gs_exact, gs_exact], color=\"red\")\n",
    "axs[0].text(\n",
    "    0.2, 0.5,\n",
    "    \"exact GS\" + \"\\n\" + f\"{gs_exact:.6f}\",\n",
    "    color=\"crimson\",\n",
    "    transform=axs[0].transAxes,\n",
    "    # fontsize=,\n",
    "    verticalalignment='top'\n",
    ")\n",
    "\n",
    "axs[1].plot(ancillas_list, np.abs(phase_dec - gs_exact), marker=\"o\")\n",
    "axs[1].plot(ancillas_list, np.abs(second_phase_dec - gs_exact), marker=\"o\")\n",
    "axs[1].set_xlabel(rf\"$r$ (ancillas)\")\n",
    "axs[1].set_ylabel(rf\"absolute energy error (decimal)\")\n",
    "axs[1].set_yscale(\"log\")\n",
    "\n",
    "plt.show()"
   ]
  },
  {
   "cell_type": "code",
   "execution_count": null,
   "metadata": {},
   "outputs": [],
   "source": []
  }
 ],
 "metadata": {
  "kernelspec": {
   "display_name": "aqa-env",
   "language": "python",
   "name": "python3"
  },
  "language_info": {
   "codemirror_mode": {
    "name": "ipython",
    "version": 3
   },
   "file_extension": ".py",
   "mimetype": "text/x-python",
   "name": "python",
   "nbconvert_exporter": "python",
   "pygments_lexer": "ipython3",
   "version": "3.11.5"
  }
 },
 "nbformat": 4,
 "nbformat_minor": 2
}
