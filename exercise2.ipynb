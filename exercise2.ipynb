{
 "cells": [
  {
   "cell_type": "code",
   "execution_count": 1,
   "metadata": {},
   "outputs": [],
   "source": [
    "import numpy as np\n",
    "\n",
    "from qiskit import QuantumCircuit\n",
    "from qiskit.quantum_info import Statevector, Operator"
   ]
  },
  {
   "cell_type": "markdown",
   "metadata": {},
   "source": [
    "## 1. Controlled rotational gates\n",
    "\n",
    "Find the circuit decompisition for $CR_x(\\theta)$. You can use the code below to check whether your decomposition is correct (in which case there should be no \"not equal\" prints)."
   ]
  },
  {
   "cell_type": "code",
   "execution_count": 29,
   "metadata": {},
   "outputs": [
    {
     "name": "stdout",
     "output_type": "stream",
     "text": [
      "                                              \n",
      "q_0: ───────────■────────────────■────────────\n",
      "     ┌───────┐┌─┴─┐┌──────────┐┌─┴─┐┌────────┐\n",
      "q_1: ┤ Rx(π) ├┤ X ├┤ Rz(0.62) ├┤ X ├┤ Rx(-π) ├\n",
      "     └───────┘└───┘└──────────┘└───┘└────────┘\n",
      "[[ 9.52333570e-01+0.30505864j  0.00000000e+00+0.j\n",
      "  -3.73589083e-17+0.j          0.00000000e+00+0.j        ]\n",
      " [ 0.00000000e+00+0.j          9.52333570e-01-0.30505864j\n",
      "   0.00000000e+00+0.j          3.73589083e-17+0.j        ]\n",
      " [ 3.73589083e-17+0.j          0.00000000e+00+0.j\n",
      "   9.52333570e-01-0.30505864j  0.00000000e+00+0.j        ]\n",
      " [ 0.00000000e+00+0.j         -3.73589083e-17+0.j\n",
      "   0.00000000e+00+0.j          9.52333570e-01+0.30505864j]]\n"
     ]
    },
    {
     "data": {
      "text/latex": [
       "$$(0.9523335699 + 0.3050586364 i) |00\\rangle$$"
      ],
      "text/plain": [
       "<IPython.core.display.Latex object>"
      ]
     },
     "execution_count": 29,
     "metadata": {},
     "output_type": "execute_result"
    }
   ],
   "source": [
    "circ1 = QuantumCircuit(2) # your quantum circuit\n",
    "\n",
    "circ1.rx(np.pi, 1)\n",
    "circ1.cx(0,1)\n",
    "circ1.rz(0.62, 1)\n",
    "circ1.cx(0,1)\n",
    "circ1.rx(-np.pi, 1)\n",
    "\n",
    "print(circ1.draw())\n",
    "print(Operator(circ1).data)\n",
    "\n",
    "state = Statevector(circ1)\n",
    "state.draw('latex')"
   ]
  },
  {
   "cell_type": "code",
   "execution_count": 30,
   "metadata": {},
   "outputs": [
    {
     "name": "stdout",
     "output_type": "stream",
     "text": [
      "                 \n",
      "q_0: ─────■──────\n",
      "     ┌────┴─────┐\n",
      "q_1: ┤ Rx(0.62) ├\n",
      "     └──────────┘\n",
      "[[1.        +0.j         0.        +0.j         0.        +0.j\n",
      "  0.        +0.j        ]\n",
      " [0.        +0.j         0.95233357+0.j         0.        +0.j\n",
      "  0.        -0.30505864j]\n",
      " [0.        +0.j         0.        +0.j         1.        +0.j\n",
      "  0.        +0.j        ]\n",
      " [0.        +0.j         0.        -0.30505864j 0.        +0.j\n",
      "  0.95233357+0.j        ]]\n"
     ]
    }
   ],
   "source": [
    "circ2 = QuantumCircuit(2)\n",
    "circ2.crx(0.62, 0, 1)\n",
    "print(circ2.draw())\n",
    "\n",
    "print(Operator(circ2).data)"
   ]
  },
  {
   "cell_type": "code",
   "execution_count": 31,
   "metadata": {},
   "outputs": [
    {
     "data": {
      "text/plain": [
       "array([[False,  True, False,  True],\n",
       "       [ True, False,  True, False],\n",
       "       [False,  True, False,  True],\n",
       "       [ True, False,  True, False]])"
      ]
     },
     "execution_count": 31,
     "metadata": {},
     "output_type": "execute_result"
    }
   ],
   "source": [
    "Operator(circ2).data == Operator(circ1).data"
   ]
  },
  {
   "cell_type": "code",
   "execution_count": 33,
   "metadata": {},
   "outputs": [],
   "source": [
    "for i in range(4):\n",
    "    for j in range(4):\n",
    "        if Operator(circ1).data[i][j] - Operator(circ2).data[i][j] > 1e-15:\n",
    "            print(\"not equal\")\n"
   ]
  },
  {
   "cell_type": "markdown",
   "metadata": {},
   "source": [
    "## 2. Measuring composite operators\n",
    "\n",
    "Consider the following quantum circuits."
   ]
  },
  {
   "cell_type": "code",
   "execution_count": 8,
   "metadata": {},
   "outputs": [
    {
     "data": {
      "text/html": [
       "<pre style=\"word-wrap: normal;white-space: pre;background: #fff0;line-height: 1.1;font-family: &quot;Courier New&quot;,Courier,monospace\">        ┌───┐        \n",
       "q_0: ───┤ H ├─────■──\n",
       "     ┌──┴───┴──┐┌─┴─┐\n",
       "q_1: ┤ Ry(π/6) ├┤ X ├\n",
       "     └─────────┘└───┘\n",
       "c: 4/════════════════\n",
       "                     </pre>"
      ],
      "text/plain": [
       "        ┌───┐        \n",
       "q_0: ───┤ H ├─────■──\n",
       "     ┌──┴───┴──┐┌─┴─┐\n",
       "q_1: ┤ Ry(π/6) ├┤ X ├\n",
       "     └─────────┘└───┘\n",
       "c: 4/════════════════\n",
       "                     "
      ]
     },
     "execution_count": 8,
     "metadata": {},
     "output_type": "execute_result"
    }
   ],
   "source": [
    "from qiskit import QuantumRegister, ClassicalRegister, QuantumCircuit\n",
    "from numpy import pi\n",
    "\n",
    "qreg_q = QuantumRegister(2, 'q')\n",
    "circuit = QuantumCircuit(qreg_q)\n",
    "\n",
    "circuit.h(qreg_q[0])\n",
    "circuit.ry(pi / 6, qreg_q[1])\n",
    "circuit.cx(qreg_q[0], qreg_q[1])\n",
    "\n",
    "circuit.draw()"
   ]
  },
  {
   "cell_type": "markdown",
   "metadata": {},
   "source": [
    "This circuit acts on two qubits and produce a quantum state which is a reasonable ground state approxiamtion of the two-site (ferromagnetic) quantum transverse field Ising Hamiltonian at the critical point, defined as\n",
    "$$H = - Z Z - X I - I X$$"
   ]
  },
  {
   "cell_type": "markdown",
   "metadata": {},
   "source": [
    "1. Find the matrix representation of the Hamiltonian H.\n",
    "\n",
    "$$ Z = \\begin{bmatrix} 1 & 0 \\\\ 0 & -1 \\end{bmatrix} \\quad\n",
    "X = \\begin{bmatrix} 0 & 1 \\\\ 1 & 0 \\end{bmatrix} \\quad\n",
    "I = \\begin{bmatrix} 1 & 0 \\\\ 0 & 1 \\end{bmatrix} \\quad\n",
    "$$\n",
    "\n",
    "$$ ZZ = \\begin{bmatrix} 1 & 0 & 0 & 0 \\\\ 0 & -1 & 0 & 0 \\\\ 0 & 0 & -1 & 0 \\\\ 0 & 0 & 0 & 1 \\end{bmatrix} \\quad\n",
    "XI = \\begin{bmatrix} 0 & 0 & 1 & 0 \\\\ 0 & 0 & 0 & 1 \\\\ 1 & 0 & 0 & 0 \\\\ 0 & 1 & 0 & 0 \\end{bmatrix} \\quad\n",
    "IX = \\begin{bmatrix} 0 & 1 & 0 & 0 \\\\ 1 & 0 & 0 & 0 \\\\ 0 & 0 & 0 & 1 \\\\ 0 & 0 & 1 & 0 \\end{bmatrix} \\quad\n",
    "$$\n"
   ]
  },
  {
   "cell_type": "markdown",
   "metadata": {},
   "source": [
    "thus:\n",
    "\n",
    "$$ H = -ZZ - XI - IX = \\begin{bmatrix} -1 & -1 & -1 & 0 \\\\ -1 & 1 & 0 & -1 \\\\ -1 & 0 & 1 & -1 \\\\ 0 & -1 & -1 & 1 \\end{bmatrix} \\quad $$"
   ]
  },
  {
   "cell_type": "markdown",
   "metadata": {},
   "source": [
    "2. Find the statevector represantion $|\\psi \\rangle$ of the wavefunction generated by the above circuit (acting on the $|00\\rangle$ state)\n",
    "\n",
    "$$ \\begin{bmatrix} 1 \\\\ 0 \\\\ 0 \\\\ 0 \\end{bmatrix} \\times H = \\begin{bmatrix} -1 \\\\ -1 \\\\ -1 \\\\ 0 \\end{bmatrix} \\quad = -|00\\rangle - |01\\rangle - |10\\rangle$$\n",
    "\n"
   ]
  },
  {
   "cell_type": "markdown",
   "metadata": {},
   "source": [
    "3. Compute the expectation value of the energy, exactly: $\\langle \\psi | H | \\psi \\rangle$\n",
    "\n",
    "$$\\hat{H} = \\langle \\psi | H | \\psi \\rangle = \\begin{bmatrix} \\psi^*_0 & \\psi^*_1 & \\psi^*_2 & \\psi^*_3 \\end{bmatrix} \\times \\begin{bmatrix} -1 & -1 & -1 & 0 \\\\ -1 & 1 & 0 & -1 \\\\ -1 & 0 & 1 & -1 \\\\ 0 & -1 & -1 & 1 \\end{bmatrix} \\times \\begin{bmatrix} \\psi_0 \\\\ \\psi_1 \\\\ \\psi_2 \\\\ \\psi_3 \\end{bmatrix} $$"
   ]
  },
  {
   "cell_type": "markdown",
   "metadata": {},
   "source": [
    "$$ \\begin{bmatrix} \\psi^*_0 & \\psi^*_1 & \\psi^*_2 & \\psi^*_3 \\end{bmatrix} \\times \\begin{bmatrix} -1 \\\\ -1 \\\\ -1 \\\\ 0 \\end{bmatrix} = -\\psi^*_0 - \\psi^*_1 - \\psi^*_2 $$"
   ]
  },
  {
   "cell_type": "markdown",
   "metadata": {},
   "source": [
    "4. Find a procedure to compute the expectation value of the energy using the quantum measurements.\n",
    "5. bonus: what's the minimal number of circuits needed in this case"
   ]
  },
  {
   "cell_type": "markdown",
   "metadata": {},
   "source": []
  }
 ],
 "metadata": {
  "kernelspec": {
   "display_name": "aqa-env",
   "language": "python",
   "name": "python3"
  },
  "language_info": {
   "codemirror_mode": {
    "name": "ipython",
    "version": 3
   },
   "file_extension": ".py",
   "mimetype": "text/x-python",
   "name": "python",
   "nbconvert_exporter": "python",
   "pygments_lexer": "ipython3",
   "version": "3.11.5"
  },
  "orig_nbformat": 4
 },
 "nbformat": 4,
 "nbformat_minor": 2
}
