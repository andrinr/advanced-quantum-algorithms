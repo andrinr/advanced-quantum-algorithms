{
 "cells": [
  {
   "cell_type": "code",
   "execution_count": 203,
   "metadata": {},
   "outputs": [],
   "source": [
    "import numpy as np\n",
    "from scipy.linalg import norm\n",
    "from scipy.sparse.linalg import expm_multiply, expm\n",
    "import matplotlib.pyplot as plt\n",
    "\n",
    "from qiskit import QuantumCircuit, QuantumRegister\n",
    "from qiskit.quantum_info import SparsePauliOp, Operator, Statevector"
   ]
  },
  {
   "cell_type": "markdown",
   "metadata": {},
   "source": [
    "# Exercise\n",
    "We have seen how to time evolve an Ising Hamiltonian. In this exercise we ask you to time-evolve a Heisenberg Hamiltonian with transverse field,\n",
    "$$ H = J \\sum_i X_i X_{i+1} + Y_i Y_{i+1} + Z_i Z_{i+1} + h \\sum_i X_i$$\n",
    "for $N=4$ sites with $J = 1, h = 0.5$, periodic boundary conditions (PBC).\n",
    "1. Modify the `get_H_op` function suitably to print out all the Pauli terms of the hamiltonian.\n",
    "    - How many are there for a 4 site model with periodic boundary conditions (PBC).\n",
    "2. Implement a method `heisenberg_trotter_circ` to obtain the circuit for Trotter evolution. (This should be the equivalent function to `ising_trotter_circ` from the tutorial.)\n",
    "    - Print the Trotter circuit for 1 Trotter step with a steps size of $\\delta t = 0.25$.\n",
    "3. Compare the exact time evolution with your Trotter implementation up to $t = 10$ with a Trotter time step of $\\delta t = 0.1$\n",
    "    - compute the same observables as in the tutorial; the average magnetization $M_z = \\frac{1}{N} \\sum_i Z_i$ and the initial state revival $|\\langle \\psi_{\\rm init} | \\psi(t) \\rangle|^2$.\n",
    "    - plot both quantities as a function of time for both the exact and the Trotter evolution\n",
    "    - print the final value (at time $t = 10$) of magnetization and initial state revival for exact and Trotter evolution."
   ]
  },
  {
   "cell_type": "markdown",
   "metadata": {},
   "source": [
    "# Solution\n",
    "### 1. Modify the `get_H_op` function suitably to print out all the Pauli terms of the hamiltonian.\n",
    "- How many are there for a 4 site model with periodic boundary conditions (PBC)?"
   ]
  },
  {
   "cell_type": "code",
   "execution_count": 217,
   "metadata": {},
   "outputs": [],
   "source": [
    "def get_H_op(N, Jx, Jy, Jz, h, pbc):\n",
    "    \"\"\"Define the non-commuting parts of the Hamiltonian separately.\"\"\"\n",
    "    \n",
    "    xx_op_strings = []\n",
    "    yy_op_strings = []\n",
    "    zz_op_strings = []\n",
    "    for i in range(N - 1):\n",
    "        xx_op_strings.append((N - 2 - i)*\"I\" + \"X\" + \"X\" + i*\"I\")\n",
    "        yy_op_strings.append((N - 2 - i)*\"I\" + \"Y\" + \"Y\" + i*\"I\")\n",
    "        zz_op_strings.append((N - 2 - i)*\"I\" + \"Z\" + \"Z\" + i*\"I\")\n",
    "\n",
    "    # last term for periodic BC\n",
    "    if pbc and N > 2:\n",
    "        xx_op_strings.append(\"X\" + (N - 2)*\"I\" + \"X\")\n",
    "        yy_op_strings.append(\"Y\" + (N - 2)*\"I\" + \"Y\")\n",
    "        zz_op_strings.append(\"Z\" + (N - 2)*\"I\" + \"Z\")\n",
    "\n",
    "    x_op_strings = []\n",
    "    for i in range(N):\n",
    "        x_op_strings.append(((N - 1 - i)*\"I\" + \"X\" + i*\"I\"))\n",
    "\n",
    "    xx_ops = SparsePauliOp(data=xx_op_strings, coeffs=[Jx] * (N if (pbc and N > 2) else N - 1))\n",
    "    yy_ops = SparsePauliOp(data=yy_op_strings, coeffs=[Jy] * (N if (pbc and N > 2) else N - 1))\n",
    "    zz_ops = SparsePauliOp(data=zz_op_strings, coeffs=[Jz] * (N if (pbc and N > 2) else N - 1))\n",
    "    x_ops = SparsePauliOp(data=x_op_strings, coeffs=[h] * N)\n",
    "    \n",
    "    return xx_ops, yy_ops, zz_ops, x_ops"
   ]
  },
  {
   "cell_type": "code",
   "execution_count": 205,
   "metadata": {},
   "outputs": [],
   "source": [
    "# define basic parameters\n",
    "N = 4\n",
    "Jx, Jy, Jz = 1, 1, 1\n",
    "h = 0.5\n",
    "pbc = True"
   ]
  },
  {
   "cell_type": "code",
   "execution_count": 206,
   "metadata": {},
   "outputs": [
    {
     "name": "stdout",
     "output_type": "stream",
     "text": [
      "H_xx =\n",
      "SparsePauliOp(['IIXX', 'IXXI', 'XXII', 'XIIX'],\n",
      "              coeffs=[1.+0.j, 1.+0.j, 1.+0.j, 1.+0.j])\n",
      "H_yy =\n",
      "SparsePauliOp(['IIYY', 'IYYI', 'YYII', 'YIIY'],\n",
      "              coeffs=[1.+0.j, 1.+0.j, 1.+0.j, 1.+0.j])\n",
      "H_zz =\n",
      "SparsePauliOp(['IIZZ', 'IZZI', 'ZZII', 'ZIIZ'],\n",
      "              coeffs=[1.+0.j, 1.+0.j, 1.+0.j, 1.+0.j])\n",
      "H_x =\n",
      "SparsePauliOp(['IIIX', 'IIXI', 'IXII', 'XIII'],\n",
      "              coeffs=[0.5+0.j, 0.5+0.j, 0.5+0.j, 0.5+0.j])\n",
      "H_heisenberg =\n",
      "SparsePauliOp(['IIXX', 'IXXI', 'XXII', 'XIIX', 'IIYY', 'IYYI', 'YYII', 'YIIY', 'IIZZ', 'IZZI', 'ZZII', 'ZIIZ', 'IIIX', 'IIXI', 'IXII', 'XIII'],\n",
      "              coeffs=[1. +0.j, 1. +0.j, 1. +0.j, 1. +0.j, 1. +0.j, 1. +0.j, 1. +0.j, 1. +0.j,\n",
      " 1. +0.j, 1. +0.j, 1. +0.j, 1. +0.j, 0.5+0.j, 0.5+0.j, 0.5+0.j, 0.5+0.j])\n",
      "\n",
      " *** The Hamiltonian contains 16 terms\n"
     ]
    }
   ],
   "source": [
    "xx_ops, yy_ops, zz_ops, x_ops = get_H_op(N, Jx, Jy, Jz, h, pbc)\n",
    "H_op = xx_ops + yy_ops + zz_ops + x_ops\n",
    "                    \n",
    "print(f\"H_xx =\\n{xx_ops}\")\n",
    "print(f\"H_yy =\\n{yy_ops}\")\n",
    "print(f\"H_zz =\\n{zz_ops}\")\n",
    "print(f\"H_x =\\n{x_ops}\")\n",
    "\n",
    "print(f\"H_heisenberg =\\n{H_op}\")\n",
    "print(f\"\\n *** The Hamiltonian contains {len(H_op)} terms\")"
   ]
  },
  {
   "cell_type": "markdown",
   "metadata": {},
   "source": [
    "### 2. Implement a method `heisenberg_trotter_circ` to obtain the circuit for Trotter evolution.\n",
    "- Print the Trotter circuit for 1 Trotter step with a steps size of $\\delta t = 0.25$.\n"
   ]
  },
  {
   "cell_type": "code",
   "execution_count": 218,
   "metadata": {},
   "outputs": [],
   "source": [
    "def heisenberg_trotter_circ(H_list, N, t_final, dt, init_circ=None):\n",
    "    \"\"\"This method implements a Trotter circuit for the time evolution of the transverse field Ising model.\"\"\"\n",
    "    Nt = int(np.round(t_final / dt))\n",
    "\n",
    "    num_terms = len(H_list[0])\n",
    "\n",
    "    x_ops = H_list[0]\n",
    "    xx_ops = H_list[1]\n",
    "    yy_ops = H_list[2]\n",
    "    zz_ops = H_list[3]\n",
    "\n",
    "    x_circ = QuantumCircuit(N)\n",
    "    xx_circ = QuantumCircuit(N)\n",
    "    yy_circ = QuantumCircuit(N)\n",
    "    zz_circ = QuantumCircuit(N)\n",
    "\n",
    "    for i in range(num_terms):\n",
    "        # indices of qubits acted on by Rzz gate, keeping in mind periodic boundaty conditions\n",
    "        if not i == N - 1:\n",
    "            n, m = i, i + 1\n",
    "        else:\n",
    "            n, m = N - 1, 0\n",
    "\n",
    "        # R_xx(t) etc. implements exp(-i t ZZ / 2 ), so need to account for the factor of 2\n",
    "        x_circ.rx(2 * float(x_ops.coeffs[i]) * dt, i)\n",
    "        xx_circ.rxx(2 * float(xx_ops.coeffs[i]) * dt, n, m)\n",
    "        yy_circ.ryy(2 * float(yy_ops.coeffs[i]) * dt, n, m)\n",
    "        zz_circ.rzz(2 * float(zz_ops.coeffs[i]) * dt, n, m)\n",
    "\n",
    "    qreg = QuantumRegister(N)\n",
    "    evo_circ = QuantumCircuit(qreg)\n",
    "    if init_circ is not None:\n",
    "        evo_circ.append(init_circ, qreg)\n",
    "    for _ in range(Nt):\n",
    "        evo_circ.append(x_circ, qreg)\n",
    "        evo_circ.barrier()\n",
    "        evo_circ.append(xx_circ, qreg)\n",
    "        evo_circ.barrier()\n",
    "        evo_circ.append(yy_circ, qreg)\n",
    "        evo_circ.barrier()\n",
    "        evo_circ.append(zz_circ, qreg)\n",
    "        evo_circ.barrier()\n",
    "        evo_circ.barrier()\n",
    "        \n",
    "    return evo_circ\n",
    "\n"
   ]
  },
  {
   "cell_type": "code",
   "execution_count": 219,
   "metadata": {},
   "outputs": [
    {
     "name": "stderr",
     "output_type": "stream",
     "text": [
      "/var/folders/gz/ps5ykb1d4n177p_y32sx3slh0000gn/T/ipykernel_11055/1727880853.py:25: ComplexWarning: Casting complex values to real discards the imaginary part\n",
      "  x_circ.rx(2 * float(x_ops.coeffs[i]) * dt, i)\n",
      "/var/folders/gz/ps5ykb1d4n177p_y32sx3slh0000gn/T/ipykernel_11055/1727880853.py:26: ComplexWarning: Casting complex values to real discards the imaginary part\n",
      "  xx_circ.rxx(2 * float(xx_ops.coeffs[i]) * dt, n, m)\n",
      "/var/folders/gz/ps5ykb1d4n177p_y32sx3slh0000gn/T/ipykernel_11055/1727880853.py:27: ComplexWarning: Casting complex values to real discards the imaginary part\n",
      "  yy_circ.ryy(2 * float(yy_ops.coeffs[i]) * dt, n, m)\n",
      "/var/folders/gz/ps5ykb1d4n177p_y32sx3slh0000gn/T/ipykernel_11055/1727880853.py:28: ComplexWarning: Casting complex values to real discards the imaginary part\n",
      "  zz_circ.rzz(2 * float(zz_ops.coeffs[i]) * dt, n, m)\n"
     ]
    },
    {
     "data": {
      "text/html": [
       "<pre style=\"word-wrap: normal;white-space: pre;background: #fff0;line-height: 1.1;font-family: &quot;Courier New&quot;,Courier,monospace\">         ┌──────────┐ ░ ┌───────────┐                          ┌───────────┐ ░ »\n",
       "q2397_0: ┤ Rx(0.25) ├─░─┤0          ├──────────────────────────┤1          ├─░─»\n",
       "         ├──────────┤ ░ │  Rxx(0.5) │┌───────────┐             │           │ ░ »\n",
       "q2397_1: ┤ Rx(0.25) ├─░─┤1          ├┤0          ├─────────────┤           ├─░─»\n",
       "         ├──────────┤ ░ └───────────┘│  Rxx(0.5) │┌───────────┐│  Rxx(0.5) │ ░ »\n",
       "q2397_2: ┤ Rx(0.25) ├─░──────────────┤1          ├┤0          ├┤           ├─░─»\n",
       "         ├──────────┤ ░              └───────────┘│  Rxx(0.5) ││           │ ░ »\n",
       "q2397_3: ┤ Rx(0.25) ├─░───────────────────────────┤1          ├┤0          ├─░─»\n",
       "         └──────────┘ ░                           └───────────┘└───────────┘ ░ »\n",
       "«         ┌───────────┐                          ┌───────────┐ ░           »\n",
       "«q2397_0: ┤0          ├──────────────────────────┤1          ├─░──■────────»\n",
       "«         │  Ryy(0.5) │┌───────────┐             │           │ ░  │ZZ(0.5) »\n",
       "«q2397_1: ┤1          ├┤0          ├─────────────┤           ├─░──■────────»\n",
       "«         └───────────┘│  Ryy(0.5) │┌───────────┐│  Ryy(0.5) │ ░           »\n",
       "«q2397_2: ─────────────┤1          ├┤0          ├┤           ├─░───────────»\n",
       "«                      └───────────┘│  Ryy(0.5) ││           │ ░           »\n",
       "«q2397_3: ──────────────────────────┤1          ├┤0          ├─░───────────»\n",
       "«                                   └───────────┘└───────────┘ ░           »\n",
       "«                                        ░  ░ \n",
       "«q2397_0: ─────────────────────■─────────░──░─\n",
       "«                              │         ░  ░ \n",
       "«q2397_1: ─■───────────────────┼─────────░──░─\n",
       "«          │ZZ(0.5)            │         ░  ░ \n",
       "«q2397_2: ─■─────────■─────────┼─────────░──░─\n",
       "«                    │ZZ(0.5)  │ZZ(0.5)  ░  ░ \n",
       "«q2397_3: ───────────■─────────■─────────░──░─\n",
       "«                                        ░  ░ </pre>"
      ],
      "text/plain": [
       "         ┌──────────┐ ░ ┌───────────┐                          ┌───────────┐ ░ »\n",
       "q2397_0: ┤ Rx(0.25) ├─░─┤0          ├──────────────────────────┤1          ├─░─»\n",
       "         ├──────────┤ ░ │  Rxx(0.5) │┌───────────┐             │           │ ░ »\n",
       "q2397_1: ┤ Rx(0.25) ├─░─┤1          ├┤0          ├─────────────┤           ├─░─»\n",
       "         ├──────────┤ ░ └───────────┘│  Rxx(0.5) │┌───────────┐│  Rxx(0.5) │ ░ »\n",
       "q2397_2: ┤ Rx(0.25) ├─░──────────────┤1          ├┤0          ├┤           ├─░─»\n",
       "         ├──────────┤ ░              └───────────┘│  Rxx(0.5) ││           │ ░ »\n",
       "q2397_3: ┤ Rx(0.25) ├─░───────────────────────────┤1          ├┤0          ├─░─»\n",
       "         └──────────┘ ░                           └───────────┘└───────────┘ ░ »\n",
       "«         ┌───────────┐                          ┌───────────┐ ░           »\n",
       "«q2397_0: ┤0          ├──────────────────────────┤1          ├─░──■────────»\n",
       "«         │  Ryy(0.5) │┌───────────┐             │           │ ░  │ZZ(0.5) »\n",
       "«q2397_1: ┤1          ├┤0          ├─────────────┤           ├─░──■────────»\n",
       "«         └───────────┘│  Ryy(0.5) │┌───────────┐│  Ryy(0.5) │ ░           »\n",
       "«q2397_2: ─────────────┤1          ├┤0          ├┤           ├─░───────────»\n",
       "«                      └───────────┘│  Ryy(0.5) ││           │ ░           »\n",
       "«q2397_3: ──────────────────────────┤1          ├┤0          ├─░───────────»\n",
       "«                                   └───────────┘└───────────┘ ░           »\n",
       "«                                        ░  ░ \n",
       "«q2397_0: ─────────────────────■─────────░──░─\n",
       "«                              │         ░  ░ \n",
       "«q2397_1: ─■───────────────────┼─────────░──░─\n",
       "«          │ZZ(0.5)            │         ░  ░ \n",
       "«q2397_2: ─■─────────■─────────┼─────────░──░─\n",
       "«                    │ZZ(0.5)  │ZZ(0.5)  ░  ░ \n",
       "«q2397_3: ───────────■─────────■─────────░──░─\n",
       "«                                        ░  ░ "
      ]
     },
     "execution_count": 219,
     "metadata": {},
     "output_type": "execute_result"
    }
   ],
   "source": [
    "circ = heisenberg_trotter_circ([x_ops, xx_ops, yy_ops, zz_ops], N, 0.25, 0.25)\n",
    "circ.decompose().draw()"
   ]
  },
  {
   "cell_type": "markdown",
   "metadata": {},
   "source": [
    "### 3. Compare the exact time evolution with your Trotter implementation up to t = ?\n",
    "- compute the same observables as in the tutorial; the average magnetization $M_z = \\frac{1}{N} \\sum_i Z_i$ and the initial state revival $|\\langle \\psi_{\\rm init} | \\psi(t) \\rangle|^2$.\n",
    "- plot both quantities as a function of time for both the exact and the Trotter evolution\n",
    "- print the final value (at time $t = 10$) of magnetization and initial state revival for exact and Trotter evolution."
   ]
  },
  {
   "cell_type": "code",
   "execution_count": 220,
   "metadata": {},
   "outputs": [],
   "source": [
    "def init_state(N):\n",
    "    # psi_init = np.zeros(1<<N)\n",
    "    # psi_init[0] = 1\n",
    "\n",
    "    # psi_init = np.ones(1<<N, dtype=complex)\n",
    "    # psi_init /= norm(psi_init, 2)\n",
    "\n",
    "    init_circ = QuantumCircuit(N)\n",
    "    return init_circ\n",
    "\n",
    "def exact_evo(N, H, t_eval, obs):\n",
    "    # get initial state\n",
    "    psi_init = Statevector(init_state(N)).data\n",
    "    # intitialize array to store expectation values at every time step\n",
    "    expect_vals = []\n",
    "    init_state_revival = []\n",
    "    # loop through time values up to final time\n",
    "    for t in t_eval:\n",
    "        # evolve statevector for each time step.\n",
    "        # NOTE: this is exact since we have access to the exponential of the FULL Hamiltonain matrix\n",
    "        # and do not need to decompose into exponentials of individual summands\n",
    "        psi = expm_multiply(-1j * t * H, psi_init)\n",
    "        # compute expectation value at every time step\n",
    "        # NOTE: we have the full statevector here, so we can evaluate the expectation value exactly\n",
    "        # by simple matrix-vector-multiplication\n",
    "        expect_vals.append(np.real(np.conj(psi).dot(obs).dot(psi)))\n",
    "        overlap = np.conj(psi_init).dot(psi)\n",
    "        init_state_revival.append(overlap.real**2 + overlap.imag**2)\n",
    "\n",
    "    return expect_vals, init_state_revival"
   ]
  },
  {
   "cell_type": "markdown",
   "metadata": {},
   "source": [
    "Define observable $M_z = \\frac{1}{N} \\sum_i Z_i$"
   ]
  },
  {
   "cell_type": "code",
   "execution_count": 221,
   "metadata": {},
   "outputs": [
    {
     "name": "stdout",
     "output_type": "stream",
     "text": [
      "M_average =\n",
      "SparsePauliOp(['IIIZ', 'IIZI', 'IZII', 'ZIII'],\n",
      "              coeffs=[0.25+0.j, 0.25+0.j, 0.25+0.j, 0.25+0.j])\n"
     ]
    }
   ],
   "source": [
    "mag_ave = SparsePauliOp(data=[((N - 1 - i)*\"I\" + \"Z\" + i*\"I\")\n",
    "                        for i in range(N)], coeffs=[1 / N] * N)\n",
    "print(f\"M_average =\\n{mag_ave}\")\n",
    "\n",
    "mag_ave = mag_ave.to_matrix()"
   ]
  },
  {
   "cell_type": "markdown",
   "metadata": {},
   "source": [
    "Exact evolution"
   ]
  },
  {
   "cell_type": "code",
   "execution_count": 222,
   "metadata": {},
   "outputs": [],
   "source": [
    "t_final = 10 * np.abs(Jz)\n",
    "dt = 0.01\n",
    "Nt = int(t_final / dt)\n",
    "t_eval = np.linspace(0, t_final, Nt + 1)\n",
    "\n",
    "exact_mag, init_state_revival = exact_evo(N, H_op.to_matrix(sparse=True), t_eval, mag_ave)"
   ]
  },
  {
   "cell_type": "markdown",
   "metadata": {},
   "source": [
    "Trotter evolution"
   ]
  },
  {
   "cell_type": "code",
   "execution_count": 223,
   "metadata": {},
   "outputs": [
    {
     "name": "stderr",
     "output_type": "stream",
     "text": [
      "/var/folders/gz/ps5ykb1d4n177p_y32sx3slh0000gn/T/ipykernel_11055/1727880853.py:25: ComplexWarning: Casting complex values to real discards the imaginary part\n",
      "  x_circ.rx(2 * float(x_ops.coeffs[i]) * dt, i)\n",
      "/var/folders/gz/ps5ykb1d4n177p_y32sx3slh0000gn/T/ipykernel_11055/1727880853.py:26: ComplexWarning: Casting complex values to real discards the imaginary part\n",
      "  xx_circ.rxx(2 * float(xx_ops.coeffs[i]) * dt, n, m)\n",
      "/var/folders/gz/ps5ykb1d4n177p_y32sx3slh0000gn/T/ipykernel_11055/1727880853.py:27: ComplexWarning: Casting complex values to real discards the imaginary part\n",
      "  yy_circ.ryy(2 * float(yy_ops.coeffs[i]) * dt, n, m)\n",
      "/var/folders/gz/ps5ykb1d4n177p_y32sx3slh0000gn/T/ipykernel_11055/1727880853.py:28: ComplexWarning: Casting complex values to real discards the imaginary part\n",
      "  zz_circ.rzz(2 * float(zz_ops.coeffs[i]) * dt, n, m)\n"
     ]
    }
   ],
   "source": [
    "t_final = 10 * np.abs(Jz)\n",
    "dt_trotter = 0.1\n",
    "Nt_trotter = int(t_final / dt_trotter)\n",
    "t_eval_trotter = np.linspace(0, t_final, Nt_trotter + 1)\n",
    "\n",
    "# init_circ = QuantumCircuit(N)\n",
    "# psi_init = Statevector(init_circ).data\n",
    "init_circ = init_state(N)\n",
    "psi_init = Statevector(init_circ).data\n",
    "\n",
    "trotter_circ_mag = []\n",
    "trotter_circ_init_state_rev = []\n",
    "for t in t_eval_trotter:\n",
    "    circ = heisenberg_trotter_circ([x_ops, xx_ops, yy_ops, zz_ops], N, t, dt_trotter, init_circ)\n",
    "    psi = Statevector(circ).data\n",
    "\n",
    "    trotter_circ_mag.append(np.real(np.conj(psi).dot(mag_ave).dot(psi)))\n",
    "    overlap = np.conj(psi_init).dot(psi)\n",
    "    trotter_circ_init_state_rev.append(overlap.real**2 + overlap.imag**2)"
   ]
  },
  {
   "cell_type": "code",
   "execution_count": 224,
   "metadata": {},
   "outputs": [
    {
     "name": "stdout",
     "output_type": "stream",
     "text": [
      "Final magnetization exact: -0.8390715290764164\n",
      "Final magnetization Trotter: -0.42252843773028737\n",
      "Final initial state overlap exact: 4.1919062047282625e-05\n",
      "Final initial state overlap Trotter: 0.12955376051699405\n"
     ]
    }
   ],
   "source": [
    "print(f\"Final magnetization exact: {exact_mag[-1]}\")\n",
    "print(f\"Final magnetization Trotter: {trotter_circ_mag[-1]}\")\n",
    "print(f\"Final initial state overlap exact: {init_state_revival[-1]}\")\n",
    "print(f\"Final initial state overlap Trotter: {trotter_circ_init_state_rev[-1]}\")"
   ]
  },
  {
   "cell_type": "code",
   "execution_count": 225,
   "metadata": {},
   "outputs": [
    {
     "data": {
      "image/png": "[encoded data removed]",
      "text/plain": [
       "<Figure size 1000x400 with 2 Axes>"
      ]
     },
     "metadata": {},
     "output_type": "display_data"
    }
   ],
   "source": [
    "fig, axs = plt.subplots(1, 2, figsize=(10, 4), sharex=True)\n",
    "axs[0].plot(t_eval, exact_mag, label=\"exact\")\n",
    "axs[0].plot(t_eval_trotter, trotter_circ_mag, label=\"circuit Trotter\")\n",
    "axs[0].set_xlabel(rf\"$t$\")\n",
    "axs[0].set_ylabel(rf\"$M_z$\")\n",
    "\n",
    "axs[1].plot(t_eval, init_state_revival)\n",
    "axs[1].plot(t_eval_trotter, trotter_circ_init_state_rev)\n",
    "axs[1].set_xlabel(rf\"$t$\")\n",
    "axs[1].set_ylabel(rf\"$\\langle \\psi_{{\\rm init}} | \\psi(t) \\rangle$\")\n",
    "\n",
    "axs[0].legend()\n",
    "\n",
    "plt.show()"
   ]
  },
  {
   "cell_type": "code",
   "execution_count": null,
   "metadata": {},
   "outputs": [],
   "source": []
  }
 ],
 "metadata": {
  "kernelspec": {
   "display_name": "aqa-env",
   "language": "python",
   "name": "python3"
  },
  "language_info": {
   "codemirror_mode": {
    "name": "ipython",
    "version": 3
   },
   "file_extension": ".py",
   "mimetype": "text/x-python",
   "name": "python",
   "nbconvert_exporter": "python",
   "pygments_lexer": "ipython3",
   "version": "3.10.13"
  },
  "orig_nbformat": 4
 },
 "nbformat": 4,
 "nbformat_minor": 2
}
