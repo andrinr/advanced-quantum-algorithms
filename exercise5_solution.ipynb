{
 "cells": [
  {
   "cell_type": "code",
   "execution_count": 4,
   "metadata": {},
   "outputs": [],
   "source": [
    "import numpy as np\n",
    "from scipy.linalg import norm\n",
    "from scipy.sparse.linalg import expm_multiply, expm\n",
    "import matplotlib.pyplot as plt\n",
    "\n",
    "from qiskit import QuantumCircuit, QuantumRegister\n",
    "from qiskit.circuit.library import PauliEvolutionGate\n",
    "from qiskit.quantum_info import SparsePauliOp, Operator, Statevector"
   ]
  },
  {
   "cell_type": "markdown",
   "metadata": {},
   "source": [
    "# Exercise\n",
    "Trotter evolution is the first order approximation in a class of algorithms called product formulas. Higher orders are simply called product formulas of order $2k$ (they are defined only for even orders as they are symmetric). The second order product formula ($k=1$) for time $t$ and $L$ non-commuting Hamiltonian terms reads\n",
    "$$\n",
    "S_1(t) = \\prod_{n=1}^L e^{-i H_n t/2} \\prod_{n=L}^1 e^{-i H_n t/2} \\ .\n",
    "$$\n",
    "For $N$ time steps, the time evolution operator is then apprixmated by\n",
    "$$\n",
    "U(t) \\approx \\bigl[ S_1(t/N) \\bigr]^N\n",
    "$$\n",
    "\n",
    "We have seen how to time evolve an Ising and a Heisenberg Hamiltonian using first order Trotter evolution. In this exercise, we will study the algorithmic error of product formulas in more detail.\n",
    "We will use a transverse field Ising model to do so.\n",
    "$$ H = J \\sum_i Z_i Z_{i+1} + h \\sum_i X_i$$\n",
    "for $N=4$ sites with $J = 1, h = 0.5$, periodic boundary conditions (PBC).\n",
    "1. Implement both first and second-order product formula using the `PauliEvolutionGate`\n",
    "    - print the Trotter circuits for two Trotter steps ($t = 1$, $\\delta t = 0.5$) in terms of $R_x$ and $R_{zz}$ gates (you can use `QuantumCircuit.decompose().decompose()` to decompose it from the high-level `PauliEvolutionGate` into single- and two-qubit gates).\n",
    "2. Do the time evolution with both the first and the second order product formula for\n",
    "    - up to $t = 4$\n",
    "    - for $N_t \\in \\{ 5, 10, 20, 50, 100 \\}$ time steps.\n",
    "3. Compute the **infidelity** $1 - |\\langle \\psi_{\\rm exact}(t) | \\psi_{\\rm trotter}(t) \\rangle|^2$ between the exact state at $t = 4$ and the approximate state evolved with the respective product formula.\n",
    "    - print the final infidelities for each $N_t$ and both for the first and the second order product formula\n",
    "    - plot the infidelities vs $N_t$ with logarithmic y-scale"
   ]
  },
  {
   "cell_type": "code",
   "execution_count": 5,
   "metadata": {},
   "outputs": [],
   "source": [
    "def get_H_op(N, J, h, pbc):\n",
    "    \"\"\"Define the two non-commuting parts of the Hamiltonian separately.\"\"\"\n",
    "    \n",
    "    z_op_strings = []\n",
    "    for i in range(N - 1):\n",
    "        z_op_strings.append((N - 2 - i)*\"I\" + \"Z\" + \"Z\" + i*\"I\")\n",
    "    # last term for periodic BC\n",
    "    if pbc and N > 2:\n",
    "        z_op_strings.append(\"Z\" + (N - 2)*\"I\" + \"Z\")\n",
    "    \n",
    "    x_op_strings = []\n",
    "    for i in range(N):\n",
    "        x_op_strings.append(((N - 1 - i)*\"I\" + \"X\" + i*\"I\"))\n",
    "\n",
    "    z_ops = SparsePauliOp(data=z_op_strings, coeffs=[J] * (N if (pbc and N > 2) else N - 1))\n",
    "    x_ops = SparsePauliOp(data=x_op_strings, coeffs=[h] * N)\n",
    "    \n",
    "    return z_ops, x_ops"
   ]
  },
  {
   "cell_type": "code",
   "execution_count": 6,
   "metadata": {},
   "outputs": [],
   "source": [
    "# define basic parameters\n",
    "N = 4\n",
    "J = 1\n",
    "h = 0.5\n",
    "pbc = True"
   ]
  },
  {
   "cell_type": "code",
   "execution_count": 7,
   "metadata": {},
   "outputs": [
    {
     "name": "stdout",
     "output_type": "stream",
     "text": [
      "H_Z =\n",
      "SparsePauliOp(['IIZZ', 'IZZI', 'ZZII', 'ZIIZ'],\n",
      "              coeffs=[1.+0.j, 1.+0.j, 1.+0.j, 1.+0.j])\n",
      "H_X =\n",
      "SparsePauliOp(['IIIX', 'IIXI', 'IXII', 'XIII'],\n",
      "              coeffs=[0.5+0.j, 0.5+0.j, 0.5+0.j, 0.5+0.j])\n",
      "H_ising =\n",
      "SparsePauliOp(['IIZZ', 'IZZI', 'ZZII', 'ZIIZ', 'IIIX', 'IIXI', 'IXII', 'XIII'],\n",
      "              coeffs=[1. +0.j, 1. +0.j, 1. +0.j, 1. +0.j, 0.5+0.j, 0.5+0.j, 0.5+0.j, 0.5+0.j])\n",
      "M_average =\n",
      "SparsePauliOp(['IIIZ', 'IIZI', 'IZII', 'ZIII'],\n",
      "              coeffs=[0.25+0.j, 0.25+0.j, 0.25+0.j, 0.25+0.j])\n"
     ]
    }
   ],
   "source": [
    "z_ops, x_ops = get_H_op(N, J, h, pbc)\n",
    "H_op = z_ops + x_ops\n",
    "H_mat = H_op.to_matrix()\n",
    "\n",
    "mag_ave = SparsePauliOp(data=[((N - 1 - i)*\"I\" + \"Z\" + i*\"I\")\n",
    "                        for i in range(N)], coeffs=[1 / N] * N)\n",
    "                        \n",
    "print(f\"H_Z =\\n{z_ops}\")\n",
    "print(f\"H_X =\\n{x_ops}\")\n",
    "print(f\"H_ising =\\n{H_op}\")\n",
    "print(f\"M_average =\\n{mag_ave}\")\n",
    "\n",
    "mag_ave = mag_ave.to_matrix()"
   ]
  },
  {
   "cell_type": "markdown",
   "metadata": {},
   "source": [
    "### 2. Implement a method `heisenberg_trotter_circ` to obtain the circuit for Trotter evolution.\n",
    "- Print the Trotter circuit for 1 Trotter step with a steps size of $\\delta t = 0.25$.\n"
   ]
  },
  {
   "cell_type": "code",
   "execution_count": 8,
   "metadata": {},
   "outputs": [],
   "source": [
    "def ising_trotter_circ(H_list, N, t_final, dt, order=1, init_circ=None):\n",
    "    \"\"\"This method implements a Trotter circuit for the time evolution of the transverse field Ising model.\"\"\"\n",
    "    Nt = int(np.round(t_final / dt))\n",
    "\n",
    "    if order == 2:\n",
    "        dt /= 2\n",
    "\n",
    "    # ZZ-gate\n",
    "    z_ops = H_list[0]\n",
    "    z_circ = PauliEvolutionGate(z_ops, dt)\n",
    "\n",
    "    x_ops = H_list[1]\n",
    "    x_circ = PauliEvolutionGate(x_ops, dt)\n",
    "\n",
    "    qreg = QuantumRegister(N)\n",
    "    evo_circ = QuantumCircuit(qreg)\n",
    "    if init_circ is not None:\n",
    "        evo_circ.append(init_circ, qreg)\n",
    "    for _ in range(Nt):\n",
    "        if order == 1:\n",
    "            evo_circ.append(x_circ, qreg)\n",
    "            evo_circ.append(z_circ, qreg)\n",
    "        elif order == 2:\n",
    "            evo_circ.append(x_circ, qreg)\n",
    "            evo_circ.append(z_circ, qreg)\n",
    "            evo_circ.append(z_circ, qreg)\n",
    "            evo_circ.append(x_circ, qreg)\n",
    "        evo_circ.barrier()\n",
    "\n",
    "    return evo_circ"
   ]
  },
  {
   "cell_type": "code",
   "execution_count": 9,
   "metadata": {},
   "outputs": [
    {
     "data": {
      "text/html": [
       "<pre style=\"word-wrap: normal;white-space: pre;background: #fff0;line-height: 1.1;font-family: &quot;Courier New&quot;,Courier,monospace\">      ┌──────────┐                                         ░ ┌──────────┐»\n",
       "q0_0: ┤ Rx(0.25) ├─■─────────────────────────────■─────────░─┤ Rx(0.25) ├»\n",
       "      ├──────────┤ │ZZ(0.5)                      │         ░ ├──────────┤»\n",
       "q0_1: ┤ Rx(0.25) ├─■─────────■───────────────────┼─────────░─┤ Rx(0.25) ├»\n",
       "      ├──────────┤           │ZZ(0.5)            │         ░ ├──────────┤»\n",
       "q0_2: ┤ Rx(0.25) ├───────────■─────────■─────────┼─────────░─┤ Rx(0.25) ├»\n",
       "      ├──────────┤                     │ZZ(0.5)  │ZZ(0.5)  ░ ├──────────┤»\n",
       "q0_3: ┤ Rx(0.25) ├─────────────────────■─────────■─────────░─┤ Rx(0.25) ├»\n",
       "      └──────────┘                                         ░ └──────────┘»\n",
       "«                                               ░ ┌──────────┐          »\n",
       "«q0_0: ─■─────────────────────────────■─────────░─┤ Rx(0.25) ├─■────────»\n",
       "«       │ZZ(0.5)                      │         ░ ├──────────┤ │ZZ(0.5) »\n",
       "«q0_1: ─■─────────■───────────────────┼─────────░─┤ Rx(0.25) ├─■────────»\n",
       "«                 │ZZ(0.5)            │         ░ ├──────────┤          »\n",
       "«q0_2: ───────────■─────────■─────────┼─────────░─┤ Rx(0.25) ├──────────»\n",
       "«                           │ZZ(0.5)  │ZZ(0.5)  ░ ├──────────┤          »\n",
       "«q0_3: ─────────────────────■─────────■─────────░─┤ Rx(0.25) ├──────────»\n",
       "«                                               ░ └──────────┘          »\n",
       "«                                     ░ ┌──────────┐                    »\n",
       "«q0_0: ─────────────────────■─────────░─┤ Rx(0.25) ├─■──────────────────»\n",
       "«                           │         ░ ├──────────┤ │ZZ(0.5)           »\n",
       "«q0_1: ─■───────────────────┼─────────░─┤ Rx(0.25) ├─■─────────■────────»\n",
       "«       │ZZ(0.5)            │         ░ ├──────────┤           │ZZ(0.5) »\n",
       "«q0_2: ─■─────────■─────────┼─────────░─┤ Rx(0.25) ├───────────■────────»\n",
       "«                 │ZZ(0.5)  │ZZ(0.5)  ░ ├──────────┤                    »\n",
       "«q0_3: ───────────■─────────■─────────░─┤ Rx(0.25) ├────────────────────»\n",
       "«                                     ░ └──────────┘                    »\n",
       "«                           ░ \n",
       "«q0_0: ───────────■─────────░─\n",
       "«                 │         ░ \n",
       "«q0_1: ───────────┼─────────░─\n",
       "«                 │         ░ \n",
       "«q0_2: ─■─────────┼─────────░─\n",
       "«       │ZZ(0.5)  │ZZ(0.5)  ░ \n",
       "«q0_3: ─■─────────■─────────░─\n",
       "«                           ░ </pre>"
      ],
      "text/plain": [
       "      ┌──────────┐                                         ░ ┌──────────┐»\n",
       "q0_0: ┤ Rx(0.25) ├─■─────────────────────────────■─────────░─┤ Rx(0.25) ├»\n",
       "      ├──────────┤ │ZZ(0.5)                      │         ░ ├──────────┤»\n",
       "q0_1: ┤ Rx(0.25) ├─■─────────■───────────────────┼─────────░─┤ Rx(0.25) ├»\n",
       "      ├──────────┤           │ZZ(0.5)            │         ░ ├──────────┤»\n",
       "q0_2: ┤ Rx(0.25) ├───────────■─────────■─────────┼─────────░─┤ Rx(0.25) ├»\n",
       "      ├──────────┤                     │ZZ(0.5)  │ZZ(0.5)  ░ ├──────────┤»\n",
       "q0_3: ┤ Rx(0.25) ├─────────────────────■─────────■─────────░─┤ Rx(0.25) ├»\n",
       "      └──────────┘                                         ░ └──────────┘»\n",
       "«                                               ░ ┌──────────┐          »\n",
       "«q0_0: ─■─────────────────────────────■─────────░─┤ Rx(0.25) ├─■────────»\n",
       "«       │ZZ(0.5)                      │         ░ ├──────────┤ │ZZ(0.5) »\n",
       "«q0_1: ─■─────────■───────────────────┼─────────░─┤ Rx(0.25) ├─■────────»\n",
       "«                 │ZZ(0.5)            │         ░ ├──────────┤          »\n",
       "«q0_2: ───────────■─────────■─────────┼─────────░─┤ Rx(0.25) ├──────────»\n",
       "«                           │ZZ(0.5)  │ZZ(0.5)  ░ ├──────────┤          »\n",
       "«q0_3: ─────────────────────■─────────■─────────░─┤ Rx(0.25) ├──────────»\n",
       "«                                               ░ └──────────┘          »\n",
       "«                                     ░ ┌──────────┐                    »\n",
       "«q0_0: ─────────────────────■─────────░─┤ Rx(0.25) ├─■──────────────────»\n",
       "«                           │         ░ ├──────────┤ │ZZ(0.5)           »\n",
       "«q0_1: ─■───────────────────┼─────────░─┤ Rx(0.25) ├─■─────────■────────»\n",
       "«       │ZZ(0.5)            │         ░ ├──────────┤           │ZZ(0.5) »\n",
       "«q0_2: ─■─────────■─────────┼─────────░─┤ Rx(0.25) ├───────────■────────»\n",
       "«                 │ZZ(0.5)  │ZZ(0.5)  ░ ├──────────┤                    »\n",
       "«q0_3: ───────────■─────────■─────────░─┤ Rx(0.25) ├────────────────────»\n",
       "«                                     ░ └──────────┘                    »\n",
       "«                           ░ \n",
       "«q0_0: ───────────■─────────░─\n",
       "«                 │         ░ \n",
       "«q0_1: ───────────┼─────────░─\n",
       "«                 │         ░ \n",
       "«q0_2: ─■─────────┼─────────░─\n",
       "«       │ZZ(0.5)  │ZZ(0.5)  ░ \n",
       "«q0_3: ─■─────────■─────────░─\n",
       "«                           ░ "
      ]
     },
     "execution_count": 9,
     "metadata": {},
     "output_type": "execute_result"
    }
   ],
   "source": [
    "circ = ising_trotter_circ([z_ops, x_ops], N, 1, 0.25)\n",
    "circ.decompose().decompose().draw()"
   ]
  },
  {
   "cell_type": "code",
   "execution_count": 10,
   "metadata": {},
   "outputs": [],
   "source": [
    "init_circ = QuantumCircuit(N)\n",
    "psi_init = Statevector(init_circ).data\n",
    "\n",
    "t_final = 4\n",
    "psi_exact = expm_multiply(-1j * t_final * H_mat, psi_init)\n",
    "\n",
    "# dt_list = [2, 1, 0.5, 0.25, 0.1]\n",
    "# Nt_list = [int(t_final / dt) for dt in dt_list]\n",
    "Nt_list = [5, 10, 20, 50, 100]\n",
    "dt_list = [t_final / Nt for Nt in Nt_list]"
   ]
  },
  {
   "cell_type": "code",
   "execution_count": 11,
   "metadata": {},
   "outputs": [
    {
     "name": "stdout",
     "output_type": "stream",
     "text": [
      "0.35795597724481765\n",
      "0.05112775511519119\n",
      "0.010418060340360302\n"
     ]
    },
    {
     "name": "stdout",
     "output_type": "stream",
     "text": [
      "0.001630883418908713\n",
      "0.0004127652703208584\n"
     ]
    }
   ],
   "source": [
    "final_infid_order1 = []\n",
    "\n",
    "for i, dt in enumerate(dt_list):\n",
    "    Nt = Nt_list[i]\n",
    "    t_eval = np.linspace(0, t_final, Nt + 1)\n",
    "\n",
    "    trotter_circ_res = []\n",
    "    for t in t_eval:\n",
    "        circ = ising_trotter_circ([z_ops, x_ops], N, t, dt, init_circ=init_circ)\n",
    "        psi = Statevector(circ).data\n",
    "        trotter_circ_res.append(np.abs(np.conj(psi).dot(mag_ave).dot(psi)))\n",
    "\n",
    "    overlap = np.conj(psi).dot(psi_exact)\n",
    "    fidelity = overlap.real**2 + overlap.imag**2\n",
    "    final_infid_order1.append(1 - fidelity)\n",
    "    print(final_infid_order1[-1])\n"
   ]
  },
  {
   "cell_type": "code",
   "execution_count": 12,
   "metadata": {},
   "outputs": [
    {
     "data": {
      "text/plain": [
       "<matplotlib.legend.Legend at 0x7fe95c3feb50>"
      ]
     },
     "execution_count": 12,
     "metadata": {},
     "output_type": "execute_result"
    },
    {
     "data": {
      "image/png": "[encoded data removed]",
      "text/plain": [
       "<Figure size 600x500 with 1 Axes>"
      ]
     },
     "metadata": {},
     "output_type": "display_data"
    }
   ],
   "source": [
    "fig, axs = plt.subplots(1, 1, figsize=(6, 5), sharex=True)\n",
    "axs.plot(Nt_list, final_infid_order1, marker='o', label=\"1st order Trotter\")\n",
    "axs.set_yscale(\"log\")\n",
    "axs.set_xlabel(rf\"$N_t$\")\n",
    "axs.set_ylabel(rf\"$\\langle \\psi_{{\\rm exact}}(t) | \\psi(t) \\rangle$\")\n",
    "axs.legend()"
   ]
  },
  {
   "cell_type": "code",
   "execution_count": 13,
   "metadata": {},
   "outputs": [
    {
     "data": {
      "text/html": [
       "<pre style=\"word-wrap: normal;white-space: pre;background: #fff0;line-height: 1.1;font-family: &quot;Courier New&quot;,Courier,monospace\">        ┌───────────┐                                                       »\n",
       "q191_0: ┤ Rx(0.125) ├─■────────────────────────────────■──────────■─────────»\n",
       "        ├───────────┤ │ZZ(0.25)                        │          │ZZ(0.25) »\n",
       "q191_1: ┤ Rx(0.125) ├─■──────────■─────────────────────┼──────────■─────────»\n",
       "        ├───────────┤            │ZZ(0.25)             │                    »\n",
       "q191_2: ┤ Rx(0.125) ├────────────■──────────■──────────┼────────────────────»\n",
       "        ├───────────┤                       │ZZ(0.25)  │ZZ(0.25)            »\n",
       "q191_3: ┤ Rx(0.125) ├───────────────────────■──────────■────────────────────»\n",
       "        └───────────┘                                                       »\n",
       "«                                           ┌───────────┐ ░ ┌───────────┐»\n",
       "«q191_0: ─────────────────────────■─────────┤ Rx(0.125) ├─░─┤ Rx(0.125) ├»\n",
       "«                   ┌───────────┐ │         └───────────┘ ░ ├───────────┤»\n",
       "«q191_1: ─■─────────┤ Rx(0.125) ├─┼───────────────────────░─┤ Rx(0.125) ├»\n",
       "«         │ZZ(0.25) └───────────┘ │         ┌───────────┐ ░ ├───────────┤»\n",
       "«q191_2: ─■───────────■───────────┼─────────┤ Rx(0.125) ├─░─┤ Rx(0.125) ├»\n",
       "«                     │ZZ(0.25)   │ZZ(0.25) ├───────────┤ ░ ├───────────┤»\n",
       "«q191_3: ─────────────■───────────■─────────┤ Rx(0.125) ├─░─┤ Rx(0.125) ├»\n",
       "«                                           └───────────┘ ░ └───────────┘»\n",
       "«                                                                          »\n",
       "«q191_0: ─■────────────────────────────────■──────────■────────────────────»\n",
       "«         │ZZ(0.25)                        │          │ZZ(0.25)            »\n",
       "«q191_1: ─■──────────■─────────────────────┼──────────■──────────■─────────»\n",
       "«                    │ZZ(0.25)             │                     │ZZ(0.25) »\n",
       "«q191_2: ────────────■──────────■──────────┼─────────────────────■─────────»\n",
       "«                               │ZZ(0.25)  │ZZ(0.25)                       »\n",
       "«q191_3: ───────────────────────■──────────■───────────────────────────────»\n",
       "«                                                                          »\n",
       "«                                ┌───────────┐ ░ ┌───────────┐           »\n",
       "«q191_0: ──────────────■─────────┤ Rx(0.125) ├─░─┤ Rx(0.125) ├─■─────────»\n",
       "«        ┌───────────┐ │         └───────────┘ ░ ├───────────┤ │ZZ(0.25) »\n",
       "«q191_1: ┤ Rx(0.125) ├─┼───────────────────────░─┤ Rx(0.125) ├─■─────────»\n",
       "«        └───────────┘ │         ┌───────────┐ ░ ├───────────┤           »\n",
       "«q191_2: ──■───────────┼─────────┤ Rx(0.125) ├─░─┤ Rx(0.125) ├───────────»\n",
       "«          │ZZ(0.25)   │ZZ(0.25) ├───────────┤ ░ ├───────────┤           »\n",
       "«q191_3: ──■───────────■─────────┤ Rx(0.125) ├─░─┤ Rx(0.125) ├───────────»\n",
       "«                                └───────────┘ ░ └───────────┘           »\n",
       "«                                                                            »\n",
       "«q191_0: ───────────────────────■──────────■─────────────────────────────────»\n",
       "«                               │          │ZZ(0.25)            ┌───────────┐»\n",
       "«q191_1: ─■─────────────────────┼──────────■──────────■─────────┤ Rx(0.125) ├»\n",
       "«         │ZZ(0.25)             │                     │ZZ(0.25) └───────────┘»\n",
       "«q191_2: ─■──────────■──────────┼─────────────────────■───────────■──────────»\n",
       "«                    │ZZ(0.25)  │ZZ(0.25)                         │ZZ(0.25)  »\n",
       "«q191_3: ────────────■──────────■─────────────────────────────────■──────────»\n",
       "«                                                                            »\n",
       "«                   ┌───────────┐ ░ ┌───────────┐                      »\n",
       "«q191_0: ─■─────────┤ Rx(0.125) ├─░─┤ Rx(0.125) ├─■────────────────────»\n",
       "«         │         └───────────┘ ░ ├───────────┤ │ZZ(0.25)            »\n",
       "«q191_1: ─┼───────────────────────░─┤ Rx(0.125) ├─■──────────■─────────»\n",
       "«         │         ┌───────────┐ ░ ├───────────┤            │ZZ(0.25) »\n",
       "«q191_2: ─┼─────────┤ Rx(0.125) ├─░─┤ Rx(0.125) ├────────────■─────────»\n",
       "«         │ZZ(0.25) ├───────────┤ ░ ├───────────┤                      »\n",
       "«q191_3: ─■─────────┤ Rx(0.125) ├─░─┤ Rx(0.125) ├──────────────────────»\n",
       "«                   └───────────┘ ░ └───────────┘                      »\n",
       "«                                                                            »\n",
       "«q191_0: ────────────■──────────■──────────────────────────────────■─────────»\n",
       "«                    │          │ZZ(0.25)            ┌───────────┐ │         »\n",
       "«q191_1: ────────────┼──────────■──────────■─────────┤ Rx(0.125) ├─┼─────────»\n",
       "«                    │                     │ZZ(0.25) └───────────┘ │         »\n",
       "«q191_2: ─■──────────┼─────────────────────■───────────■───────────┼─────────»\n",
       "«         │ZZ(0.25)  │ZZ(0.25)                         │ZZ(0.25)   │ZZ(0.25) »\n",
       "«q191_3: ─■──────────■─────────────────────────────────■───────────■─────────»\n",
       "«                                                                            »\n",
       "«        ┌───────────┐ ░ \n",
       "«q191_0: ┤ Rx(0.125) ├─░─\n",
       "«        └───────────┘ ░ \n",
       "«q191_1: ──────────────░─\n",
       "«        ┌───────────┐ ░ \n",
       "«q191_2: ┤ Rx(0.125) ├─░─\n",
       "«        ├───────────┤ ░ \n",
       "«q191_3: ┤ Rx(0.125) ├─░─\n",
       "«        └───────────┘ ░ </pre>"
      ],
      "text/plain": [
       "        ┌───────────┐                                                       »\n",
       "q191_0: ┤ Rx(0.125) ├─■────────────────────────────────■──────────■─────────»\n",
       "        ├───────────┤ │ZZ(0.25)                        │          │ZZ(0.25) »\n",
       "q191_1: ┤ Rx(0.125) ├─■──────────■─────────────────────┼──────────■─────────»\n",
       "        ├───────────┤            │ZZ(0.25)             │                    »\n",
       "q191_2: ┤ Rx(0.125) ├────────────■──────────■──────────┼────────────────────»\n",
       "        ├───────────┤                       │ZZ(0.25)  │ZZ(0.25)            »\n",
       "q191_3: ┤ Rx(0.125) ├───────────────────────■──────────■────────────────────»\n",
       "        └───────────┘                                                       »\n",
       "«                                           ┌───────────┐ ░ ┌───────────┐»\n",
       "«q191_0: ─────────────────────────■─────────┤ Rx(0.125) ├─░─┤ Rx(0.125) ├»\n",
       "«                   ┌───────────┐ │         └───────────┘ ░ ├───────────┤»\n",
       "«q191_1: ─■─────────┤ Rx(0.125) ├─┼───────────────────────░─┤ Rx(0.125) ├»\n",
       "«         │ZZ(0.25) └───────────┘ │         ┌───────────┐ ░ ├───────────┤»\n",
       "«q191_2: ─■───────────■───────────┼─────────┤ Rx(0.125) ├─░─┤ Rx(0.125) ├»\n",
       "«                     │ZZ(0.25)   │ZZ(0.25) ├───────────┤ ░ ├───────────┤»\n",
       "«q191_3: ─────────────■───────────■─────────┤ Rx(0.125) ├─░─┤ Rx(0.125) ├»\n",
       "«                                           └───────────┘ ░ └───────────┘»\n",
       "«                                                                          »\n",
       "«q191_0: ─■────────────────────────────────■──────────■────────────────────»\n",
       "«         │ZZ(0.25)                        │          │ZZ(0.25)            »\n",
       "«q191_1: ─■──────────■─────────────────────┼──────────■──────────■─────────»\n",
       "«                    │ZZ(0.25)             │                     │ZZ(0.25) »\n",
       "«q191_2: ────────────■──────────■──────────┼─────────────────────■─────────»\n",
       "«                               │ZZ(0.25)  │ZZ(0.25)                       »\n",
       "«q191_3: ───────────────────────■──────────■───────────────────────────────»\n",
       "«                                                                          »\n",
       "«                                ┌───────────┐ ░ ┌───────────┐           »\n",
       "«q191_0: ──────────────■─────────┤ Rx(0.125) ├─░─┤ Rx(0.125) ├─■─────────»\n",
       "«        ┌───────────┐ │         └───────────┘ ░ ├───────────┤ │ZZ(0.25) »\n",
       "«q191_1: ┤ Rx(0.125) ├─┼───────────────────────░─┤ Rx(0.125) ├─■─────────»\n",
       "«        └───────────┘ │         ┌───────────┐ ░ ├───────────┤           »\n",
       "«q191_2: ──■───────────┼─────────┤ Rx(0.125) ├─░─┤ Rx(0.125) ├───────────»\n",
       "«          │ZZ(0.25)   │ZZ(0.25) ├───────────┤ ░ ├───────────┤           »\n",
       "«q191_3: ──■───────────■─────────┤ Rx(0.125) ├─░─┤ Rx(0.125) ├───────────»\n",
       "«                                └───────────┘ ░ └───────────┘           »\n",
       "«                                                                            »\n",
       "«q191_0: ───────────────────────■──────────■─────────────────────────────────»\n",
       "«                               │          │ZZ(0.25)            ┌───────────┐»\n",
       "«q191_1: ─■─────────────────────┼──────────■──────────■─────────┤ Rx(0.125) ├»\n",
       "«         │ZZ(0.25)             │                     │ZZ(0.25) └───────────┘»\n",
       "«q191_2: ─■──────────■──────────┼─────────────────────■───────────■──────────»\n",
       "«                    │ZZ(0.25)  │ZZ(0.25)                         │ZZ(0.25)  »\n",
       "«q191_3: ────────────■──────────■─────────────────────────────────■──────────»\n",
       "«                                                                            »\n",
       "«                   ┌───────────┐ ░ ┌───────────┐                      »\n",
       "«q191_0: ─■─────────┤ Rx(0.125) ├─░─┤ Rx(0.125) ├─■────────────────────»\n",
       "«         │         └───────────┘ ░ ├───────────┤ │ZZ(0.25)            »\n",
       "«q191_1: ─┼───────────────────────░─┤ Rx(0.125) ├─■──────────■─────────»\n",
       "«         │         ┌───────────┐ ░ ├───────────┤            │ZZ(0.25) »\n",
       "«q191_2: ─┼─────────┤ Rx(0.125) ├─░─┤ Rx(0.125) ├────────────■─────────»\n",
       "«         │ZZ(0.25) ├───────────┤ ░ ├───────────┤                      »\n",
       "«q191_3: ─■─────────┤ Rx(0.125) ├─░─┤ Rx(0.125) ├──────────────────────»\n",
       "«                   └───────────┘ ░ └───────────┘                      »\n",
       "«                                                                            »\n",
       "«q191_0: ────────────■──────────■──────────────────────────────────■─────────»\n",
       "«                    │          │ZZ(0.25)            ┌───────────┐ │         »\n",
       "«q191_1: ────────────┼──────────■──────────■─────────┤ Rx(0.125) ├─┼─────────»\n",
       "«                    │                     │ZZ(0.25) └───────────┘ │         »\n",
       "«q191_2: ─■──────────┼─────────────────────■───────────■───────────┼─────────»\n",
       "«         │ZZ(0.25)  │ZZ(0.25)                         │ZZ(0.25)   │ZZ(0.25) »\n",
       "«q191_3: ─■──────────■─────────────────────────────────■───────────■─────────»\n",
       "«                                                                            »\n",
       "«        ┌───────────┐ ░ \n",
       "«q191_0: ┤ Rx(0.125) ├─░─\n",
       "«        └───────────┘ ░ \n",
       "«q191_1: ──────────────░─\n",
       "«        ┌───────────┐ ░ \n",
       "«q191_2: ┤ Rx(0.125) ├─░─\n",
       "«        ├───────────┤ ░ \n",
       "«q191_3: ┤ Rx(0.125) ├─░─\n",
       "«        └───────────┘ ░ "
      ]
     },
     "execution_count": 13,
     "metadata": {},
     "output_type": "execute_result"
    }
   ],
   "source": [
    "circ = ising_trotter_circ([z_ops, x_ops], N, 1, 0.25, order=2)\n",
    "circ.decompose().decompose().draw()"
   ]
  },
  {
   "cell_type": "code",
   "execution_count": 14,
   "metadata": {},
   "outputs": [
    {
     "name": "stdout",
     "output_type": "stream",
     "text": [
      "0.11767069351768467\n",
      "0.004542611295253685\n",
      "0.0002861226312058651\n",
      "7.401285095687271e-06\n",
      "4.6337128822848683e-07\n"
     ]
    }
   ],
   "source": [
    "final_infid_order2 = []\n",
    "\n",
    "for i, dt in enumerate(dt_list):\n",
    "    Nt = Nt_list[i]\n",
    "    t_eval = np.linspace(0, t_final, Nt + 1)\n",
    "\n",
    "    trotter_circ_res = []\n",
    "    for t in t_eval:\n",
    "        circ = ising_trotter_circ([z_ops, x_ops], N, t, dt, order=2, init_circ=init_circ)\n",
    "        psi = Statevector(circ).data\n",
    "        trotter_circ_res.append(np.abs(np.conj(psi).dot(mag_ave).dot(psi)))\n",
    "\n",
    "    overlap = np.conj(psi).dot(psi_exact)\n",
    "    fidelity = overlap.real**2 + overlap.imag**2\n",
    "    final_infid_order2.append(1 - fidelity)\n",
    "    print(final_infid_order2[-1])\n"
   ]
  },
  {
   "cell_type": "code",
   "execution_count": 12,
   "metadata": {},
   "outputs": [
    {
     "data": {
      "text/plain": [
       "<matplotlib.legend.Legend at 0x7f97a145f8b0>"
      ]
     },
     "execution_count": 12,
     "metadata": {},
     "output_type": "execute_result"
    },
    {
     "data": {
      "image/png": "[encoded data removed]",
      "text/plain": [
       "<Figure size 600x500 with 1 Axes>"
      ]
     },
     "metadata": {},
     "output_type": "display_data"
    }
   ],
   "source": [
    "fig, axs = plt.subplots(1, 1, figsize=(6, 5), sharex=True)\n",
    "axs.plot(Nt_list, final_infid_order1, marker='o', label=\"1st order Trotter\")\n",
    "axs.plot(Nt_list, final_infid_order2, marker='o', label=\"2nd order Trotter\")\n",
    "# axs.plot(Nt_list, [0.1*(2 * t_final)**2/(x**2) for x in Nt_list], marker='o', label=\"1st order error\")\n",
    "# axs.plot(Nt_list, [(0.5*2 * t_final)**3/(x**4) for x in Nt_list], marker='o', label=\"2nd order error\")\n",
    "axs.set_yscale(\"log\")\n",
    "axs.set_xlabel(rf\"$N_t$\")\n",
    "axs.set_ylabel(rf\"$\\langle \\psi_{{\\rm exact}}(t) | \\psi(t) \\rangle$\")\n",
    "axs.legend()"
   ]
  },
  {
   "cell_type": "code",
   "execution_count": 13,
   "metadata": {},
   "outputs": [
    {
     "name": "stdout",
     "output_type": "stream",
     "text": [
      "0.05 0.0014750139779339255\n",
      "0.1 0.0037677867389133146\n",
      "0.25 0.03267392656902557\n",
      "0.5 0.135667053027816\n",
      "1.0 0.9731724982955658\n"
     ]
    }
   ],
   "source": [
    "Nt = 20\n",
    "t_final_list = [1, 2, 5, 10, 20]\n",
    "\n",
    "final_infid_tf_order1 = []\n",
    "for i, t_final in enumerate(t_final_list):\n",
    "    # Nt = int(t_final / dt)\n",
    "    dt = t_final / Nt\n",
    "    t_eval = np.linspace(0, t_final, Nt + 1)\n",
    "\n",
    "    trotter_circ_res = []\n",
    "    for t in t_eval:\n",
    "        circ = ising_trotter_circ([z_ops, x_ops], N, t, dt, init_circ=init_circ)\n",
    "        psi = Statevector(circ).data\n",
    "        trotter_circ_res.append(np.abs(np.conj(psi).dot(mag_ave).dot(psi)))\n",
    "\n",
    "    psi_exact = expm_multiply(-1j * t_final * H_mat, psi_init)\n",
    "    overlap = np.conj(psi).dot(psi_exact)\n",
    "    fidelity = overlap.real**2 + overlap.imag**2\n",
    "    final_infid_tf_order1.append(1 - fidelity)\n",
    "    print(dt, final_infid_tf_order1[-1])"
   ]
  },
  {
   "cell_type": "code",
   "execution_count": 14,
   "metadata": {},
   "outputs": [
    {
     "name": "stdout",
     "output_type": "stream",
     "text": [
      "1.415668642978929e-06\n",
      "2.840647901924953e-05\n",
      "0.003106477887033665\n",
      "0.06379881241628804\n",
      "0.9810222624569436\n"
     ]
    }
   ],
   "source": [
    "final_infid_tf_order2 = []\n",
    "\n",
    "for i, t_final in enumerate(t_final_list):\n",
    "    # Nt = int(t_final / dt)\n",
    "    dt = t_final / Nt\n",
    "    t_eval = np.linspace(0, t_final, Nt + 1)\n",
    "\n",
    "    trotter_circ_res = []\n",
    "    for t in t_eval:\n",
    "        circ = ising_trotter_circ([z_ops, x_ops], N, t, dt, order=2, init_circ=init_circ)\n",
    "        psi = Statevector(circ).data\n",
    "        trotter_circ_res.append(np.abs(np.conj(psi).dot(mag_ave).dot(psi)))\n",
    "\n",
    "    psi_exact = expm_multiply(-1j * t_final * H_mat, psi_init)\n",
    "    overlap = np.conj(psi).dot(psi_exact)\n",
    "    fidelity = overlap.real**2 + overlap.imag**2\n",
    "    final_infid_tf_order2.append(1 - fidelity)\n",
    "    print(final_infid_tf_order2[-1])"
   ]
  },
  {
   "cell_type": "code",
   "execution_count": 15,
   "metadata": {},
   "outputs": [
    {
     "data": {
      "text/plain": [
       "<matplotlib.legend.Legend at 0x7f9798cf9630>"
      ]
     },
     "execution_count": 15,
     "metadata": {},
     "output_type": "execute_result"
    },
    {
     "data": {
      "image/png": "[encoded data removed]",
      "text/plain": [
       "<Figure size 600x500 with 1 Axes>"
      ]
     },
     "metadata": {},
     "output_type": "display_data"
    }
   ],
   "source": [
    "fig, axs = plt.subplots(1, 1, figsize=(6, 5), sharex=True)\n",
    "axs.plot(t_final_list, final_infid_tf_order1, marker='o', label=\"1st order Trotter\")\n",
    "axs.plot(t_final_list, final_infid_tf_order2, marker='o', label=\"2nd order Trotter\")\n",
    "# axs.plot(t_final_list, [0.01*(2 * x)**2/(x/dt) for x in t_final_list], marker='o', label=\"1st order error\")\n",
    "# axs.plot(t_final_list, [0.01*(2 * x)**3/(x/dt)**2 for x in t_final_list], marker='o', label=\"2nd order error\")\n",
    "axs.set_yscale(\"log\")\n",
    "axs.set_xlabel(rf\"$t_{{\\rm final}}$\")\n",
    "axs.set_ylabel(rf\"$\\langle \\psi_{{\\rm exact}}(t) | \\psi(t) \\rangle$\")\n",
    "axs.legend()"
   ]
  },
  {
   "cell_type": "code",
   "execution_count": null,
   "metadata": {},
   "outputs": [],
   "source": []
  }
 ],
 "metadata": {
  "kernelspec": {
   "display_name": "aqa-env",
   "language": "python",
   "name": "python3"
  },
  "language_info": {
   "codemirror_mode": {
    "name": "ipython",
    "version": 3
   },
   "file_extension": ".py",
   "mimetype": "text/x-python",
   "name": "python",
   "nbconvert_exporter": "python",
   "pygments_lexer": "ipython3",
   "version": "3.11.5"
  },
  "orig_nbformat": 4
 },
 "nbformat": 4,
 "nbformat_minor": 2
}
