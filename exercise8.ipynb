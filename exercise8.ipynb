{
 "cells": [
  {
   "cell_type": "code",
   "execution_count": 1,
   "metadata": {},
   "outputs": [],
   "source": [
    "import __future__\n",
    "\n",
    "import numpy as np\n",
    "\n",
    "from qiskit.quantum_info import SparsePauliOp"
   ]
  },
  {
   "cell_type": "markdown",
   "metadata": {},
   "source": [
    "## Exercise\n",
    "\n",
    "In the tutorial, we implemented the Jordan-Wigner transformation for a 2-body hopping term $a_p^\\dagger a_q$ for the case $p > q$. However, in general, this is not the only case a mapper has to cover. You should implement the missing cases for 2-body terms, namely\n",
    "- $a_p^\\dagger a_q$ with $p < q$\n",
    "- The transpose cases $a_p a_q^\\dagger$ with $p > q$ and $p < q$\n",
    "- The number operator $n = a_p^\\dagger a_p$ ($p = q$)\n",
    "\n",
    "The class below stores s **second quantization operator** as strings in the following format: \\\n",
    "$a_p^\\dagger$ --> `\"+_p\"` \\\n",
    "$a_q$ --> `\"-_q\"` \\\n",
    "where the first character (+/-) indicates whether it is a creation or annihilation operator, and the last character specifies the index of the orbital/qubit it is acting on. \\\n",
    "Multiple operators are always separated by a space. Two-body terms, for example, are encoded as \\\n",
    "$a_p^\\dagger a_q$ --> `\"+_p -_q\"`"
   ]
  },
  {
   "cell_type": "markdown",
   "metadata": {},
   "source": [
    "## Solution"
   ]
  },
  {
   "cell_type": "code",
   "execution_count": 25,
   "metadata": {},
   "outputs": [],
   "source": [
    "class FermionicOperator():\n",
    "\n",
    "    def __init__(self, op_list: list | np.ndarray, num_qubits: int=None):\n",
    "        self.op_list = op_list\n",
    "        self.num_qubits = num_qubits\n",
    "\n",
    "        self.ops_split = []\n",
    "\n",
    "        max_idx = 0\n",
    "        for op, coeff in self.op_list.items():\n",
    "            op_split = op.split()\n",
    "            num_ops = len(op_split)\n",
    "            self.ops_split.append({\n",
    "                \"indices\": [int(o[-1]) for o in op_split],\n",
    "                \"conjugation\": [o[0] for o in op_split],\n",
    "                \"coeff\": coeff\n",
    "            })\n",
    "\n",
    "            if max_idx < max(self.ops_split[-1][\"indices\"]):\n",
    "                max_idx = max(self.ops_split[-1][\"indices\"])\n",
    "\n",
    "            if num_ops % 2 != 0 or self.ops_split[-1][\"conjugation\"].count(\"+\") != num_ops / 2:\n",
    "                raise ValueError(f\"FermionicOperator.map_operator(): {op} invalid\")\n",
    "\n",
    "        if self.num_qubits is None:\n",
    "            self.num_qubits = max_idx + 1\n",
    "        elif self.num_qubits < max_idx + 1:\n",
    "            raise ValueError(\n",
    "                f\"FermionicOperator.__init__(): num_qubits ({self.num_qubits}) \"\n",
    "                f\"is smaller than maximum operator index\")\n",
    "\n",
    "    def map_operator(self):\n",
    "        mapped_op_list = []\n",
    "        for i, op in enumerate(self.ops_split):\n",
    "            if len(op[\"indices\"]) == 2 and op[\"indices\"][0] == op[\"indices\"][1]:\n",
    "                mapped_op_list.append(self._map_number_op(op))\n",
    "            elif len(op[\"indices\"]) == 2 and op[\"indices\"][0] != op[\"indices\"][1]:\n",
    "                mapped_op_list.append(self._map_two_body_hop_op(op))\n",
    "            \n",
    "        return mapped_op_list\n",
    "\n",
    "    def _map_number_op(self, op):\n",
    "\n",
    "        return None\n",
    "    \n",
    "    def _map_two_body_hop_op(self, op):\n",
    "        # p > q:\n",
    "        # (X - iY)_p Z_p-1 ... Z_q+1 (X + iY)_q\n",
    "\n",
    "        mapped_op = []\n",
    "        norm = 1./4\n",
    "\n",
    "        idx0 = op[\"indices\"][0]\n",
    "        idx1 = op[\"indices\"][1]\n",
    "\n",
    "        mapped_op.append((\n",
    "            (self.num_qubits - idx0 - 1) * \"I\" + \"X\" + (idx0 - idx1 - 1) * \"Z\" + \"X\" + idx1 * \"I\",\n",
    "            op[\"coeff\"] * norm\n",
    "        ))\n",
    "        mapped_op.append((\n",
    "            (self.num_qubits - idx0 - 1) * \"I\" + \"Y\" + (idx0 - idx1 - 1) * \"Z\" + \"X\" + idx1 * \"I\",\n",
    "            - 1.j * op[\"coeff\"] * norm\n",
    "        ))\n",
    "        mapped_op.append((\n",
    "            (self.num_qubits - idx0 - 1) * \"I\" + \"X\" + (idx0 - idx1 - 1) * \"Z\" + \"Y\" + idx1 * \"I\",\n",
    "            1.j * op[\"coeff\"] * norm\n",
    "        ))\n",
    "        mapped_op.append((\n",
    "            (self.num_qubits - idx0 - 1) * \"I\" + \"Y\" + (idx0 - idx1 - 1) * \"Z\" + \"Y\" + idx1 * \"I\",\n",
    "            op[\"coeff\"] * norm\n",
    "        ))\n",
    "\n",
    "        return SparsePauliOp.from_list(mapped_op)\n"
   ]
  },
  {
   "cell_type": "code",
   "execution_count": 26,
   "metadata": {},
   "outputs": [
    {
     "name": "stdout",
     "output_type": "stream",
     "text": [
      "SparsePauliOp(['XZX', 'YZX', 'XZY', 'YZY'],\n",
      "              coeffs=[0.25+0.j  , 0.  -0.25j, 0.  +0.25j, 0.25+0.j  ])\n",
      "SparsePauliOp(['IXX', 'IYX', 'IXY', 'IYY'],\n",
      "              coeffs=[0.25+0.j  , 0.  -0.25j, 0.  +0.25j, 0.25+0.j  ])\n",
      "SparsePauliOp(['IIXXII', 'IIYXII', 'IIXYII', 'IIYYII'],\n",
      "              coeffs=[0.25+0.j  , 0.  -0.25j, 0.  +0.25j, 0.25+0.j  ])\n",
      "SparsePauliOp(['XXI', 'YXI', 'XYI', 'YYI'],\n",
      "              coeffs=[0.25+0.j  , 0.  -0.25j, 0.  +0.25j, 0.25+0.j  ])\n",
      "SparsePauliOp(['IXXII', 'IYXII', 'IXYII', 'IYYII'],\n",
      "              coeffs=[0.25+0.j  , 0.  -0.25j, 0.  +0.25j, 0.25+0.j  ])\n",
      "SparsePauliOp(['IXXII', 'IYXII', 'IXYII', 'IYYII'],\n",
      "              coeffs=[0.25+0.j  , 0.  -0.25j, 0.  +0.25j, 0.25+0.j  ])\n",
      "None\n"
     ]
    }
   ],
   "source": [
    "# test cases:\n",
    "op_list = [\n",
    "    # ({second_q-operator: coefficient}, num_qubits)\n",
    "    ({\"+_2 -_0\": 1.0}, 3),  # a^dagger_2 a_0\n",
    "    ({\"-_1 +_0\": 1.0}, 3),  # a_1 a^dagger_0\n",
    "    ({\"+_0 -_2\": 1.0}, 3),  # a^dagger_0 a_2\n",
    "    ({\"-_2 +_1\": 1.0}, 3),  # a_2 a^dagger_1\n",
    "    ({\"+_1 -_2\": 1.0}, 3),  # a^dagger_1 a_2\n",
    "    ({\"-_1 +_2\": 1.0}, 3),  # a_1 a^dagger_2\n",
    "    ({\"+_1 -_1\": 1.0}, 3),  # a^dagger_1 a_1\n",
    "]\n",
    "\n",
    "op_mapped = []\n",
    "for op in op_list:\n",
    "    ferm = FermionicOperator(op[0], num_qubits=op[1])\n",
    "    op_mapped.append(ferm.map_operator()[0])\n",
    "    print(op_mapped[-1])"
   ]
  },
  {
   "cell_type": "code",
   "execution_count": 27,
   "metadata": {},
   "outputs": [],
   "source": [
    "test_ops = {\n",
    "    \"+_2 -_0\": SparsePauliOp(\n",
    "        [\"XZY\", \"XZX\", \"YZY\", \"YZX\"],\n",
    "        coeffs=[0.0 + 0.25j, 0.25 + 0.0j, 0.25 + 0.0j, 0.0 - 0.25j],\n",
    "    ),\n",
    "    \"-_1 +_0\": SparsePauliOp(\n",
    "        [\"IXY\", \"IXX\", \"IYY\", \"IYX\"],\n",
    "        coeffs=[0.0 + 0.25j, -0.25 + 0.0j, -0.25 + 0.0j, 0.0 - 0.25j],\n",
    "    ),\n",
    "    \"+_0 -_2\": SparsePauliOp(\n",
    "        [\"XZY\", \"YZY\", \"XZX\", \"YZX\"],\n",
    "        coeffs=[0.0 - 0.25j, 0.25 + 0.0j, 0.25 + 0.0j, 0.0 + 0.25j],\n",
    "    ),\n",
    "    \"-_2 +_1\": SparsePauliOp(\n",
    "        [\"XYI\", \"XXI\", \"YYI\", \"YXI\"],\n",
    "        coeffs=[0.0 + 0.25j, -0.25 + 0.0j, -0.25 + 0.0j, 0.0 - 0.25j],\n",
    "    ),\n",
    "    \"+_1 -_2\": SparsePauliOp(\n",
    "        [\"XYI\", \"YYI\", \"XXI\", \"YXI\"],\n",
    "        coeffs=[0.0 - 0.25j, 0.25 + 0.0j, 0.25 + 0.0j, 0.0 + 0.25j],\n",
    "    ),\n",
    "    \"-_1 +_2\": SparsePauliOp(\n",
    "        [\"XYI\", \"YYI\", \"XXI\", \"YXI\"],\n",
    "        coeffs=[0.0 - 0.25j, -0.25 + 0.0j, -0.25 + 0.0j, 0.0 + 0.25j],\n",
    "    ),\n",
    "    \"+_1 -_1\": SparsePauliOp(\n",
    "        [\"III\", \"IZI\"],\n",
    "        coeffs=[0.5 + 0.0j, -0.5 + 0.0j]\n",
    "    ),\n",
    "}"
   ]
  },
  {
   "cell_type": "code",
   "execution_count": 28,
   "metadata": {},
   "outputs": [
    {
     "name": "stdout",
     "output_type": "stream",
     "text": [
      "+_2 -_0 correctly mapped: True\n",
      "-_1 +_0 correctly mapped: False\n",
      "+_0 -_2 correctly mapped: False\n",
      "-_2 +_1 correctly mapped: False\n",
      "+_1 -_2 correctly mapped: False\n",
      "-_1 +_2 correctly mapped: False\n",
      "+_1 -_1 correctly mapped: False\n"
     ]
    }
   ],
   "source": [
    "for i, k in enumerate(test_ops):\n",
    "    print(f\"{k} correctly mapped: \", end=\"\")\n",
    "    if op_mapped[i] is not None:\n",
    "        print(op_mapped[i].sort() == test_ops[k].sort())\n",
    "    else:\n",
    "        print(False)"
   ]
  },
  {
   "cell_type": "code",
   "execution_count": null,
   "metadata": {},
   "outputs": [],
   "source": []
  }
 ],
 "metadata": {
  "kernelspec": {
   "display_name": "aqa-env",
   "language": "python",
   "name": "python3"
  },
  "language_info": {
   "codemirror_mode": {
    "name": "ipython",
    "version": 3
   },
   "file_extension": ".py",
   "mimetype": "text/x-python",
   "name": "python",
   "nbconvert_exporter": "python",
   "pygments_lexer": "ipython3",
   "version": "3.11.5"
  }
 },
 "nbformat": 4,
 "nbformat_minor": 2
}
