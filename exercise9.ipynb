{
 "cells": [
  {
   "cell_type": "code",
   "execution_count": 1,
   "metadata": {},
   "outputs": [],
   "source": [
    "from qiskit_nature.second_q.mappers import JordanWignerMapper\n",
    "from qiskit_nature.second_q.operators import FermionicOp\n",
    "from qiskit_nature.settings import QiskitNatureSettings\n",
    "\n",
    "QiskitNatureSettings.use_pauli_sum_op = False\n",
    "\n",
    "from qiskit import QuantumCircuit, QuantumRegister\n",
    "from qiskit.circuit.library import PauliEvolutionGate\n",
    "from qiskit.quantum_info import Statevector\n",
    "\n",
    "import numpy as np\n",
    "import matplotlib.pyplot as plt"
   ]
  },
  {
   "cell_type": "markdown",
   "metadata": {},
   "source": [
    "## Exercise\n",
    "\n",
    "The Hubbard model is a prototypical model in condensed matter physics that describes electrons moving on a lattice. In its simplest form, each lattice site can be occupied by two electrons, one with spin up, one with spin down.\n",
    "The Hamiltonian reads\n",
    "$$H = - t \\sum_{i,\\sigma} a^\\dagger_{i,\\sigma} a_{i+1,\\sigma} + a^\\dagger_{i+1,\\sigma} a_{i,\\sigma} + U \\sum_i n_{i, \\uparrow} n_{i, \\downarrow} \\ ,$$\n",
    "where the $i$ index runs over all sites of the lattice and $\\sigma \\in \\{ \\uparrow, \\downarrow \\}$ denotes the spin of the electrons. $a^\\dagger, a$ are creation and annihilation operators, respectively, and $n_{i, \\sigma} =  a^\\dagger_{i,\\sigma} a_{i,\\sigma}$ is the corresponding number operator.\n",
    "The first term $\\propto t$ is the kinetic energy term and is responsible for electrons hopping between neighboring lattice sites. The second term $\\propto U$ corresponds to the potential energy mediated by the Coulomb repulsion, meaning electrons will pay an energy penalty if they occupy the same site.\n",
    "\n",
    "You are given the Hamiltonian of a 2-site Hubbard model (corresponding to four qubits since each site can have spin up and spin down) in the format of a dictionary like we implemented in last week's exercise.\n",
    "The qubit register is structured such that $\\bigotimes_i | q_{i,\\uparrow} q_{i,\\downarrow} \\rangle$. In our 2-site case, this means $|q_{0, \\uparrow} q_{0, \\downarrow} q_{1, \\uparrow} q_{1, \\downarrow}  \\rangle$, i.e. the first two qubits encode the occupation of site-0 with a spin-up or -down electron, respectively, while the last two qubits encode the occupation of site-1 with a spin-up or -down electron.\n",
    "- Map the operator to Pauli-strings using `qiskit-nature`'s built-in operator class `FermionicOp` and the `JordanWignerMapper`\n",
    "- Then compute the time evolution using Trotter circuits generated with Qiskit's `PauliEvolutionGate`\n",
    "    - initializing the system in the localized (on site 0) state $|1100 \\rangle$\n",
    "    - for final time $t=5$ and $N_t=50$ time steps\n",
    "-  Compute the following two observables for every time step (you can simply do this by evaluating exact statevectors)\n",
    "    - the overlap with the localized (initial state) state\n",
    "    - the sum of the number operators on site 0 and 1, $n_0 = n_{0, \\uparrow} + n_{0, \\downarrow}$\n",
    "- Plot the results for both quantities"
   ]
  },
  {
   "cell_type": "code",
   "execution_count": 12,
   "metadata": {},
   "outputs": [],
   "source": [
    "num_orbitals = 4\n",
    "op_dict = {\n",
    "    \"+_2 -_0\": -1,\n",
    "    \"+_0 -_2\": -1,\n",
    "    \"+_3 -_1\": -1,\n",
    "    \"+_1 -_3\": -1,\n",
    "    \"+_0 -_0 +_1 -_1\": 0.5,\n",
    "    \"+_2 -_2 +_3 -_3\": 0.5,\n",
    "}"
   ]
  },
  {
   "cell_type": "markdown",
   "metadata": {},
   "source": [
    "## Solution"
   ]
  },
  {
   "cell_type": "code",
   "execution_count": 13,
   "metadata": {},
   "outputs": [],
   "source": [
    "sec_q_op = FermionicOp(op_dict)"
   ]
  },
  {
   "cell_type": "code",
   "execution_count": 14,
   "metadata": {},
   "outputs": [
    {
     "name": "stdout",
     "output_type": "stream",
     "text": [
      "SparsePauliOp(['IXZX', 'IYZY', 'XZXI', 'YZYI', 'IIII', 'IIZI', 'IIIZ', 'IIZZ', 'ZIII', 'IZII', 'ZZII'],\n",
      "              coeffs=[-0.5  +0.j, -0.5  +0.j, -0.5  +0.j, -0.5  +0.j,  0.25 +0.j, -0.125+0.j,\n",
      " -0.125+0.j,  0.125+0.j, -0.125+0.j, -0.125+0.j,  0.125+0.j])\n"
     ]
    }
   ],
   "source": [
    "mapper = JordanWignerMapper()\n",
    "\n",
    "pauli_strings = mapper.map(sec_q_op, register_length=num_orbitals)\n",
    "\n",
    "print(pauli_strings)"
   ]
  },
  {
   "cell_type": "code",
   "execution_count": 52,
   "metadata": {},
   "outputs": [
    {
     "name": "stdout",
     "output_type": "stream",
     "text": [
      "{'0000': 6.224664490312708e-66, '0001': 3.173395501733463e-34, '0010': 7.251896661013336e-34, '0011': 0.9801659131709792, '0100': 5.348422037242055e-36, '0101': 7.805935746934762e-66, '0110': 0.009867375749639348, '0111': 1.619208409228566e-33, '1000': 7.300518033755703e-36, '1001': 0.009867375749639345, '1010': 1.611298329267121e-67, '1011': 5.148073977215314e-34, '1100': 9.933532973981963e-05, '1101': 1.6300646223398064e-35, '1110': 2.3621359615061944e-35, '1111': 9.782844140675505e-67}\n"
     ]
    },
    {
     "ename": "KeyError",
     "evalue": "('1', '1')",
     "output_type": "error",
     "traceback": [
      "\u001b[0;31m---------------------------------------------------------------------------\u001b[0m",
      "\u001b[0;31mKeyError\u001b[0m                                  Traceback (most recent call last)",
      "\u001b[1;32m/home/ar/projects/aqa/exercise9.ipynb Cell 7\u001b[0m line \u001b[0;36m2\n\u001b[1;32m     <a href='vscode-notebook-cell://wsl%2Bubuntu-20.04/home/ar/projects/aqa/exercise9.ipynb#W5sdnNjb2RlLXJlbW90ZQ%3D%3D?line=24'>25</a>\u001b[0m overlaps\u001b[39m.\u001b[39mappend(np\u001b[39m.\u001b[39mabs(overlap) \u001b[39m*\u001b[39m\u001b[39m*\u001b[39m \u001b[39m2\u001b[39m)\n\u001b[1;32m     <a href='vscode-notebook-cell://wsl%2Bubuntu-20.04/home/ar/projects/aqa/exercise9.ipynb#W5sdnNjb2RlLXJlbW90ZQ%3D%3D?line=26'>27</a>\u001b[0m \u001b[39mprint\u001b[39m(psi_t\u001b[39m.\u001b[39mprobabilities_dict())\n\u001b[0;32m---> <a href='vscode-notebook-cell://wsl%2Bubuntu-20.04/home/ar/projects/aqa/exercise9.ipynb#W5sdnNjb2RlLXJlbW90ZQ%3D%3D?line=27'>28</a>\u001b[0m occupation_0 \u001b[39m=\u001b[39m psi_t\u001b[39m.\u001b[39;49mprobabilities_dict()[(\u001b[39m'\u001b[39;49m\u001b[39m1\u001b[39;49m\u001b[39m'\u001b[39;49m, \u001b[39m'\u001b[39;49m\u001b[39m1\u001b[39;49m\u001b[39m'\u001b[39;49m)]\n\u001b[1;32m     <a href='vscode-notebook-cell://wsl%2Bubuntu-20.04/home/ar/projects/aqa/exercise9.ipynb#W5sdnNjb2RlLXJlbW90ZQ%3D%3D?line=28'>29</a>\u001b[0m occupation_1 \u001b[39m=\u001b[39m psi_t\u001b[39m.\u001b[39mprobabilities_dict()[(\u001b[39m'\u001b[39m\u001b[39m1\u001b[39m\u001b[39m'\u001b[39m, \u001b[39m'\u001b[39m\u001b[39m0\u001b[39m\u001b[39m'\u001b[39m)]\n\u001b[1;32m     <a href='vscode-notebook-cell://wsl%2Bubuntu-20.04/home/ar/projects/aqa/exercise9.ipynb#W5sdnNjb2RlLXJlbW90ZQ%3D%3D?line=29'>30</a>\u001b[0m num_operator_sum \u001b[39m=\u001b[39m occupation_0 \u001b[39m+\u001b[39m occupation_1\n",
      "\u001b[0;31mKeyError\u001b[0m: ('1', '1')"
     ]
    }
   ],
   "source": [
    "t_final = 5\n",
    "N_t = 50\n",
    "dt = t_final / N_t\n",
    "\n",
    "psi_init = Statevector.from_label(\"0011\")\n",
    "\n",
    "evo_gate = PauliEvolutionGate(pauli_strings, time=dt)\n",
    "qreg = QuantumRegister(num_orbitals)\n",
    "\n",
    "## initialize the quantum circuit\n",
    "qc = QuantumCircuit(qreg)\n",
    "qc.initialize(psi_init.data, qreg)\n",
    "\n",
    "\n",
    "overlaps = []\n",
    "sum_of_ops = []\n",
    "times = np.linspace(0, t_final, N_t + 1)\n",
    "for t in times:\n",
    "    qc.append(evo_gate, qargs=qreg)\n",
    "    qc.barrier()\n",
    "\n",
    "    psi_t = Statevector(qc)\n",
    "    overlap = psi_t.inner(psi_init)\n",
    "    \n",
    "    overlaps.append(np.abs(overlap) ** 2)\n",
    "\n",
    "    print(psi_t.probabilities_dict())\n",
    "    occupation_0 = psi_t.probabilities_dict()['1100']\n",
    "    occupation_0 += psi_t.probabilities_dict()['1001']\n",
    "    occupation_1 = psi_t.probabilities_dict()['0110']\n",
    "    occupation_1 += psi_t.probabilities_dict()['0011']\n",
    "    num_operator_sum = occupation_0 + occupation_1\n",
    "    occupation_1 = psi_t.probabilities_dict()[('1', '0')]\n",
    "    num_operator_sum = occupation_0 + occupation_1\n",
    "    \n",
    "    sum_of_ops.append((overlap, num_operator_sum))\n",
    "    "
   ]
  },
  {
   "cell_type": "code",
   "execution_count": 49,
   "metadata": {},
   "outputs": [
    {
     "ename": "ValueError",
     "evalue": "x and y must have same first dimension, but have shapes (51,) and (1,)",
     "output_type": "error",
     "traceback": [
      "\u001b[0;31m---------------------------------------------------------------------------\u001b[0m",
      "\u001b[0;31mValueError\u001b[0m                                Traceback (most recent call last)",
      "\u001b[1;32m/home/ar/projects/aqa/exercise9.ipynb Cell 8\u001b[0m line \u001b[0;36m1\n\u001b[0;32m----> <a href='vscode-notebook-cell://wsl%2Bubuntu-20.04/home/ar/projects/aqa/exercise9.ipynb#X10sdnNjb2RlLXJlbW90ZQ%3D%3D?line=0'>1</a>\u001b[0m plt\u001b[39m.\u001b[39;49mplot(times, overlaps)\n\u001b[1;32m      <a href='vscode-notebook-cell://wsl%2Bubuntu-20.04/home/ar/projects/aqa/exercise9.ipynb#X10sdnNjb2RlLXJlbW90ZQ%3D%3D?line=1'>2</a>\u001b[0m plt\u001b[39m.\u001b[39mxlabel(\u001b[39m\"\u001b[39m\u001b[39mTime\u001b[39m\u001b[39m\"\u001b[39m)\n\u001b[1;32m      <a href='vscode-notebook-cell://wsl%2Bubuntu-20.04/home/ar/projects/aqa/exercise9.ipynb#X10sdnNjb2RlLXJlbW90ZQ%3D%3D?line=2'>3</a>\u001b[0m plt\u001b[39m.\u001b[39mylabel(\u001b[39m\"\u001b[39m\u001b[39mOverlap\u001b[39m\u001b[39m\"\u001b[39m)\n",
      "File \u001b[0;32m~/miniconda3/envs/aqa/lib/python3.11/site-packages/matplotlib/pyplot.py:3578\u001b[0m, in \u001b[0;36mplot\u001b[0;34m(scalex, scaley, data, *args, **kwargs)\u001b[0m\n\u001b[1;32m   3570\u001b[0m \u001b[39m@_copy_docstring_and_deprecators\u001b[39m(Axes\u001b[39m.\u001b[39mplot)\n\u001b[1;32m   3571\u001b[0m \u001b[39mdef\u001b[39;00m \u001b[39mplot\u001b[39m(\n\u001b[1;32m   3572\u001b[0m     \u001b[39m*\u001b[39margs: \u001b[39mfloat\u001b[39m \u001b[39m|\u001b[39m ArrayLike \u001b[39m|\u001b[39m \u001b[39mstr\u001b[39m,\n\u001b[0;32m   (...)\u001b[0m\n\u001b[1;32m   3576\u001b[0m     \u001b[39m*\u001b[39m\u001b[39m*\u001b[39mkwargs,\n\u001b[1;32m   3577\u001b[0m ) \u001b[39m-\u001b[39m\u001b[39m>\u001b[39m \u001b[39mlist\u001b[39m[Line2D]:\n\u001b[0;32m-> 3578\u001b[0m     \u001b[39mreturn\u001b[39;00m gca()\u001b[39m.\u001b[39;49mplot(\n\u001b[1;32m   3579\u001b[0m         \u001b[39m*\u001b[39;49margs,\n\u001b[1;32m   3580\u001b[0m         scalex\u001b[39m=\u001b[39;49mscalex,\n\u001b[1;32m   3581\u001b[0m         scaley\u001b[39m=\u001b[39;49mscaley,\n\u001b[1;32m   3582\u001b[0m         \u001b[39m*\u001b[39;49m\u001b[39m*\u001b[39;49m({\u001b[39m\"\u001b[39;49m\u001b[39mdata\u001b[39;49m\u001b[39m\"\u001b[39;49m: data} \u001b[39mif\u001b[39;49;00m data \u001b[39mis\u001b[39;49;00m \u001b[39mnot\u001b[39;49;00m \u001b[39mNone\u001b[39;49;00m \u001b[39melse\u001b[39;49;00m {}),\n\u001b[1;32m   3583\u001b[0m         \u001b[39m*\u001b[39;49m\u001b[39m*\u001b[39;49mkwargs,\n\u001b[1;32m   3584\u001b[0m     )\n",
      "File \u001b[0;32m~/miniconda3/envs/aqa/lib/python3.11/site-packages/matplotlib/axes/_axes.py:1721\u001b[0m, in \u001b[0;36mAxes.plot\u001b[0;34m(self, scalex, scaley, data, *args, **kwargs)\u001b[0m\n\u001b[1;32m   1478\u001b[0m \u001b[39m\u001b[39m\u001b[39m\"\"\"\u001b[39;00m\n\u001b[1;32m   1479\u001b[0m \u001b[39mPlot y versus x as lines and/or markers.\u001b[39;00m\n\u001b[1;32m   1480\u001b[0m \n\u001b[0;32m   (...)\u001b[0m\n\u001b[1;32m   1718\u001b[0m \u001b[39m(``'green'``) or hex strings (``'#008000'``).\u001b[39;00m\n\u001b[1;32m   1719\u001b[0m \u001b[39m\"\"\"\u001b[39;00m\n\u001b[1;32m   1720\u001b[0m kwargs \u001b[39m=\u001b[39m cbook\u001b[39m.\u001b[39mnormalize_kwargs(kwargs, mlines\u001b[39m.\u001b[39mLine2D)\n\u001b[0;32m-> 1721\u001b[0m lines \u001b[39m=\u001b[39m [\u001b[39m*\u001b[39m\u001b[39mself\u001b[39m\u001b[39m.\u001b[39m_get_lines(\u001b[39mself\u001b[39m, \u001b[39m*\u001b[39margs, data\u001b[39m=\u001b[39mdata, \u001b[39m*\u001b[39m\u001b[39m*\u001b[39mkwargs)]\n\u001b[1;32m   1722\u001b[0m \u001b[39mfor\u001b[39;00m line \u001b[39min\u001b[39;00m lines:\n\u001b[1;32m   1723\u001b[0m     \u001b[39mself\u001b[39m\u001b[39m.\u001b[39madd_line(line)\n",
      "File \u001b[0;32m~/miniconda3/envs/aqa/lib/python3.11/site-packages/matplotlib/axes/_base.py:303\u001b[0m, in \u001b[0;36m_process_plot_var_args.__call__\u001b[0;34m(self, axes, data, *args, **kwargs)\u001b[0m\n\u001b[1;32m    301\u001b[0m     this \u001b[39m+\u001b[39m\u001b[39m=\u001b[39m args[\u001b[39m0\u001b[39m],\n\u001b[1;32m    302\u001b[0m     args \u001b[39m=\u001b[39m args[\u001b[39m1\u001b[39m:]\n\u001b[0;32m--> 303\u001b[0m \u001b[39myield from\u001b[39;00m \u001b[39mself\u001b[39;49m\u001b[39m.\u001b[39;49m_plot_args(\n\u001b[1;32m    304\u001b[0m     axes, this, kwargs, ambiguous_fmt_datakey\u001b[39m=\u001b[39;49mambiguous_fmt_datakey)\n",
      "File \u001b[0;32m~/miniconda3/envs/aqa/lib/python3.11/site-packages/matplotlib/axes/_base.py:499\u001b[0m, in \u001b[0;36m_process_plot_var_args._plot_args\u001b[0;34m(self, axes, tup, kwargs, return_kwargs, ambiguous_fmt_datakey)\u001b[0m\n\u001b[1;32m    496\u001b[0m     axes\u001b[39m.\u001b[39myaxis\u001b[39m.\u001b[39mupdate_units(y)\n\u001b[1;32m    498\u001b[0m \u001b[39mif\u001b[39;00m x\u001b[39m.\u001b[39mshape[\u001b[39m0\u001b[39m] \u001b[39m!=\u001b[39m y\u001b[39m.\u001b[39mshape[\u001b[39m0\u001b[39m]:\n\u001b[0;32m--> 499\u001b[0m     \u001b[39mraise\u001b[39;00m \u001b[39mValueError\u001b[39;00m(\u001b[39mf\u001b[39m\u001b[39m\"\u001b[39m\u001b[39mx and y must have same first dimension, but \u001b[39m\u001b[39m\"\u001b[39m\n\u001b[1;32m    500\u001b[0m                      \u001b[39mf\u001b[39m\u001b[39m\"\u001b[39m\u001b[39mhave shapes \u001b[39m\u001b[39m{\u001b[39;00mx\u001b[39m.\u001b[39mshape\u001b[39m}\u001b[39;00m\u001b[39m and \u001b[39m\u001b[39m{\u001b[39;00my\u001b[39m.\u001b[39mshape\u001b[39m}\u001b[39;00m\u001b[39m\"\u001b[39m)\n\u001b[1;32m    501\u001b[0m \u001b[39mif\u001b[39;00m x\u001b[39m.\u001b[39mndim \u001b[39m>\u001b[39m \u001b[39m2\u001b[39m \u001b[39mor\u001b[39;00m y\u001b[39m.\u001b[39mndim \u001b[39m>\u001b[39m \u001b[39m2\u001b[39m:\n\u001b[1;32m    502\u001b[0m     \u001b[39mraise\u001b[39;00m \u001b[39mValueError\u001b[39;00m(\u001b[39mf\u001b[39m\u001b[39m\"\u001b[39m\u001b[39mx and y can be no greater than 2D, but have \u001b[39m\u001b[39m\"\u001b[39m\n\u001b[1;32m    503\u001b[0m                      \u001b[39mf\u001b[39m\u001b[39m\"\u001b[39m\u001b[39mshapes \u001b[39m\u001b[39m{\u001b[39;00mx\u001b[39m.\u001b[39mshape\u001b[39m}\u001b[39;00m\u001b[39m and \u001b[39m\u001b[39m{\u001b[39;00my\u001b[39m.\u001b[39mshape\u001b[39m}\u001b[39;00m\u001b[39m\"\u001b[39m)\n",
      "\u001b[0;31mValueError\u001b[0m: x and y must have same first dimension, but have shapes (51,) and (1,)"
     ]
    },
    {
     "data": {
      "image/png": "[encoded data removed]",
      "text/plain": [
       "<Figure size 640x480 with 1 Axes>"
      ]
     },
     "metadata": {},
     "output_type": "display_data"
    }
   ],
   "source": [
    "plt.plot(times, overlaps)\n",
    "plt.xlabel(\"Time\")\n",
    "plt.ylabel(\"Overlap\")"
   ]
  },
  {
   "cell_type": "code",
   "execution_count": null,
   "metadata": {},
   "outputs": [],
   "source": [
    "# Sum of operators at "
   ]
  },
  {
   "cell_type": "code",
   "execution_count": null,
   "metadata": {},
   "outputs": [],
   "source": []
  }
 ],
 "metadata": {
  "kernelspec": {
   "display_name": "aqa-env",
   "language": "python",
   "name": "python3"
  },
  "language_info": {
   "codemirror_mode": {
    "name": "ipython",
    "version": 3
   },
   "file_extension": ".py",
   "mimetype": "text/x-python",
   "name": "python",
   "nbconvert_exporter": "python",
   "pygments_lexer": "ipython3",
   "version": "3.11.5"
  }
 },
 "nbformat": 4,
 "nbformat_minor": 2
}
